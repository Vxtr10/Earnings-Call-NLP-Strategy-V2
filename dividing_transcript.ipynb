{
 "cells": [
  {
   "cell_type": "code",
   "execution_count": 16,
   "metadata": {},
   "outputs": [],
   "source": [
    "import requests\n",
    "from bs4 import BeautifulSoup\n",
    "import json\n",
    "import pandas as pd\n",
    "import time\n",
    "import numpy as np\n",
    "from datetime import datetime\n",
    "import yfinance as yf\n",
    "import os\n",
    "import glob\n",
    "import regex as re\n",
    "import csv"
   ]
  },
  {
   "cell_type": "code",
   "execution_count": null,
   "metadata": {},
   "outputs": [],
   "source": [
    "# Dividing the transcript into:\n",
    "# 1. Pre-release & safe harbour\n",
    "# 2. Q&A\n",
    "# ----------------------------------------------------------------\n",
    "# Divide Q&A further into:\n",
    "# 3. Analysts Questions\n",
    "# 4. Management Replies"
   ]
  },
  {
   "cell_type": "code",
   "execution_count": 58,
   "metadata": {},
   "outputs": [],
   "source": [
    "def get_transcript(path):\n",
    "    mytranscript = pd.read_csv(path).iloc[[2]].values[0][0] \n",
    "    mytranscript = re.sub(r'[^A-Za-z0-9.,:!\\'\\n ]', '', mytranscript)\n",
    "    mytranscript = re.sub('[^\\S\\n]+', ' ', mytranscript) #replaces multiple spaces to single space, without deleting newlines \\n in the process\n",
    "    mytranscript = mytranscript.splitlines() # finds transcript\n",
    "    return mytranscript"
   ]
  },
  {
   "cell_type": "code",
   "execution_count": 56,
   "metadata": {},
   "outputs": [],
   "source": [
    "def split_transcript(mytranscript):    \n",
    "    transcript_safe_harbour, transcript_questions = \"\", \"\"\n",
    "    for i in range(0, len(mytranscript)):\n",
    "        speech_bubble = mytranscript[i].lower()\n",
    "        speech_bubble = re.sub(r'[^\\w\\s:]', ' ', speech_bubble) # regex: replaces all punctuations (except for \":\") with 1 open space so the IF condition below can run smoothly\n",
    "        # finds the following condition (what operator says) and splits the transcript into 2)\n",
    "        if (i > 2) and ((\"operator:\" in speech_bubble) and ((\"question\" in speech_bubble) or (\"go ahead\" in speech_bubble) or (\"operator instructions\" in speech_bubble))):\n",
    "            transcript_safe_harbour = mytranscript[0:i]\n",
    "            transcript_questions = mytranscript[i:]\n",
    "            break\n",
    "    return transcript_safe_harbour, transcript_questions"
   ]
  },
  {
   "cell_type": "code",
   "execution_count": 111,
   "metadata": {},
   "outputs": [],
   "source": [
    "def get_file_speaker_names(sector, stock):\n",
    "    write_path = \"sectors/\"+sector+\"/\"+stock+\"/\"+\"speaker names.csv\"\n",
    "    speaker_names = np.loadtxt(write_path, delimiter=', ', dtype=str)\n",
    "    return speaker_names\n"
   ]
  },
  {
   "cell_type": "code",
   "execution_count": 73,
   "metadata": {},
   "outputs": [
    {
     "name": "stdout",
     "output_type": "stream",
     "text": [
      "Mike Rollins\n"
     ]
    }
   ],
   "source": [
    "# PROBLEM: In the text below, the operator mentions Michael Rollinswtih, however, the speaker name is registered as Mike Rollins.\n",
    "# Operator: Okay, thank you sir. And that will come from Michael Rollinswtih with Citi. Please go ahead.\n",
    "# Mike Rollins: Thanks for taking the questions. Two, if I could. First, as we think about your move to consumption-based pricing and we also think about some of the changes in the sizes of the buckets for data, can you give us a sense of what's happening as you increase the data buckets, you try to encourage customers to spend more on data? Are you getting more in data revenue relative to those that might have started at a higher plan and can use the same amount, but moved to a cheaper bucket? Then the second question is if you just had an update on the regulatory process with the DIRECTV deal. I think the FCC put out an update on their clock today, and I am just curious if you could talk about the implications of that and any update from your perspective. Thanks\n",
    "\n",
    "# Solution:\n",
    "mytext = \"Michael Rollinswtih\"\n",
    "mystr = \"Mike Rollins\"\n",
    "mylist = mystr.split()\n",
    "if (mylist[0] in mytext) or (mylist[-1] in mytext):\n",
    "    print(mystr)"
   ]
  },
  {
   "cell_type": "code",
   "execution_count": 112,
   "metadata": {},
   "outputs": [],
   "source": [
    "# finds a list of analyst names for a single .csv file\n",
    "def find_analyst_names(speaker_names, transcript_questions):\n",
    "    analyst_names = []\n",
    "    # the programme recognises the question is being asked by an analyst when the following conditions are met:\n",
    "    for index in range(0, len(transcript_questions)-2):\n",
    "        speech_bubble = transcript_questions[index].lower()\n",
    "        speech_bubble = re.sub(r'[^\\w\\s:]', ' ', speech_bubble) # regex: replaces all punctuations (except for \":\") with 1 open space \n",
    "        if \"operator:\" in speech_bubble:\n",
    "            for name in speaker_names:\n",
    "                namelist = name.split()\n",
    "                if name.lower() != \"operator\": \n",
    "                    for name_2 in namelist: # cycle through each name in the name_list\n",
    "                        name_2 = name_2.lower()\n",
    "                        # checks if the speaker name happens to be in the speech_bubble, if it is, then the person speaking is an analyst\n",
    "                        # also len(name) > 2 is used to avoid the problem with single letters being registered as in the speech_bubble \n",
    "                        # (e.g. the letter \"A\" in the name \"A Gayn Erickson\" will be in the speech_bubble, but Gayn Erickson is not an analyst, so \"A\" is not counted)\n",
    "                        if (name_2 in speech_bubble) and len(name_2) > 2:\n",
    "                            analyst_names.append(name)\n",
    "                    if \"unidentified\" in name.lower().split(): # finds name such as \"Unidentified Analyst\"\n",
    "                        analyst_names.append(name) \n",
    "                        \n",
    "    analyst_names = list(set(analyst_names)) # replaces duplicates        \n",
    "    return analyst_names"
   ]
  },
  {
   "cell_type": "code",
   "execution_count": 45,
   "metadata": {},
   "outputs": [
    {
     "data": {
      "text/plain": [
       "['Operator: Okay. Go ahead. And you can ask your question now.',\n",
       " 'Jack Vander: Okay. Great. Jack Vander here speaking from analysts from Maxim Group. How are you doing today Appreciate the update. I will throw the question for Brett. Actually, a quick housekeeping question. Just a quick one. What do you guys expect to release the full financial statements in the 10Q',\n",
       " 'Brett Moyer: Probably very soon within an hour, I guess. We might have to wait. We might be required to wait till close the market. Today regardless .',\n",
       " 'Jack Vander: Yes. No worries there. Appreciate it there. Okay. Then Brent, maybe as for the revenue guide, it looks like we are now expecting sequential growth in the third quarter and then sequential growth in the fourth quarter. Just any additional color you can provide there on the topline and then maybe any additional thoughts an overall revenue potential for 2023',\n",
       " 'Brett Moyer: Okay. So what we see and I think probably you have seen it reported out in other, since lasted to report out in other earnings calls. But we do see that the consume we saw in our own internal tracking through the WiSA association that consumer shifted a demand shifted at the end of April. So we think that has been followed up in orders coming in from our partners as well as reported out in Ph case. So we are just being more conservative until we see that demand come back. We get the consumer desire being consumers, ourselves that get the hell out of the house. But we think that turns around back in the fall. So we see sequentially growing revenue. We are just not forecasting yet how that impacts the fullyear. For 2023 What is that',\n",
       " 'Jack Vander: Understood there. And now move on to 3023 then.',\n",
       " 'Brett Moyer: So 2023, we are expecting a strong year between DS coming in, WiSA E coming in, WiSA E rolled into speakers, probably knocks a hundred dollars off of MSRP. So in the world of inflation, consumer buying a hundred dollars is everything. Every hundred dollars is higher conversions and sell through. So we think 2023 is up against this year up against last year. Whatever reference point you want to use. And we think the feedback we have gotten out of those first 12 companies that, and a couple of them are really grinding WiSA DS. It has been extremely positive, in their words, shockingly strong performance for a 2.4 GHz solution. So we think as that rolls into next year in 2024, that is a strong revenue driver.',\n",
       " 'Jack Vander: Great. And then, yes, actually just to that point, just for clarity. So WiSA DS will be shipping. This is shipping this year when exactly. And then WiSA E is there a specific timeline for that during 2023, when that is going to shipped, is it the end of the year Is there a particular quarter',\n",
       " 'Brett Moyer: Yes, so I misspoke on WiSA E in my presentation, we will actually start sampling WiSA E in Q4 this year, so there is four or five beta customers that we are talking to and we will select four or five of them, depending on our bandwidth to work with them, to test evaluate, and just like we did with DS. So that wont generate revenue, but just in terms of technology and shippable maturity, we expect to have those four or five beta customers with modules, with WiSA E to test and bang up in Q4. WiSA DS that will we will have two companies Well, we have two companies that are planning to go into production, which means we are shipping during Q4.',\n",
       " 'Jack Vander: That would be an official launch. That would be a commercial ready product in the fourth quarter with those two customers for WiSA DS',\n",
       " 'Brett Moyer: Yes.',\n",
       " 'Jack Vander: Okay, great. And then, lets see. How about your because Im waiting for the balance sheet. Im not sure maybe I missed it, but can you provide an update on your inventory levels currently And then how you expect your inventory levels to move going into two the back after this year And then just anything or you have heard or any update with your customers, with their end inventory situation',\n",
       " 'Brett Moyer: Yes. George, you want to take the inventory piece',\n",
       " 'George Oliva: Our second quarter inventory was relatively flat from Q1, but Q1, we saw an increase. As our customers have rescheduled orders out, we are also having to reschedule our vendors out. So, to the extent that we can defer the excess purchases to next year. We should start to see our inventory come down in the second half of the year. We dont really have a lot of visibility of our customers inventory. I dont know Brett, you can talk to that.',\n",
       " 'Brett Moyer: We do not. So, but we do, we are in the channel. I will say the feedback coming from the retailer side of the channel is that there is going to be healthy promotions and discounting in the fall around consumer electronics. So that leaves us to believe that as demand shift, that our customers have been chasing product, cause of all the part shortages and logistics challenge, we still see part shortage issues impacting our customers. Logistic challenges of getting stuff out of manufactured in Asia into North America or Europe seem to have abated largely, but we now have customers that are putting out large POs to try to circumvent part shortages. And now as consumer demand has shifted somewhat, at least temporarily for these four or five months, we think that builds a promotional opportunity for good discounts for consumers in the fall.',\n",
       " 'Jack Vander: Okay. Helpful color there. Well guys, I appreciate the update. Thank you, George. Thank you, Brett.',\n",
       " 'George Oliva: And just to confirm your question about the queue, the queue will be filed at the close of market.',\n",
       " 'Jack Vander: Excellent. Thank you very much, George.',\n",
       " 'David Barnard: Okay. Moving on, lets go to, it is caller number ending in 3186. I think that is Kevin, do you want to unmute your line, dial star six.',\n",
       " 'Kevin Dede: Hi Brett. Hi George. Can you hear me okay. Kevin Dede here, H.C. Wainwright.',\n",
       " 'Brett Moyer: Yes. Good morning, Kevin.',\n",
       " 'Kevin Dede: Thanks for having me on the call and thanks for the help with handling the call. Alright, so you touched on this a little bit, Brett. You touched on an abatement in source. I was hoping you could sort of add a little more color on that, I guess a little more curious about the environment in China, given the pretty testy COVID restrictions. It doesnt seem to me that you are seeing a manufacturing issue. I just wanted to confirm that.',\n",
       " 'Brett Moyer: Well, so in terms of COVID and China it is nasty, where it impacts us most is being able to send, you know, senior executives from here to there to, you know, really show the vision of the product lines. So we have to depend on people in country. We cant get in or out of China. We from a part shortage, we know there is still sporadic part shortages. So that is impacting some of our customers. And there is no question, but logistically, you know, once stuff gets built is flowing.',\n",
       " 'Kevin Dede: Great. Yes. So that is kind of where I was going. I mean, things are getting built and you see that people are able to meet orders, at least your customers see that trend, I guess strengthening which seemed to be an issue earlier in the year.',\n",
       " 'Brett Moyer: Yes. We think now whether it is because people are pushing, I mean, we have seen customers push out orders, you know, we think it is around consumer demand, so pushed out orders frees up inventory right. So we dont, we do know from, we have an ODM in China on our Board. So we do know there is still part shortages in the space, but I would say the industry has probably gone 75 to 80, back to normal.',\n",
       " 'Kevin Dede: Okay. Good to hear. So you remarked in during your presentation that brands, I guess a limited return on increased performance and I guess pixel count on large screen TVs. Right. And so you mentioned that you think they are going to try to exploit the, you know, the sound experience as an avenue to boost margin and correct. Im just wondering like, yes. Im just wondering how much real evidence do you have of that',\n",
       " 'Brett Moyer: Well, there is two brands that have been doing it, for a couple years. One is Visio and one is Samsung. So if you look at their product lines and they are merchandising at retail, they are heavily I want to say I dont want to say integrated as and they work flawlessly. But they are heavily merchandised together, number one. Number two, we have seen through the WiSA association a number of retailers that do very well with bundles. Now you can bundle a soundbar or you can bundle enclave or plat. So again, if the retailers are seeing it, the brands will see it. And then if you take one step further back in the cycle, here we are launching WiSA DS out of the 12 companies that are actively digging into it, eight of them are looking at it for soundbars.',\n",
       " 'Kevin Dede: Okay. So does that mean the soundbar comes with the television like, 3D packaged with the TV, or is it an merchandising at point of sale',\n",
       " 'Brett Moyer: But the important nuance is that, it will the TV, you will find it and turn it on with a little consumer issue. So that is our play, right. So why would you integrate WiSA DS into your TV I mean, this is what BOs has been doing with us for 10years. There is a WiSA module inside every one of their TVs. It finds every WiSA speaker in that room. So our position, which we think resonates is that, having wireless integration in the TV to with this interoperable speaker standard creates an opportunity for the TV brand to link their TV and their audio to one sale.',\n",
       " 'Kevin Dede: Okay. But the audio doesnt have to be of their brand.',\n",
       " 'Brett Moyer: It does not.',\n",
       " 'Kevin Dede: Right. That is the beauty of it. Okay.',\n",
       " 'Brett Moyer: Right.',\n",
       " 'Kevin Dede: You talked about some .',\n",
       " 'Brett Moyer: Go ahead.',\n",
       " 'Kevin Dede: No. Im sorry. I interrupted.',\n",
       " 'Brett Moyer: No. I was just going to say that is the beauty of it. Merchandising wise from pick any brands, Skyworth or LG. Merchandising, they are going to merchandise their audio with their TVs. But having interoperability less consumer flexibility exactly. Isnt that everybody wants you know, a 1,000 audio system around their TV. Someone 20,000 around their TV like a BO situation.',\n",
       " 'Kevin Dede: Okay. You mentioned Amazon as your first retail location, and I know there was one other sort of name brand. Can you just talk about I mean, you did that you would expect .',\n",
       " 'Brett Moyer: For stores.',\n",
       " 'Kevin Dede: Yes for stores, right yes, you mentioned that three to five more coming online. I was just kind of hoping you could spend on that and in conjunction, maybe talk about your confidence in the marketing spend, as you believe consumers will come back to the home experience.',\n",
       " 'Brett Moyer: Great. So right now, the stores are Amazon Beach, Electronic Express, Waltz. There is one or two that elude me right now.',\n",
       " 'Kevin Dede: There was one that began with an R if I remember correctly. Im sorry Brett keep going.',\n",
       " 'Brett Moyer: Focus, Beach, waltz, Electronic Express and Amazon. That would be six. And then there is a handful, so we think three to five will make it by year end that have expressed their desire. Some are selling platin speakers or will and some are just merchandising WiSA. So you had hi certified for being SoundSend and compatible. There will be we hope other brands. We expect other brands to certify that. So that builds a bigger base at retail and more importance to have a storefront that aggregates all the WiSA products in one place for a consumer. So why do I think consumer demand comes back I dont think consumers going back into a COVID case, hopefully none of us want to be there. But you are under incredible price pressure with inflation. If you just think about the mentality of the consumer. You got your trips in, but you are going to come back and have to figure out how to make the family budget in the fall. And I think if you have good promotions trying to align production, inventory and demand around this, there will be a surge of consumer buying. From an audio side, TVs have done really well up until Q2. So there is a lot of TVs without audio around it. But the psychology, the consumer, I think, is still get out the house at the moment. And yes, look, do we spend more or less on marketing It will depend on the results we see. I mean, we literally track it every single day.',\n",
       " 'Kevin Dede: Right. Can you speak to the results that you are seeing on Amazon I mean, I noticed that your WiSA Wave figures look like they fell off considerably from the March of the June quarter .',\n",
       " 'Brett Moyer: We took the spend down. Im sorry in Q2. We took the marketing expense down in Q2. We saw a drop right after April. So when we looked at the May results, the consumer spend pattern changed. Now that is when we look at consumers coming into WiSA, where do they go afterwards What is a conversion into a platin sale, which is super small But that is our metric. And it changed quite a bit. So it doesnt do us any good to drive consumers into the WiSA ecosystem to buy whatever product, whether it is LGTV or an enclave, if you know, they are not ready to buy. So, we dropped the fullyear guidance. We dropped spending down on our plan in Q2 and Q3. And we have most of the money shifted to September through December. After kids go back to school after summer vacation with the start of football fall, the cold and hopefully no virus.',\n",
       " 'Kevin Dede: Right. Just monkeypox. The other question kind of comes up Brett on manufacturing then do you see the WiSA connected customers able to meet demand Again, I apologize. You are just kind of going back to manufacturing as you see it in China.',\n",
       " 'Brett Moyer: Well, that is going to be SKU specific, ball parking, but I would say 80 of the SKU can meet demand now. There is certainly no reason they couldnt meet demand from our side and never have been. But there still are part shortages that are out there, but the complexity of the problem has dropped quite a bit.',\n",
       " 'Kevin Dede: Could you just sort of walk me through the timeline then in order to meet demand in the September, December timeframe products got to be in manufacturing now or soon',\n",
       " 'Brett Moyer: Correct. Has to be in manufacturing, late this October. If logistics are running well, which they currently are in other both time into a Harbor and into a port and out of the port. You have to be producing Q3 latest October. We have visibility of our Pos in Q3, therefore, right. Should they get rescheduled because of demand further down the pipe. We dont have that visibility. We have visibility now to what our customers think they want to do now because they got to build now.',\n",
       " 'Kevin Dede: Right. Okay. Yes, no, thanks for taking me through that and answering the other questions, Brett, really appreciate it.',\n",
       " 'Brett Moyer: Yes. Thanks Kevin.',\n",
       " 'David Barnard: Great. We have a couple more questions queued up. Why dont we go to it is a caller with ending in 6291. If you could unmute your line dialing star six, could we unmute, there we go, please go ahead.',\n",
       " 'Unidentified Analyst: Well good morning, you guys, I have a few questions for you, Brett. So my first question is why did you do this type of financing that you announced today. Convertible security I dont understand that. Can you explain to us why you did that',\n",
       " 'Brett Moyer: Yes, so in general we have said our preference through financing is through strategic partnerships or using the ATM. We wanted to make sure our balance sheet was strengthened for the year end, but we didnt want the dilution of, you know, an S1 at the moment at these prices. So by we wanted to let all this investment we made in the last 12months, in the next six months roll into the market assuming that gives us a better opportunity for strategic partnerships and gives us a better opportunity to finance the effort at better stock prices. So this structure allowed us to secure, strengthen the balance sheet for the year end and pay it off with the future money if we need to or pay it off monthly using an ATM next year. I mean, we have sixmonths to start making payments. And you know, when you look at it, it is with our largest shareholder. So we think it is a supportive transaction to the strategy.',\n",
       " 'Unidentified Analyst: Okay. My next question is, I can under listen, I think your share price seems to be suffering. It is been suffering for a while. I cant understand, Im a buyer of this stock. I think it is very cheap. I cant understand. And we have spoken about this before. Why havent officers and directors purchased stock at this price I dont get it.',\n",
       " 'Brett Moyer: So that is a good question. the simple answer is officers and directors are right now in a quiet period and they have been for an extended period of time. And that will extend beyond the release of these financials. So they are not allowed to buy or sell at the moment, they are locked down.',\n",
       " 'Unidentified Analyst: Can we expect some support once you release these numbers',\n",
       " 'Brett Moyer: No, that is what Im saying. Ph, the directors and the Board is in an extended quiet period, right now.',\n",
       " 'Unidentified Analyst: Okay. I respect that.',\n",
       " 'Brett Moyer: Yes. And as much as they want to, or may want to, they cannot sell or buy.',\n",
       " 'Unidentified Analyst: Okay, great. That is great. My last question to you guys, Brett, can you explain to me, Im a little confused about the announcement about the NVIDIA association. Can you go into some detail as to what that is all about and what does the future look like for the company with NVIDIA, if at all',\n",
       " 'Brett Moyer: So NVIDIA joined WiSA, which is always a great sign when technology leader joins WiSA, strengthens the overall organization. We would not like, there is a number of members in WiSA that have not launched products. So and we dont preannounce anybodys product. So it could be they are tracking us, because for some reason, we may not even know, could be they are working on a or they are working on a product. But we cant discuss anybodys products just like we cant discuss who the three TV brands are that are digging into DS WiSA and DS to possibly integrate into the TVs. And some of them are members of WiSA, some of them are not. But what we talk about is WiSA organization and memberships, retail consumer tracking, but we never talk about somebody elses product or product plans, before they are announced by the company.',\n",
       " 'Unidentified Analyst: Alright. I think it is great that seems like your work got a lot of exciting things in the future looks very bright for your company.',\n",
       " 'Brett Moyer: Like I cant say enough about the talent of the engineering team and how well we have seen DS perform under some really rigorous testing in Asia. So, we are chopping at the bit to get the WiSA emodules out and get a full product line out there to cover the whole industry.',\n",
       " 'Unidentified Analyst: Sounds great to me.',\n",
       " 'Brett Moyer: Thanks, Marty.',\n",
       " 'David Barnard: I think we have got one more question and time for one more question. So, it is the caller with ending in 6030. If you could unmute your lines by dialing star six.',\n",
       " 'Edward Woo: Yes. Thanks for taking my question. Has inflation impacted your margins at all or the stronger dollar',\n",
       " 'Brett Moyer: Yes. Who is this',\n",
       " 'Edward Woo: This is Ed Woo at Ascendiant Capital.',\n",
       " 'Brett Moyer: Okay, Ed. The voice sounded familiar and I couldnt place it. So can you repeat the question',\n",
       " 'Edward Woo: Yes. Has inflation or the strong dollar impacted your gross margins',\n",
       " 'Brett Moyer: Inflation has impacted gross margin every production run on every production run we have run for nine months has some component premium on it or assembly premium whether we are running modules or speakers. And inflation is partly driven by part shortages and partly driven by overall labor costs in the industry. But in terms of our PL, Ed, it is not the most material. It doesnt rank the Top Five things on the business.',\n",
       " 'Edward Woo: Great. And then it looks like you have a great product strategy in the U.S. heading to the holiday. Can you talk a little bit about your European and international marketing strategy for WiSA',\n",
       " 'Brett Moyer:',\n",
       " ' w: Most of our European customers are really highend audio file brands that are sold through, custom install, home theater shops. Whereas we start going out to try to talk to consumers in the millions you need some mass retail and the place we have it is in North America right now. And I think we get mass retail in Europe when we have WiSA E built into other brand speakers.',\n",
       " 'Edward Woo: Great. thanks for answering my questions and wish your guys good luck. Thank you.',\n",
       " 'Brett Moyer: Thanks Ed.',\n",
       " 'David Barnard: And we are showing no further questions. Brett, if you want to have some closing remarks.',\n",
       " 'Brett Moyer: I would like to thank everybody for joining us. The team is pretty excited about the accomplishments we have made, and looking forward to talking with you in 90days. Thank you.',\n",
       " 'Operator: Goodbye.']"
      ]
     },
     "execution_count": 45,
     "metadata": {},
     "output_type": "execute_result"
    }
   ],
   "source": [
    "transcript_questions"
   ]
  },
  {
   "cell_type": "code",
   "execution_count": 126,
   "metadata": {},
   "outputs": [
    {
     "name": "stdout",
     "output_type": "stream",
     "text": [
      "\u001b[3m\u001b[1m\u001b[4mAnalyst Speakers for AEHR20231:\u001b[0m\n",
      "['Matt Winthrop ', 'Bradford Ferguson', 'Christian Schwab ', 'Larry Chlebina ', 'Gregory Ratliff', 'Gregory Wilbur', 'Unidentified Analyst', 'Jeffrey Scott with Scott Asset Management', 'Matt Winthrop', 'Christian Schwab', 'Larry Chlebina', 'Matthew Winthrop']\n",
      "\n",
      "\n",
      "\u001b[3m\u001b[1m\u001b[4mNot Current Analyst Speakers for AEHR20231:\u001b[0m\n",
      "['Company Representatives', 'Nehal Chokshi', 'Jeffrey Scott', 'John Fichthorn', 'Ken Spink', 'Orin Hirschman', 'Operator', 'Marilynn Meek', 'Lasse Glassen', 'Kenneth Spink', 'Joe Calabrese', 'Mark Gomes', 'Charlie Doe', 'John Barton', 'Ben Rabizadeh', 'A Gayn Erickson', 'Kevin Dede', 'Dominik Schmidt', 'Jim Byers ', 'Gayn Erickson ', 'Gary Larson', 'Gary L. Larson', 'Tom Diffely', 'Geoffrey Scott', 'Frank Barresi', 'Rhea Posedel', 'Lasse Larson', 'Dylan Patel', 'John Nelson', 'Mike Dooling', 'Jon Gruber ', 'Rhea J. Posedel', 'Jon Gruber', 'Geoff Scott', 'Jeffery Scott', 'William Smart', 'Todd Kehrli', 'Scott Eckstein', 'Tyler Burmeister', 'Marty Cawthon', 'Colin Denman', 'Jim Byers', 'Gayn Erickson']\n"
     ]
    }
   ],
   "source": [
    "sector = \"semiconductors\"\n",
    "stock = \"AEHR\"\n",
    "path = \"sectors/semiconductors/AEHR/AEHR20231.csv\"\n",
    "\n",
    "analyst_names = []\n",
    "\n",
    "mytranscript = get_transcript(path)\n",
    "transcript_safe_harbour, transcript_questions = split_transcript(mytranscript)\n",
    "speaker_names = get_file_speaker_names(sector, stock)\n",
    "analyst_names = find_analyst_names(speaker_names, transcript_questions)\n",
    "print(\"\\033[3m\\033[1m\\033[4mAnalyst Speakers for AEHR20231:\\033[0m\")\n",
    "print(analyst_names)\n",
    "\n",
    "\n",
    "not_current_analyst_names = []\n",
    "\n",
    "# the rest of the names on the speaker_list are either management, or past/future analysts (analysts that are not present in the selected .csv file)\n",
    "\n",
    "for names in speaker_names:\n",
    "    if names not in analyst_names:\n",
    "        not_current_analyst_names.append(names)\n",
    "\n",
    "print(\"\\n\")\n",
    "print(\"\\033[3m\\033[1m\\033[4mNot Current Analyst Speakers for AEHR20231:\\033[0m\")\n",
    "print(not_current_analyst_names)\n"
   ]
  },
  {
   "cell_type": "code",
   "execution_count": 114,
   "metadata": {},
   "outputs": [
    {
     "data": {
      "text/plain": [
       "['Matt Winthrop ',\n",
       " 'Bradford Ferguson',\n",
       " 'Christian Schwab ',\n",
       " 'Larry Chlebina ',\n",
       " 'Gregory Ratliff',\n",
       " 'Gregory Wilbur',\n",
       " 'Unidentified Analyst',\n",
       " 'Jeffrey Scott with Scott Asset Management',\n",
       " 'Matt Winthrop',\n",
       " 'Christian Schwab',\n",
       " 'Larry Chlebina',\n",
       " 'Matthew Winthrop']"
      ]
     },
     "execution_count": 114,
     "metadata": {},
     "output_type": "execute_result"
    }
   ],
   "source": []
  },
  {
   "cell_type": "code",
   "execution_count": null,
   "metadata": {},
   "outputs": [],
   "source": [
    "sector = \"semiconductors\"\n",
    "stock = \"AEHR\"\n",
    "\n",
    "sector_files = glob.glob('sectors/'+str(sector)+'/'+str(stock)+'/'+str(stock)+'20*[1-9]**[1-9]*[1-4].*')\n",
    "sector_files.sort(reverse=True)\n",
    "for path in sector_files: # for every .csv path of that stock\n",
    "    mytranscript = get_transcript(path)\n",
    "    transcript_safe_harbour, transcript_questions = split_transcript(mytranscript)\n",
    "    speaker_names = get_file_speaker_names(sector, stock)\n",
    "    analyst_names = find_analyst_names(speaker_names, transcript_questions)\n",
    "    break\n"
   ]
  },
  {
   "cell_type": "code",
   "execution_count": 9,
   "metadata": {},
   "outputs": [
    {
     "ename": "NameError",
     "evalue": "name 'transcript_questions' is not defined",
     "output_type": "error",
     "traceback": [
      "\u001b[0;31m---------------------------------------------------------------------------\u001b[0m",
      "\u001b[0;31mNameError\u001b[0m                                 Traceback (most recent call last)",
      "\u001b[1;32m/Users/victor/Desktop/Computing_NEA/dividing_transcript.ipynb Cell 9\u001b[0m in \u001b[0;36m<cell line: 1>\u001b[0;34m()\u001b[0m\n\u001b[0;32m----> <a href='vscode-notebook-cell:/Users/victor/Desktop/Computing_NEA/dividing_transcript.ipynb#ch0000011?line=0'>1</a>\u001b[0m speech_bubble \u001b[39m=\u001b[39m transcript_questions[\u001b[39m0\u001b[39m]\u001b[39m.\u001b[39mlower()\n\u001b[1;32m      <a href='vscode-notebook-cell:/Users/victor/Desktop/Computing_NEA/dividing_transcript.ipynb#ch0000011?line=1'>2</a>\u001b[0m speech_bubble\n",
      "\u001b[0;31mNameError\u001b[0m: name 'transcript_questions' is not defined"
     ]
    }
   ],
   "source": [
    "speech_bubble = transcript_questions[index].lower()\n",
    "speech_bubble = re.sub(r'[^\\w\\s:]', ' ', speech_bubble)\n",
    "speech_bubble"
   ]
  },
  {
   "cell_type": "code",
   "execution_count": 8,
   "metadata": {},
   "outputs": [
    {
     "ename": "NameError",
     "evalue": "name 'transcript_questions' is not defined",
     "output_type": "error",
     "traceback": [
      "\u001b[0;31m---------------------------------------------------------------------------\u001b[0m",
      "\u001b[0;31mNameError\u001b[0m                                 Traceback (most recent call last)",
      "\u001b[1;32m/Users/victor/Desktop/Computing_NEA/dividing_transcript.ipynb Cell 9\u001b[0m in \u001b[0;36m<cell line: 1>\u001b[0;34m()\u001b[0m\n\u001b[0;32m----> <a href='vscode-notebook-cell:/Users/victor/Desktop/Computing_NEA/dividing_transcript.ipynb#ch0000006?line=0'>1</a>\u001b[0m transcript_questions \u001b[39m=\u001b[39m transcript_questions\u001b[39m.\u001b[39mlower()\n",
      "\u001b[0;31mNameError\u001b[0m: name 'transcript_questions' is not defined"
     ]
    }
   ],
   "source": [
    "transcript_questions"
   ]
  },
  {
   "cell_type": "code",
   "execution_count": null,
   "metadata": {},
   "outputs": [],
   "source": [
    "delete operator name"
   ]
  }
 ],
 "metadata": {
  "kernelspec": {
   "display_name": "Python 3.8.13 ('NLP_env')",
   "language": "python",
   "name": "python3"
  },
  "language_info": {
   "codemirror_mode": {
    "name": "ipython",
    "version": 3
   },
   "file_extension": ".py",
   "mimetype": "text/x-python",
   "name": "python",
   "nbconvert_exporter": "python",
   "pygments_lexer": "ipython3",
   "version": "3.8.13"
  },
  "orig_nbformat": 4,
  "vscode": {
   "interpreter": {
    "hash": "6271ad5a9cfee5fbc27e23facc018ff52eb81071ca31a423a1af489ce9841234"
   }
  }
 },
 "nbformat": 4,
 "nbformat_minor": 2
}
