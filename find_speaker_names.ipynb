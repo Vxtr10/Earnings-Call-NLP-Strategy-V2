{
 "cells": [
  {
   "cell_type": "code",
   "execution_count": 2,
   "metadata": {},
   "outputs": [],
   "source": [
    "import requests\n",
    "from bs4 import BeautifulSoup\n",
    "import json\n",
    "import pandas as pd\n",
    "import time\n",
    "import numpy as np\n",
    "from datetime import datetime\n",
    "import yfinance as yf\n",
    "import os\n",
    "import glob\n",
    "import regex as re\n",
    "import csv"
   ]
  },
  {
   "cell_type": "markdown",
   "metadata": {},
   "source": [
    "Gather a list of all speaker and analyst names for each stock:"
   ]
  },
  {
   "cell_type": "code",
   "execution_count": 3,
   "metadata": {},
   "outputs": [],
   "source": [
    "def find_speaker_name(mytranscript, speaker_name_list):\n",
    "    for sentence in mytranscript:\n",
    "        # text clean up\n",
    "        sentence = re.sub(r'[^A-Za-z0-9.,:!\\' ]', '', sentence)\n",
    "        sentence = re.sub('\\s+', ' ', sentence) \n",
    "\n",
    "        # finds the speaker:\n",
    "        colon_pos = sentence.find(\":\")\n",
    "        speaker_name = sentence[:colon_pos]\n",
    "\n",
    "        # appends speaker name to speaker_name_list:\n",
    "        speaker_name_list.append(speaker_name)\n",
    "    "
   ]
  },
  {
   "cell_type": "code",
   "execution_count": 1,
   "metadata": {},
   "outputs": [],
   "source": [
    "def find_all_speaker_names(sector, stock):\n",
    "    speaker_name_list = []\n",
    "    sector_files = glob.glob('sectors/'+str(sector)+'/'+str(stock)+'/'+str(stock)+'20*[0-9]**[0-9]*[1-4].*')\n",
    "    sector_files.sort(reverse=True)\n",
    "    for path in sector_files: # for every path of the stock\n",
    "        mytranscript = pd.read_csv(path).iloc[[2]].values[0][0] \n",
    "        mytranscript = mytranscript.splitlines() # finds transcript\n",
    "        find_speaker_name(mytranscript, speaker_name_list) # finds all speaker names\n",
    "    speaker_name_list = list(set(speaker_name_list)) #removes all speaker names duplicates \n",
    "    write_path = \"sectors/\"+sector+\"/\"+stock+\"/\"+\"speaker names.csv\"\n",
    "    if not os.path.exists(write_path):\n",
    "        np.savetxt(write_path, speaker_name_list, delimiter =\", \", fmt ='% s')"
   ]
  },
  {
   "cell_type": "code",
   "execution_count": 5,
   "metadata": {},
   "outputs": [
    {
     "name": "stdout",
     "output_type": "stream",
     "text": [
      "automobiles sector start\n",
      "automobiles sector complete\n",
      "banks sector start\n",
      "banks sector complete\n",
      "capital-goods sector start\n",
      "capital-goods sector complete\n",
      "commercial-services sector start\n",
      "commercial-services sector complete\n",
      "consumer-durables sector start\n",
      "consumer-durables sector complete\n",
      "consumer-retailing sector start\n",
      "consumer-retailing sector complete\n",
      "consumer-services sector start\n",
      "consumer-services sector complete\n",
      "diversified-financials sector start\n",
      "diversified-financials sector complete\n",
      "energy sector start\n",
      "energy sector complete\n",
      "food-beverage-tobacco sector start\n",
      "food-beverage-tobacco sector complete\n",
      "healthcare sector start\n",
      "healthcare sector complete\n",
      "household sector start\n",
      "household sector complete\n",
      "insurance sector start\n",
      "insurance sector complete\n",
      "materials sector start\n",
      "materials sector complete\n",
      "media sector start\n",
      "media sector complete\n",
      "pharmaceuticals-biotech sector start\n",
      "pharmaceuticals-biotech sector complete\n",
      "real-estate sector start\n",
      "real-estate sector complete\n",
      "retail sector start\n",
      "retail sector complete\n",
      "semiconductors sector start\n",
      "semiconductors sector complete\n",
      "software sector start\n",
      "software sector complete\n",
      "tech sector start\n",
      "tech sector complete\n",
      "telecom sector start\n",
      "telecom sector complete\n",
      "transportation sector start\n",
      "transportation sector complete\n",
      "utilities sector start\n",
      "utilities sector complete\n"
     ]
    }
   ],
   "source": [
    "sectorlist = [\"automobiles\", \"banks\", \"capital-goods\", \"commercial-services\", \n",
    "\"consumer-durables\", \"consumer-retailing\", \"consumer-services\", \"diversified-financials\",\n",
    "\"energy\", \"food-beverage-tobacco\", \"healthcare\", \"household\", \"insurance\", \"materials\", \"media\", \n",
    "\"pharmaceuticals-biotech\", \"real-estate\", \"retail\", \"semiconductors\", \"software\",\n",
    "\"tech\", \"telecom\", \"transportation\", \"utilities\"]\n",
    "\n",
    "for sector in sectorlist:\n",
    "    print(sector, \"sector start\")\n",
    "    filelist = os.listdir(\"sectors/\"+sector)\n",
    "    try:\n",
    "        filelist.remove('.DS_Store')\n",
    "    except:\n",
    "        pass\n",
    "    for stock in filelist:\n",
    "        find_all_speaker_names(sector, stock)\n",
    "    print(sector, \"sector complete\")\n",
    "\n"
   ]
  }
 ],
 "metadata": {
  "kernelspec": {
   "display_name": "Python 3.8.13 ('NLP_env')",
   "language": "python",
   "name": "python3"
  },
  "language_info": {
   "codemirror_mode": {
    "name": "ipython",
    "version": 3
   },
   "file_extension": ".py",
   "mimetype": "text/x-python",
   "name": "python",
   "nbconvert_exporter": "python",
   "pygments_lexer": "ipython3",
   "version": "3.8.13"
  },
  "orig_nbformat": 4,
  "vscode": {
   "interpreter": {
    "hash": "6271ad5a9cfee5fbc27e23facc018ff52eb81071ca31a423a1af489ce9841234"
   }
  }
 },
 "nbformat": 4,
 "nbformat_minor": 2
}
