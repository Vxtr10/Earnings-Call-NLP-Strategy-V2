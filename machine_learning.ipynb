{
 "cells": [
  {
   "cell_type": "code",
   "execution_count": 2,
   "metadata": {},
   "outputs": [],
   "source": [
    "import requests\n",
    "from bs4 import BeautifulSoup\n",
    "import json\n",
    "import pandas as pd\n",
    "import time\n",
    "import numpy as np\n",
    "from datetime import datetime\n",
    "import yfinance as yf\n",
    "import os\n",
    "import glob\n",
    "import regex as re\n",
    "import csv\n",
    "import statistics\n",
    "\n",
    "from sklearn.model_selection import train_test_split\n",
    "from sklearn.preprocessing import StandardScaler\n",
    "from keras.models import Sequential\n",
    "from keras.layers import Dense, Activation, Dropout\n",
    "import matplotlib.pyplot as plt\n",
    "from sklearn.svm import SVR\n",
    "from sklearn.model_selection import train_test_split\n",
    "from sklearn.metrics import mean_squared_error, r2_score"
   ]
  },
  {
   "cell_type": "code",
   "execution_count": 14,
   "metadata": {},
   "outputs": [],
   "source": [
    "def remove_none_types(mydf):\n",
    "    if mydf.isnull().values.any():\n",
    "        return False\n",
    "    else:\n",
    "        return True\n",
    "\n",
    "X_data = []\n",
    "Y_data = []\n",
    "\n",
    "sectors = [\"automobiles\", \"banks\"]\n",
    "for sector in sectors:\n",
    "    filelist = os.listdir(\"sectors/\"+sector)\n",
    "    try:\n",
    "        filelist.remove('.DS_Store')\n",
    "    except:\n",
    "        pass\n",
    "\n",
    "    for stock in filelist:\n",
    "        sector_files = glob.glob('sectors/'+str(sector)+'/'+str(stock)+'/'+str(stock)+'20*[0-9]**[0-9]*[1-4].*')\n",
    "        sector_files.sort(reverse=True)\n",
    "\n",
    "        testpath = sector_files[0]\n",
    "        testdata_from_csv = pd.read_csv(testpath)\n",
    "        try:\n",
    "            market_cap = float(testdata_from_csv.iloc[[-1]].values[0][0])\n",
    "            if (market_cap > 1000000000):\n",
    "                for i in range(0, len(sector_files)): # for every .csv path of that stock\n",
    "                    path = sector_files[i]\n",
    "                    data_from_csv = pd.read_csv(path)\n",
    "                    Checks_None = remove_none_types(data_from_csv)\n",
    "                    if (Checks_None == True):\n",
    "                        single_X_data = (np.array((data_from_csv[3:73].astype(float))).flatten()) \n",
    "                        if (single_X_data.shape[0]) == 70:\n",
    "                            X_data.append(single_X_data)\n",
    "                            single_Y_data = np.array(data_from_csv[85:95].astype(float)).flatten()\n",
    "                            Y_data.append(single_Y_data)\n",
    "        except:\n",
    "            pass\n",
    "                \n",
    "\n",
    "#[\n",
    "#   [#AAPL\n",
    "#       [ [earnings call 1], [earnings call 2], [earnings call 3]\n",
    "#   ],\n",
    "#   [#MSFT\n",
    "#       [ [earnings call 1], [earnings call 2], [earnings call 3]\n",
    "#   ]\n",
    "#\n",
    "# ]\n",
    "\n",
    "\n",
    "\n",
    "X_data = np.array(X_data)\n",
    "Y_data = np.array(Y_data)\n",
    "Y_data = Y_data[:,4]\n",
    "# # Y_data = Y_data[:,8]\n",
    "\n"
   ]
  },
  {
   "cell_type": "code",
   "execution_count": 32,
   "metadata": {},
   "outputs": [
    {
     "name": "stderr",
     "output_type": "stream",
     "text": [
      "/var/folders/dr/g848f5b55mn9xp6p982hbg280000gn/T/ipykernel_40991/605187953.py:7: DataConversionWarning: A column-vector y was passed when a 1d array was expected. Please change the shape of y to (n_samples,), for example using ravel().\n",
      "  rfc.fit(X_train, Y_train)\n"
     ]
    },
    {
     "name": "stdout",
     "output_type": "stream",
     "text": [
      "              precision    recall  f1-score   support\n",
      "\n",
      "           0       0.83      1.00      0.91       522\n",
      "           1       0.00      0.00      0.00       105\n",
      "\n",
      "    accuracy                           0.83       627\n",
      "   macro avg       0.42      0.50      0.45       627\n",
      "weighted avg       0.69      0.83      0.76       627\n",
      "\n"
     ]
    },
    {
     "name": "stderr",
     "output_type": "stream",
     "text": [
      "/Users/victor/miniforge3/envs/NLP_env/lib/python3.8/site-packages/sklearn/metrics/_classification.py:1344: UndefinedMetricWarning: Precision and F-score are ill-defined and being set to 0.0 in labels with no predicted samples. Use `zero_division` parameter to control this behavior.\n",
      "  _warn_prf(average, modifier, msg_start, len(result))\n",
      "/Users/victor/miniforge3/envs/NLP_env/lib/python3.8/site-packages/sklearn/metrics/_classification.py:1344: UndefinedMetricWarning: Precision and F-score are ill-defined and being set to 0.0 in labels with no predicted samples. Use `zero_division` parameter to control this behavior.\n",
      "  _warn_prf(average, modifier, msg_start, len(result))\n",
      "/Users/victor/miniforge3/envs/NLP_env/lib/python3.8/site-packages/sklearn/metrics/_classification.py:1344: UndefinedMetricWarning: Precision and F-score are ill-defined and being set to 0.0 in labels with no predicted samples. Use `zero_division` parameter to control this behavior.\n",
      "  _warn_prf(average, modifier, msg_start, len(result))\n"
     ]
    }
   ],
   "source": [
    "from sklearn.ensemble import RandomForestClassifier\n",
    "from sklearn import metrics\n",
    "\n",
    "#Starting off with random forest classifer \n",
    "rfc = RandomForestClassifier(max_depth=1000, n_estimators=1000)\n",
    "\n",
    "rfc.fit(X_train, Y_train)\n",
    "score = rfc.score(X_test, Y_test)\n",
    "Y_pred = rfc.predict(X_test)\n",
    "\n",
    "print(metrics.classification_report(Y_test, Y_pred))"
   ]
  },
  {
   "cell_type": "code",
   "execution_count": 16,
   "metadata": {},
   "outputs": [
    {
     "name": "stdout",
     "output_type": "stream",
     "text": [
      "(1900, 70)\n",
      "(1900,)\n"
     ]
    }
   ],
   "source": [
    "print(X_data.shape)\n",
    "print(Y_data.shape)"
   ]
  },
  {
   "cell_type": "code",
   "execution_count": 15,
   "metadata": {},
   "outputs": [
    {
     "data": {
      "text/plain": [
       "array([[ 1.31248374e-03,  9.01261248e-01,  9.11728133e-01, ...,\n",
       "        -6.04444415e-01, -7.44557054e-01, -2.81345587e-01],\n",
       "       [ 1.64222224e-02,  4.07735393e-01,  5.31221572e-01, ...,\n",
       "        -6.04444415e-01, -7.44557054e-01, -2.81345587e-01],\n",
       "       [ 8.70001129e-03,  2.84352155e-01,  4.66117495e-01, ...,\n",
       "        -6.04444415e-01, -7.44557054e-01, -2.81345587e-01],\n",
       "       ...,\n",
       "       [-8.00967809e-03, -3.34617059e-01, -2.90857535e-01, ...,\n",
       "        -1.09060439e+00, -7.44557054e-01,  1.35970205e+00],\n",
       "       [-2.54862182e-03, -8.83991825e-01, -5.21770259e-01, ...,\n",
       "         1.47432695e+00,  1.73340212e+00,  6.13771308e-01],\n",
       "       [-2.96493553e-03, -4.62326567e-02,  3.84284840e-02, ...,\n",
       "         1.03138049e+00,  9.59039877e-01, -2.81345587e-01]])"
      ]
     },
     "execution_count": 15,
     "metadata": {},
     "output_type": "execute_result"
    }
   ],
   "source": [
    "scaler = StandardScaler()\n",
    "X_data = scaler.fit_transform(X_data)\n",
    "X_data\n"
   ]
  },
  {
   "cell_type": "code",
   "execution_count": 15,
   "metadata": {},
   "outputs": [
    {
     "data": {
      "text/plain": [
       "array([ 0.23289604, -0.13685962,  0.40832962, ...,  0.06799316,\n",
       "       -0.01983425,  0.06820767])"
      ]
     },
     "execution_count": 15,
     "metadata": {},
     "output_type": "execute_result"
    }
   ],
   "source": [
    "Y_data"
   ]
  },
  {
   "cell_type": "code",
   "execution_count": 30,
   "metadata": {},
   "outputs": [
    {
     "name": "stdout",
     "output_type": "stream",
     "text": [
      "(1900, 1)\n"
     ]
    }
   ],
   "source": [
    "Y_dataCOPY = Y_data.copy()\n",
    "df = pd.DataFrame(Y_dataCOPY)\n",
    "\n",
    "\n",
    "# df[0] = np.where(df[0] < -0.4, -2,\n",
    "#     np.where((df[0] >= -0.4) & (df[0] < -0.07), -1,\n",
    "#     np.where((df[0] >= -0.07) & (df[0] <= 0.07), 0,\n",
    "#     np.where((df[0] > 0.07) & (df[0] <= 0.4), 1, 2))))\n",
    "\n",
    "df[0] = np.where(df[0] < 0.15, 0, 1)\n",
    "\n",
    "    \n",
    "Y_data_update = df.to_numpy()\n",
    "\n",
    "print(Y_data_update.shape)\n"
   ]
  },
  {
   "cell_type": "code",
   "execution_count": 4,
   "metadata": {},
   "outputs": [
    {
     "name": "stdout",
     "output_type": "stream",
     "text": [
      "(1703, 1)\n",
      "(1703, 82)\n"
     ]
    }
   ],
   "source": [
    "Y_dataCOPY = Y_data.copy()\n",
    "X_dataCOPY = X_data.copy()\n",
    "df = pd.DataFrame(Y_dataCOPY)\n",
    "dfX = pd.DataFrame(X_dataCOPY)\n",
    "\n",
    "\n",
    "# df[0] = np.where(df[0] < -0.4, -2,\n",
    "#     np.where((df[0] >= -0.4) & (df[0] < -0.07), -1,\n",
    "#     np.where((df[0] >= -0.07) & (df[0] <= 0.07), 0,\n",
    "#     np.where((df[0] > 0.07) & (df[0] <= 0.4), 1, 2))))\n",
    "\n",
    "df[0] = np.where(df[0] < -0.3, -1,\n",
    "    np.where((df[0] >= -0.3) & (df[0] < 0.3), 0,\n",
    "    np.where(df[0] >= 0.3, 1, df[0])))\n",
    "    \n",
    "Y_data_update = df.to_numpy()\n",
    "X_data_update = dfX.to_numpy()\n",
    "\n",
    "print(Y_data_update.shape)\n",
    "print(X_data_update.shape)\n"
   ]
  },
  {
   "cell_type": "code",
   "execution_count": 5,
   "metadata": {},
   "outputs": [
    {
     "name": "stdout",
     "output_type": "stream",
     "text": [
      "(1703, 1)\n",
      "(1703, 82)\n"
     ]
    }
   ],
   "source": [
    "print(Y_data_update.shape)\n",
    "print(X_data_update.shape)\n"
   ]
  },
  {
   "cell_type": "code",
   "execution_count": 31,
   "metadata": {},
   "outputs": [
    {
     "data": {
      "text/plain": [
       "(1273, 1)"
      ]
     },
     "execution_count": 31,
     "metadata": {},
     "output_type": "execute_result"
    }
   ],
   "source": [
    "\n",
    "# scaler = StandardScaler()\n",
    "# X_data_update = scaler.fit_transform(X_data_update)\n",
    "\n",
    "X_train, X_test, Y_train, Y_test = train_test_split(X_data, Y_data_update, test_size=0.33, random_state=42)\n",
    "Y_train.shape"
   ]
  },
  {
   "cell_type": "code",
   "execution_count": 9,
   "metadata": {},
   "outputs": [
    {
     "name": "stderr",
     "output_type": "stream",
     "text": [
      "2023-02-08 10:19:33.644560: I tensorflow/core/common_runtime/pluggable_device/pluggable_device_factory.cc:305] Could not identify NUMA node of platform GPU ID 0, defaulting to 0. Your kernel may not have been built with NUMA support.\n",
      "2023-02-08 10:19:33.644709: I tensorflow/core/common_runtime/pluggable_device/pluggable_device_factory.cc:271] Created TensorFlow device (/job:localhost/replica:0/task:0/device:GPU:0 with 0 MB memory) -> physical PluggableDevice (device: 0, name: METAL, pci bus id: <undefined>)\n",
      "2023-02-08 10:19:33.823176: W tensorflow/core/platform/profile_utils/cpu_utils.cc:128] Failed to get CPU frequency: 0 Hz\n"
     ]
    },
    {
     "name": "stdout",
     "output_type": "stream",
     "text": [
      "Metal device set to: Apple M1 Pro\n",
      "\n",
      "systemMemory: 16.00 GB\n",
      "maxCacheSize: 5.33 GB\n",
      "\n"
     ]
    },
    {
     "name": "stderr",
     "output_type": "stream",
     "text": [
      "2023-02-08 10:19:34.020950: I tensorflow/core/grappler/optimizers/custom_graph_optimizer_registry.cc:113] Plugin optimizer for device_type GPU is enabled.\n"
     ]
    },
    {
     "name": "stdout",
     "output_type": "stream",
     "text": [
      "40/40 [==============================] - 1s 10ms/step - loss: 0.2940\n",
      "20/20 [==============================] - 0s 3ms/step\n"
     ]
    },
    {
     "name": "stderr",
     "output_type": "stream",
     "text": [
      "2023-02-08 10:19:34.742151: I tensorflow/core/grappler/optimizers/custom_graph_optimizer_registry.cc:113] Plugin optimizer for device_type GPU is enabled.\n"
     ]
    },
    {
     "data": {
      "image/png": "[encoded data removed]",
      "text/plain": [
       "<Figure size 720x720 with 1 Axes>"
      ]
     },
     "metadata": {
      "needs_background": "light"
     },
     "output_type": "display_data"
    }
   ],
   "source": [
    "model = Sequential()\n",
    "model.add(Dense(128, input_shape=(82,)))\n",
    "model.add(Activation('relu'))\n",
    "model.add(Dense(64))\n",
    "model.add(Activation('relu'))\n",
    "model.add(Dense(32))\n",
    "model.add(Activation('relu'))\n",
    "model.add(Dense(1))\n",
    "model.add(Activation('tanh'))\n",
    "\n",
    "model.compile(loss='mean_squared_error', optimizer='adam')\n",
    "\n",
    "model.fit(X_train, Y_train)\n",
    "Y_pred = model.predict(X_test)\n",
    "\n",
    "plt.figure(figsize=(10,10))\n",
    "plt.scatter(Y_pred, Y_test)\n",
    "plt.ylabel(\"Actual Stock Returns\")\n",
    "plt.xlabel(\"Predicted Stock Returns\")\n",
    "plt.title(\"Predicted vs Actual Stock Returns\")\n",
    "plt.show()\n",
    "\n"
   ]
  },
  {
   "cell_type": "code",
   "execution_count": 10,
   "metadata": {},
   "outputs": [
    {
     "name": "stderr",
     "output_type": "stream",
     "text": [
      "/Users/victor/miniforge3/envs/NLP_env/lib/python3.8/site-packages/sklearn/ensemble/_gb.py:437: DataConversionWarning: A column-vector y was passed when a 1d array was expected. Please change the shape of y to (n_samples, ), for example using ravel().\n",
      "  y = column_or_1d(y, warn=True)\n"
     ]
    },
    {
     "name": "stdout",
     "output_type": "stream",
     "text": [
      "Mean Squared Error:  0.25218485409441105\n",
      "R2 Score:  -0.02501167785283287\n"
     ]
    },
    {
     "data": {
      "image/png": "[encoded data removed]",
      "text/plain": [
       "<Figure size 720x720 with 1 Axes>"
      ]
     },
     "metadata": {
      "needs_background": "light"
     },
     "output_type": "display_data"
    }
   ],
   "source": [
    "from sklearn.ensemble import GradientBoostingRegressor\n",
    "\n",
    "# Define the gradient boosting regressor\n",
    "gbr = GradientBoostingRegressor(\n",
    "    n_estimators=500,\n",
    "    learning_rate=0.1,\n",
    "    max_depth=5,\n",
    "    min_samples_split=2,\n",
    "    loss='squared_error',\n",
    "    random_state=42\n",
    ")\n",
    "\n",
    "# Fit the regressor to the training data\n",
    "gbr.fit(X_train, Y_train)\n",
    "\n",
    "# Predict stock returns for the testing data\n",
    "Y_pred = gbr.predict(X_test)\n",
    "\n",
    "# Evaluate the performance of the model\n",
    "from sklearn.metrics import mean_squared_error, r2_score\n",
    "print(\"Mean Squared Error: \", mean_squared_error(Y_test, Y_pred))\n",
    "print(\"R2 Score: \", r2_score(Y_test, Y_pred))\n",
    "\n",
    "plt.figure(figsize=(10,10))\n",
    "plt.scatter(Y_pred, Y_test)\n",
    "plt.ylabel(\"Actual Stock Returns\")\n",
    "plt.xlabel(\"Predicted Stock Returns\")\n",
    "plt.title(\"Predicted vs Actual Stock Returns\")\n",
    "plt.show()\n",
    "\n"
   ]
  },
  {
   "cell_type": "code",
   "execution_count": 11,
   "metadata": {},
   "outputs": [
    {
     "name": "stderr",
     "output_type": "stream",
     "text": [
      "/var/folders/dr/g848f5b55mn9xp6p982hbg280000gn/T/ipykernel_40991/3087096297.py:6: DataConversionWarning: A column-vector y was passed when a 1d array was expected. Please change the shape of y to (n_samples,), for example using ravel().\n",
      "  rf.fit(X_train, Y_train)\n"
     ]
    },
    {
     "data": {
      "image/png": "[encoded data removed]",
      "text/plain": [
       "<Figure size 720x720 with 1 Axes>"
      ]
     },
     "metadata": {
      "needs_background": "light"
     },
     "output_type": "display_data"
    }
   ],
   "source": [
    "from sklearn.ensemble import RandomForestRegressor\n",
    "from sklearn.metrics import mean_squared_error, r2_score\n",
    "\n",
    "# Train the Random Forest Regressor on the training data\n",
    "rf = RandomForestRegressor(n_estimators=100)\n",
    "rf.fit(X_train, Y_train)\n",
    "\n",
    "# Predict the stock returns on the testing data\n",
    "Y_pred = rf.predict(X_test)\n",
    "\n",
    "plt.figure(figsize=(10,10))\n",
    "plt.scatter(Y_pred, Y_test)\n",
    "plt.ylabel(\"Actual Stock Returns\")\n",
    "plt.xlabel(\"Predicted Stock Returns\")\n",
    "plt.title(\"Predicted vs Actual Stock Returns\")\n",
    "plt.show()\n"
   ]
  },
  {
   "cell_type": "code",
   "execution_count": 12,
   "metadata": {},
   "outputs": [
    {
     "name": "stdout",
     "output_type": "stream",
     "text": [
      "Mean Squared Error: 0.04206753843050262\n"
     ]
    },
    {
     "data": {
      "image/png": "[encoded data removed]",
      "text/plain": [
       "<Figure size 720x720 with 1 Axes>"
      ]
     },
     "metadata": {
      "needs_background": "light"
     },
     "output_type": "display_data"
    }
   ],
   "source": [
    "import xgboost as xgb\n",
    "from sklearn.metrics import mean_squared_error\n",
    "\n",
    "# Split data into training and testing sets\n",
    "sX_train, sX_test, sy_train, sy_test = train_test_split(X_data, Y_data, test_size=0.33, random_state=42)\n",
    "\n",
    "# Convert training and testing data into DMatrix format for XGBoost\n",
    "dtrain = xgb.DMatrix(sX_train, label=sy_train)\n",
    "dtest = xgb.DMatrix(sX_test, label=sy_test)\n",
    "\n",
    "# Define hyperparameters for the XGBoost model\n",
    "params = {\n",
    "    'booster': 'gbtree',\n",
    "    'objective': 'reg:squarederror',\n",
    "    'learning_rate': 0.05,\n",
    "    'max_depth': 10,\n",
    "    'subsample': 0.8,\n",
    "    'colsample_bytree': 0.8,    \n",
    "    'n_jobs': -1,\n",
    "    'random_state': 42\n",
    "}\n",
    "\n",
    "# Train the XGBoost model on the training data\n",
    "model = xgb.train(params, dtrain, num_boost_round=100)\n",
    "\n",
    "# Make predictions on the test data\n",
    "sy_pred = model.predict(dtest)\n",
    "\n",
    "# Calculate the mean squared error\n",
    "mse = mean_squared_error(sy_test, sy_pred)\n",
    "\n",
    "# Print the mean squared error\n",
    "print(\"Mean Squared Error:\", mse)\n",
    "\n",
    "import matplotlib.pyplot as plt\n",
    "\n",
    "# Plot the predicted vs actual stock returns\n",
    "plt.figure(figsize=(10,10))\n",
    "plt.scatter(sy_test, sy_pred)\n",
    "plt.xlabel(\"Actual Stock Returns\")\n",
    "plt.ylabel(\"Predicted Stock Returns\")\n",
    "plt.title(\"Predicted vs Actual Stock Returns\")\n",
    "plt.show()\n",
    "\n"
   ]
  },
  {
   "cell_type": "code",
   "execution_count": 12,
   "metadata": {},
   "outputs": [
    {
     "name": "stdout",
     "output_type": "stream",
     "text": [
      "Epoch 1/50\n"
     ]
    },
    {
     "name": "stderr",
     "output_type": "stream",
     "text": [
      "2023-02-07 19:04:12.599966: I tensorflow/core/grappler/optimizers/custom_graph_optimizer_registry.cc:113] Plugin optimizer for device_type GPU is enabled.\n"
     ]
    },
    {
     "name": "stdout",
     "output_type": "stream",
     "text": [
      "36/36 [==============================] - ETA: 0s - loss: 0.0000e+00 - accuracy: 0.0438"
     ]
    },
    {
     "name": "stderr",
     "output_type": "stream",
     "text": [
      "2023-02-07 19:04:13.880124: I tensorflow/core/grappler/optimizers/custom_graph_optimizer_registry.cc:113] Plugin optimizer for device_type GPU is enabled.\n"
     ]
    },
    {
     "name": "stdout",
     "output_type": "stream",
     "text": [
      "36/36 [==============================] - 2s 35ms/step - loss: 0.0000e+00 - accuracy: 0.0438 - val_loss: 0.0000e+00 - val_accuracy: 0.0409\n",
      "Epoch 2/50\n",
      "36/36 [==============================] - 1s 23ms/step - loss: 0.0000e+00 - accuracy: 0.0438 - val_loss: 0.0000e+00 - val_accuracy: 0.0409\n",
      "Epoch 3/50\n",
      "36/36 [==============================] - 1s 22ms/step - loss: 0.0000e+00 - accuracy: 0.0438 - val_loss: 0.0000e+00 - val_accuracy: 0.0409\n",
      "Epoch 4/50\n",
      "36/36 [==============================] - 1s 23ms/step - loss: 0.0000e+00 - accuracy: 0.0438 - val_loss: 0.0000e+00 - val_accuracy: 0.0409\n",
      "Epoch 5/50\n",
      "36/36 [==============================] - 1s 25ms/step - loss: 0.0000e+00 - accuracy: 0.0438 - val_loss: 0.0000e+00 - val_accuracy: 0.0409\n",
      "Epoch 6/50\n",
      "36/36 [==============================] - 1s 22ms/step - loss: 0.0000e+00 - accuracy: 0.0438 - val_loss: 0.0000e+00 - val_accuracy: 0.0409\n",
      "Epoch 7/50\n",
      "36/36 [==============================] - 1s 23ms/step - loss: 0.0000e+00 - accuracy: 0.0438 - val_loss: 0.0000e+00 - val_accuracy: 0.0409\n",
      "Epoch 8/50\n",
      "36/36 [==============================] - 1s 23ms/step - loss: 0.0000e+00 - accuracy: 0.0438 - val_loss: 0.0000e+00 - val_accuracy: 0.0409\n",
      "Epoch 9/50\n",
      "36/36 [==============================] - 1s 23ms/step - loss: 0.0000e+00 - accuracy: 0.0438 - val_loss: 0.0000e+00 - val_accuracy: 0.0409\n",
      "Epoch 10/50\n",
      "36/36 [==============================] - 1s 22ms/step - loss: 0.0000e+00 - accuracy: 0.0438 - val_loss: 0.0000e+00 - val_accuracy: 0.0409\n",
      "Epoch 11/50\n",
      "36/36 [==============================] - 1s 22ms/step - loss: 0.0000e+00 - accuracy: 0.0438 - val_loss: 0.0000e+00 - val_accuracy: 0.0409\n",
      "Epoch 12/50\n",
      "36/36 [==============================] - 1s 24ms/step - loss: 0.0000e+00 - accuracy: 0.0438 - val_loss: 0.0000e+00 - val_accuracy: 0.0409\n",
      "Epoch 13/50\n",
      "36/36 [==============================] - 1s 26ms/step - loss: 0.0000e+00 - accuracy: 0.0438 - val_loss: 0.0000e+00 - val_accuracy: 0.0409\n",
      "Epoch 14/50\n",
      "36/36 [==============================] - 1s 23ms/step - loss: 0.0000e+00 - accuracy: 0.0438 - val_loss: 0.0000e+00 - val_accuracy: 0.0409\n",
      "Epoch 15/50\n",
      "36/36 [==============================] - 1s 22ms/step - loss: 0.0000e+00 - accuracy: 0.0438 - val_loss: 0.0000e+00 - val_accuracy: 0.0409\n",
      "Epoch 16/50\n",
      "36/36 [==============================] - 1s 23ms/step - loss: 0.0000e+00 - accuracy: 0.0438 - val_loss: 0.0000e+00 - val_accuracy: 0.0409\n",
      "Epoch 17/50\n",
      "36/36 [==============================] - 1s 22ms/step - loss: 0.0000e+00 - accuracy: 0.0438 - val_loss: 0.0000e+00 - val_accuracy: 0.0409\n",
      "Epoch 18/50\n",
      "36/36 [==============================] - 1s 25ms/step - loss: 0.0000e+00 - accuracy: 0.0438 - val_loss: 0.0000e+00 - val_accuracy: 0.0409\n",
      "Epoch 19/50\n",
      "36/36 [==============================] - 1s 26ms/step - loss: 0.0000e+00 - accuracy: 0.0438 - val_loss: 0.0000e+00 - val_accuracy: 0.0409\n",
      "Epoch 20/50\n",
      "36/36 [==============================] - 1s 23ms/step - loss: 0.0000e+00 - accuracy: 0.0438 - val_loss: 0.0000e+00 - val_accuracy: 0.0409\n",
      "Epoch 21/50\n",
      "36/36 [==============================] - 1s 23ms/step - loss: 0.0000e+00 - accuracy: 0.0438 - val_loss: 0.0000e+00 - val_accuracy: 0.0409\n",
      "Epoch 22/50\n",
      "36/36 [==============================] - 1s 23ms/step - loss: 0.0000e+00 - accuracy: 0.0438 - val_loss: 0.0000e+00 - val_accuracy: 0.0409\n",
      "Epoch 23/50\n",
      "36/36 [==============================] - 1s 23ms/step - loss: 0.0000e+00 - accuracy: 0.0438 - val_loss: 0.0000e+00 - val_accuracy: 0.0409\n",
      "Epoch 24/50\n",
      "36/36 [==============================] - 1s 23ms/step - loss: 0.0000e+00 - accuracy: 0.0438 - val_loss: 0.0000e+00 - val_accuracy: 0.0409\n",
      "Epoch 25/50\n",
      "36/36 [==============================] - 1s 23ms/step - loss: 0.0000e+00 - accuracy: 0.0438 - val_loss: 0.0000e+00 - val_accuracy: 0.0409\n",
      "Epoch 26/50\n",
      "36/36 [==============================] - 1s 23ms/step - loss: 0.0000e+00 - accuracy: 0.0438 - val_loss: 0.0000e+00 - val_accuracy: 0.0409\n",
      "Epoch 27/50\n",
      "36/36 [==============================] - 1s 23ms/step - loss: 0.0000e+00 - accuracy: 0.0438 - val_loss: 0.0000e+00 - val_accuracy: 0.0409\n",
      "Epoch 28/50\n",
      "36/36 [==============================] - 1s 23ms/step - loss: 0.0000e+00 - accuracy: 0.0438 - val_loss: 0.0000e+00 - val_accuracy: 0.0409\n",
      "Epoch 29/50\n",
      "36/36 [==============================] - 1s 24ms/step - loss: 0.0000e+00 - accuracy: 0.0438 - val_loss: 0.0000e+00 - val_accuracy: 0.0409\n",
      "Epoch 30/50\n",
      "36/36 [==============================] - 1s 23ms/step - loss: 0.0000e+00 - accuracy: 0.0438 - val_loss: 0.0000e+00 - val_accuracy: 0.0409\n",
      "Epoch 31/50\n",
      "36/36 [==============================] - 1s 23ms/step - loss: 0.0000e+00 - accuracy: 0.0438 - val_loss: 0.0000e+00 - val_accuracy: 0.0409\n",
      "Epoch 32/50\n",
      "36/36 [==============================] - 1s 21ms/step - loss: 0.0000e+00 - accuracy: 0.0438 - val_loss: 0.0000e+00 - val_accuracy: 0.0409\n",
      "Epoch 33/50\n",
      "36/36 [==============================] - 1s 22ms/step - loss: 0.0000e+00 - accuracy: 0.0438 - val_loss: 0.0000e+00 - val_accuracy: 0.0409\n",
      "Epoch 34/50\n",
      "36/36 [==============================] - 1s 24ms/step - loss: 0.0000e+00 - accuracy: 0.0438 - val_loss: 0.0000e+00 - val_accuracy: 0.0409\n",
      "Epoch 35/50\n",
      "36/36 [==============================] - 1s 24ms/step - loss: 0.0000e+00 - accuracy: 0.0438 - val_loss: 0.0000e+00 - val_accuracy: 0.0409\n",
      "Epoch 36/50\n",
      "36/36 [==============================] - 1s 23ms/step - loss: 0.0000e+00 - accuracy: 0.0438 - val_loss: 0.0000e+00 - val_accuracy: 0.0409\n",
      "Epoch 37/50\n",
      "36/36 [==============================] - 1s 23ms/step - loss: 0.0000e+00 - accuracy: 0.0438 - val_loss: 0.0000e+00 - val_accuracy: 0.0409\n",
      "Epoch 38/50\n",
      "36/36 [==============================] - 1s 22ms/step - loss: 0.0000e+00 - accuracy: 0.0438 - val_loss: 0.0000e+00 - val_accuracy: 0.0409\n",
      "Epoch 39/50\n",
      "36/36 [==============================] - 1s 24ms/step - loss: 0.0000e+00 - accuracy: 0.0438 - val_loss: 0.0000e+00 - val_accuracy: 0.0409\n",
      "Epoch 40/50\n",
      "36/36 [==============================] - 1s 23ms/step - loss: 0.0000e+00 - accuracy: 0.0438 - val_loss: 0.0000e+00 - val_accuracy: 0.0409\n",
      "Epoch 41/50\n",
      "36/36 [==============================] - 1s 23ms/step - loss: 0.0000e+00 - accuracy: 0.0438 - val_loss: 0.0000e+00 - val_accuracy: 0.0409\n",
      "Epoch 42/50\n",
      "36/36 [==============================] - 1s 23ms/step - loss: 0.0000e+00 - accuracy: 0.0438 - val_loss: 0.0000e+00 - val_accuracy: 0.0409\n",
      "Epoch 43/50\n",
      "36/36 [==============================] - 1s 23ms/step - loss: 0.0000e+00 - accuracy: 0.0438 - val_loss: 0.0000e+00 - val_accuracy: 0.0409\n",
      "Epoch 44/50\n",
      "36/36 [==============================] - 1s 23ms/step - loss: 0.0000e+00 - accuracy: 0.0438 - val_loss: 0.0000e+00 - val_accuracy: 0.0409\n",
      "Epoch 45/50\n",
      "36/36 [==============================] - 1s 23ms/step - loss: 0.0000e+00 - accuracy: 0.0438 - val_loss: 0.0000e+00 - val_accuracy: 0.0409\n",
      "Epoch 46/50\n",
      "36/36 [==============================] - 1s 24ms/step - loss: 0.0000e+00 - accuracy: 0.0438 - val_loss: 0.0000e+00 - val_accuracy: 0.0409\n",
      "Epoch 47/50\n",
      "36/36 [==============================] - 1s 24ms/step - loss: 0.0000e+00 - accuracy: 0.0438 - val_loss: 0.0000e+00 - val_accuracy: 0.0409\n",
      "Epoch 48/50\n",
      "36/36 [==============================] - 1s 23ms/step - loss: 0.0000e+00 - accuracy: 0.0438 - val_loss: 0.0000e+00 - val_accuracy: 0.0409\n",
      "Epoch 49/50\n",
      "36/36 [==============================] - 1s 23ms/step - loss: 0.0000e+00 - accuracy: 0.0438 - val_loss: 0.0000e+00 - val_accuracy: 0.0409\n",
      "Epoch 50/50\n",
      "36/36 [==============================] - 1s 23ms/step - loss: 0.0000e+00 - accuracy: 0.0438 - val_loss: 0.0000e+00 - val_accuracy: 0.0409\n",
      "18/18 [==============================] - 0s 6ms/step\n"
     ]
    },
    {
     "name": "stderr",
     "output_type": "stream",
     "text": [
      "2023-02-07 19:04:54.997485: I tensorflow/core/grappler/optimizers/custom_graph_optimizer_registry.cc:113] Plugin optimizer for device_type GPU is enabled.\n"
     ]
    },
    {
     "data": {
      "image/png": "[encoded data removed]",
      "text/plain": [
       "<Figure size 720x720 with 1 Axes>"
      ]
     },
     "metadata": {
      "needs_background": "light"
     },
     "output_type": "display_data"
    }
   ],
   "source": [
    "model = Sequential()\n",
    "\n",
    "# Add the first hidden layer with 128 units and ReLU activation\n",
    "model.add(Dense(250, activation='relu', input_shape=(X_train.shape[1],)))\n",
    "\n",
    "# Add a dropout layer with a rate of 0.5 to prevent overfitting\n",
    "model.add(Dropout(0.5))\n",
    "\n",
    "model.add(Dense(200, activation='relu', input_shape=(X_train.shape[1],)))\n",
    "\n",
    "model.add(Dropout(0.5))\n",
    "\n",
    "model.add(Dense(160, activation='relu', input_shape=(X_train.shape[1],)))\n",
    "\n",
    "model.add(Dropout(0.5))\n",
    "\n",
    "model.add(Dense(120, activation='relu', input_shape=(X_train.shape[1],)))\n",
    "\n",
    "# Add the second hidden layer with 64 units and ReLU activation\n",
    "model.add(Dense(64, activation='relu'))\n",
    "\n",
    "# Add a dropout layer with a rate of 0.5 to prevent overfitting\n",
    "model.add(Dropout(0.5))\n",
    "\n",
    "model.add(Dense(32, activation='relu'))\n",
    "\n",
    "model.add(Dropout(0.5))\n",
    "\n",
    "model.add(Dense(16, activation='relu'))\n",
    "model.add(Dropout(0.5))\n",
    "# Add the output layer with a single unit and a linear activation\n",
    "model.add(Dense(1, activation='softmax'))\n",
    "\n",
    "# Compile the model with mean squared error loss and the Adam optimizer\n",
    "model.compile(loss='categorical_crossentropy', optimizer='adam', metrics=['accuracy'])\n",
    "\n",
    "# Fit the model to the training data\n",
    "model.fit(X_train, Y_train, epochs=50, batch_size=32, validation_data=(X_test, Y_test))\n",
    "\n",
    "Y_pred = model.predict(X_test)\n",
    "\n",
    "plt.figure(figsize=(10,10))\n",
    "plt.scatter(Y_pred, Y_test)\n",
    "plt.ylabel(\"Actual Stock Returns\")\n",
    "plt.xlabel(\"Predicted Stock Returns\")\n",
    "plt.title(\"Predicted vs Actual Stock Returns\")\n",
    "plt.show()\n"
   ]
  },
  {
   "cell_type": "code",
   "execution_count": 13,
   "metadata": {},
   "outputs": [
    {
     "name": "stdout",
     "output_type": "stream",
     "text": [
      "Epoch 1/100\n",
      " 8/40 [=====>........................] - ETA: 0s - loss: 0.2739 "
     ]
    },
    {
     "name": "stderr",
     "output_type": "stream",
     "text": [
      "2023-02-08 10:20:41.218131: I tensorflow/core/grappler/optimizers/custom_graph_optimizer_registry.cc:113] Plugin optimizer for device_type GPU is enabled.\n"
     ]
    },
    {
     "name": "stdout",
     "output_type": "stream",
     "text": [
      "40/40 [==============================] - 1s 14ms/step - loss: 0.2653 - val_loss: 0.2649\n",
      "Epoch 2/100\n",
      "10/40 [======>.......................] - ETA: 0s - loss: 0.2536"
     ]
    },
    {
     "name": "stderr",
     "output_type": "stream",
     "text": [
      "2023-02-08 10:20:41.788906: I tensorflow/core/grappler/optimizers/custom_graph_optimizer_registry.cc:113] Plugin optimizer for device_type GPU is enabled.\n"
     ]
    },
    {
     "name": "stdout",
     "output_type": "stream",
     "text": [
      "40/40 [==============================] - 0s 9ms/step - loss: 0.2435 - val_loss: 0.2588\n",
      "Epoch 3/100\n",
      "40/40 [==============================] - 0s 9ms/step - loss: 0.2329 - val_loss: 0.2569\n",
      "Epoch 4/100\n",
      "40/40 [==============================] - 0s 7ms/step - loss: 0.2242 - val_loss: 0.2562\n",
      "Epoch 5/100\n",
      "40/40 [==============================] - 0s 9ms/step - loss: 0.2165 - val_loss: 0.2570\n",
      "Epoch 6/100\n",
      "40/40 [==============================] - 0s 9ms/step - loss: 0.2103 - val_loss: 0.2572\n",
      "Epoch 7/100\n",
      "40/40 [==============================] - 0s 7ms/step - loss: 0.2041 - val_loss: 0.2599\n",
      "Epoch 8/100\n",
      "40/40 [==============================] - 0s 7ms/step - loss: 0.1994 - val_loss: 0.2606\n",
      "Epoch 9/100\n",
      "40/40 [==============================] - 0s 7ms/step - loss: 0.1936 - val_loss: 0.2632\n",
      "Epoch 10/100\n",
      "40/40 [==============================] - 0s 7ms/step - loss: 0.1885 - val_loss: 0.2653\n",
      "Epoch 11/100\n",
      "40/40 [==============================] - 0s 7ms/step - loss: 0.1837 - val_loss: 0.2653\n",
      "Epoch 12/100\n",
      "40/40 [==============================] - 0s 7ms/step - loss: 0.1781 - val_loss: 0.2682\n",
      "Epoch 13/100\n",
      "40/40 [==============================] - 0s 7ms/step - loss: 0.1739 - val_loss: 0.2690\n",
      "Epoch 14/100\n",
      "40/40 [==============================] - 0s 7ms/step - loss: 0.1687 - val_loss: 0.2709\n",
      "Epoch 15/100\n",
      "40/40 [==============================] - 0s 7ms/step - loss: 0.1636 - val_loss: 0.2740\n",
      "Epoch 16/100\n",
      "40/40 [==============================] - 0s 7ms/step - loss: 0.1592 - val_loss: 0.2760\n",
      "Epoch 17/100\n",
      "40/40 [==============================] - 0s 8ms/step - loss: 0.1543 - val_loss: 0.2767\n",
      "Epoch 18/100\n",
      "40/40 [==============================] - 0s 7ms/step - loss: 0.1493 - val_loss: 0.2789\n",
      "Epoch 19/100\n",
      "40/40 [==============================] - 0s 7ms/step - loss: 0.1441 - val_loss: 0.2807\n",
      "Epoch 20/100\n",
      "40/40 [==============================] - 0s 8ms/step - loss: 0.1402 - val_loss: 0.2814\n",
      "Epoch 21/100\n",
      "40/40 [==============================] - 0s 7ms/step - loss: 0.1349 - val_loss: 0.2847\n",
      "Epoch 22/100\n",
      "40/40 [==============================] - 0s 7ms/step - loss: 0.1306 - val_loss: 0.2861\n",
      "Epoch 23/100\n",
      "40/40 [==============================] - 0s 7ms/step - loss: 0.1256 - val_loss: 0.2885\n",
      "Epoch 24/100\n",
      "40/40 [==============================] - 0s 7ms/step - loss: 0.1210 - val_loss: 0.2898\n",
      "Epoch 25/100\n",
      "40/40 [==============================] - 0s 7ms/step - loss: 0.1170 - val_loss: 0.2915\n",
      "Epoch 26/100\n",
      "40/40 [==============================] - 0s 7ms/step - loss: 0.1149 - val_loss: 0.2923\n",
      "Epoch 27/100\n",
      "40/40 [==============================] - 0s 7ms/step - loss: 0.1093 - val_loss: 0.2947\n",
      "Epoch 28/100\n",
      "40/40 [==============================] - 0s 7ms/step - loss: 0.1057 - val_loss: 0.2959\n",
      "Epoch 29/100\n",
      "40/40 [==============================] - 0s 7ms/step - loss: 0.1009 - val_loss: 0.2979\n",
      "Epoch 30/100\n",
      "40/40 [==============================] - 0s 7ms/step - loss: 0.0977 - val_loss: 0.2990\n",
      "Epoch 31/100\n",
      "40/40 [==============================] - 0s 7ms/step - loss: 0.0948 - val_loss: 0.3014\n",
      "Epoch 32/100\n",
      "40/40 [==============================] - 0s 7ms/step - loss: 0.0922 - val_loss: 0.3037\n",
      "Epoch 33/100\n",
      "40/40 [==============================] - 0s 7ms/step - loss: 0.0871 - val_loss: 0.3050\n",
      "Epoch 34/100\n",
      "40/40 [==============================] - 0s 7ms/step - loss: 0.0843 - val_loss: 0.3075\n",
      "Epoch 35/100\n",
      "40/40 [==============================] - 0s 7ms/step - loss: 0.0817 - val_loss: 0.3092\n",
      "Epoch 36/100\n",
      "40/40 [==============================] - 0s 7ms/step - loss: 0.0788 - val_loss: 0.3089\n",
      "Epoch 37/100\n",
      "40/40 [==============================] - 0s 7ms/step - loss: 0.0749 - val_loss: 0.3124\n",
      "Epoch 38/100\n",
      "40/40 [==============================] - 0s 7ms/step - loss: 0.0732 - val_loss: 0.3117\n",
      "Epoch 39/100\n",
      "40/40 [==============================] - 0s 7ms/step - loss: 0.0698 - val_loss: 0.3146\n",
      "Epoch 40/100\n",
      "40/40 [==============================] - 0s 7ms/step - loss: 0.0671 - val_loss: 0.3151\n",
      "Epoch 41/100\n",
      "40/40 [==============================] - 0s 7ms/step - loss: 0.0642 - val_loss: 0.3181\n",
      "Epoch 42/100\n",
      "40/40 [==============================] - 0s 7ms/step - loss: 0.0619 - val_loss: 0.3209\n",
      "Epoch 43/100\n",
      "40/40 [==============================] - 0s 8ms/step - loss: 0.0601 - val_loss: 0.3205\n",
      "Epoch 44/100\n",
      "40/40 [==============================] - 0s 7ms/step - loss: 0.0567 - val_loss: 0.3231\n",
      "Epoch 45/100\n",
      "40/40 [==============================] - 0s 7ms/step - loss: 0.0547 - val_loss: 0.3250\n",
      "Epoch 46/100\n",
      "40/40 [==============================] - 0s 7ms/step - loss: 0.0520 - val_loss: 0.3249\n",
      "Epoch 47/100\n",
      "40/40 [==============================] - 0s 7ms/step - loss: 0.0506 - val_loss: 0.3278\n",
      "Epoch 48/100\n",
      "40/40 [==============================] - 0s 7ms/step - loss: 0.0470 - val_loss: 0.3270\n",
      "Epoch 49/100\n",
      "40/40 [==============================] - 0s 7ms/step - loss: 0.0453 - val_loss: 0.3292\n",
      "Epoch 50/100\n",
      "40/40 [==============================] - 0s 7ms/step - loss: 0.0431 - val_loss: 0.3334\n",
      "Epoch 51/100\n",
      "40/40 [==============================] - 0s 7ms/step - loss: 0.0417 - val_loss: 0.3318\n",
      "Epoch 52/100\n",
      "40/40 [==============================] - 0s 7ms/step - loss: 0.0386 - val_loss: 0.3357\n",
      "Epoch 53/100\n",
      "40/40 [==============================] - 0s 7ms/step - loss: 0.0373 - val_loss: 0.3360\n",
      "Epoch 54/100\n",
      "40/40 [==============================] - 0s 7ms/step - loss: 0.0351 - val_loss: 0.3369\n",
      "Epoch 55/100\n",
      "40/40 [==============================] - 0s 7ms/step - loss: 0.0332 - val_loss: 0.3391\n",
      "Epoch 56/100\n",
      "40/40 [==============================] - 0s 7ms/step - loss: 0.0319 - val_loss: 0.3396\n",
      "Epoch 57/100\n",
      "40/40 [==============================] - 0s 7ms/step - loss: 0.0310 - val_loss: 0.3430\n",
      "Epoch 58/100\n",
      "40/40 [==============================] - 0s 7ms/step - loss: 0.0289 - val_loss: 0.3448\n",
      "Epoch 59/100\n",
      "40/40 [==============================] - 0s 7ms/step - loss: 0.0269 - val_loss: 0.3460\n",
      "Epoch 60/100\n",
      "40/40 [==============================] - 0s 7ms/step - loss: 0.0261 - val_loss: 0.3465\n",
      "Epoch 61/100\n",
      "40/40 [==============================] - 0s 7ms/step - loss: 0.0248 - val_loss: 0.3484\n",
      "Epoch 62/100\n",
      "40/40 [==============================] - 0s 7ms/step - loss: 0.0241 - val_loss: 0.3473\n",
      "Epoch 63/100\n",
      "40/40 [==============================] - 0s 7ms/step - loss: 0.0231 - val_loss: 0.3511\n",
      "Epoch 64/100\n",
      "40/40 [==============================] - 0s 7ms/step - loss: 0.0214 - val_loss: 0.3529\n",
      "Epoch 65/100\n",
      "40/40 [==============================] - 0s 7ms/step - loss: 0.0206 - val_loss: 0.3541\n",
      "Epoch 66/100\n",
      "40/40 [==============================] - 0s 7ms/step - loss: 0.0196 - val_loss: 0.3546\n",
      "Epoch 67/100\n",
      "40/40 [==============================] - 0s 7ms/step - loss: 0.0181 - val_loss: 0.3573\n",
      "Epoch 68/100\n",
      "40/40 [==============================] - 0s 7ms/step - loss: 0.0180 - val_loss: 0.3573\n",
      "Epoch 69/100\n",
      "40/40 [==============================] - 0s 7ms/step - loss: 0.0166 - val_loss: 0.3583\n",
      "Epoch 70/100\n",
      "40/40 [==============================] - 0s 7ms/step - loss: 0.0156 - val_loss: 0.3599\n",
      "Epoch 71/100\n",
      "40/40 [==============================] - 0s 7ms/step - loss: 0.0149 - val_loss: 0.3613\n",
      "Epoch 72/100\n",
      "40/40 [==============================] - 0s 7ms/step - loss: 0.0143 - val_loss: 0.3624\n",
      "Epoch 73/100\n",
      "40/40 [==============================] - 0s 9ms/step - loss: 0.0137 - val_loss: 0.3626\n",
      "Epoch 74/100\n",
      "40/40 [==============================] - 0s 8ms/step - loss: 0.0131 - val_loss: 0.3637\n",
      "Epoch 75/100\n",
      "40/40 [==============================] - 0s 7ms/step - loss: 0.0126 - val_loss: 0.3656\n",
      "Epoch 76/100\n",
      "40/40 [==============================] - 0s 10ms/step - loss: 0.0119 - val_loss: 0.3655\n",
      "Epoch 77/100\n",
      "40/40 [==============================] - 0s 9ms/step - loss: 0.0114 - val_loss: 0.3661\n",
      "Epoch 78/100\n",
      "40/40 [==============================] - 0s 11ms/step - loss: 0.0108 - val_loss: 0.3677\n",
      "Epoch 79/100\n",
      "40/40 [==============================] - 0s 8ms/step - loss: 0.0104 - val_loss: 0.3680\n",
      "Epoch 80/100\n",
      "40/40 [==============================] - 0s 11ms/step - loss: 0.0101 - val_loss: 0.3696\n",
      "Epoch 81/100\n",
      "40/40 [==============================] - 0s 9ms/step - loss: 0.0096 - val_loss: 0.3696\n",
      "Epoch 82/100\n",
      "40/40 [==============================] - 0s 7ms/step - loss: 0.0092 - val_loss: 0.3709\n",
      "Epoch 83/100\n",
      "40/40 [==============================] - 0s 7ms/step - loss: 0.0089 - val_loss: 0.3728\n",
      "Epoch 84/100\n",
      "40/40 [==============================] - 0s 7ms/step - loss: 0.0086 - val_loss: 0.3722\n",
      "Epoch 85/100\n",
      "40/40 [==============================] - 0s 7ms/step - loss: 0.0083 - val_loss: 0.3735\n",
      "Epoch 86/100\n",
      "40/40 [==============================] - 0s 8ms/step - loss: 0.0080 - val_loss: 0.3759\n",
      "Epoch 87/100\n",
      "40/40 [==============================] - 0s 8ms/step - loss: 0.0078 - val_loss: 0.3760\n",
      "Epoch 88/100\n",
      "40/40 [==============================] - 0s 9ms/step - loss: 0.0075 - val_loss: 0.3763\n",
      "Epoch 89/100\n",
      "40/40 [==============================] - 0s 7ms/step - loss: 0.0073 - val_loss: 0.3773\n",
      "Epoch 90/100\n",
      "40/40 [==============================] - 0s 7ms/step - loss: 0.0071 - val_loss: 0.3783\n",
      "Epoch 91/100\n",
      "40/40 [==============================] - 0s 9ms/step - loss: 0.0069 - val_loss: 0.3797\n",
      "Epoch 92/100\n",
      "40/40 [==============================] - 0s 7ms/step - loss: 0.0067 - val_loss: 0.3799\n",
      "Epoch 93/100\n",
      "40/40 [==============================] - 0s 7ms/step - loss: 0.0066 - val_loss: 0.3805\n",
      "Epoch 94/100\n",
      "40/40 [==============================] - 0s 7ms/step - loss: 0.0064 - val_loss: 0.3818\n",
      "Epoch 95/100\n",
      "40/40 [==============================] - 0s 7ms/step - loss: 0.0062 - val_loss: 0.3817\n",
      "Epoch 96/100\n",
      "40/40 [==============================] - 0s 7ms/step - loss: 0.0060 - val_loss: 0.3822\n",
      "Epoch 97/100\n",
      "40/40 [==============================] - 0s 7ms/step - loss: 0.0059 - val_loss: 0.3828\n",
      "Epoch 98/100\n",
      "40/40 [==============================] - 0s 7ms/step - loss: 0.0058 - val_loss: 0.3831\n",
      "Epoch 99/100\n",
      "40/40 [==============================] - 0s 7ms/step - loss: 0.0057 - val_loss: 0.3845\n",
      "Epoch 100/100\n",
      "40/40 [==============================] - 0s 7ms/step - loss: 0.0056 - val_loss: 0.3846\n",
      "20/20 [==============================] - 0s 2ms/step\n"
     ]
    },
    {
     "name": "stderr",
     "output_type": "stream",
     "text": [
      "2023-02-08 10:21:11.773504: I tensorflow/core/grappler/optimizers/custom_graph_optimizer_registry.cc:113] Plugin optimizer for device_type GPU is enabled.\n"
     ]
    },
    {
     "data": {
      "image/png": "[encoded data removed]",
      "text/plain": [
       "<Figure size 720x720 with 1 Axes>"
      ]
     },
     "metadata": {
      "needs_background": "light"
     },
     "output_type": "display_data"
    }
   ],
   "source": [
    "model = Sequential()\n",
    "model.add(Dense(32, input_dim=82, activation='relu'))\n",
    "model.add(Dense(16, activation='relu'))\n",
    "model.add(Dense(1, activation='sigmoid'))\n",
    "\n",
    "# Compile the model\n",
    "model.compile(loss='mean_squared_error', optimizer='adam')\n",
    "\n",
    "# Fit the model to the training data\n",
    "history = model.fit(X_train, Y_train, epochs=100, batch_size=32, validation_data=(X_test, Y_test))\n",
    "\n",
    "# Make predictions on the test data\n",
    "Y_pred = model.predict(X_test)\n",
    "\n",
    "# Plot the results\n",
    "plt.figure(figsize=(10,10))\n",
    "plt.scatter(Y_pred, Y_test)\n",
    "plt.ylabel('Actual Return')\n",
    "plt.xlabel('Predicted Return')\n",
    "plt.title('Scatter Plot of Actual vs Predicted Returns')\n",
    "plt.show()"
   ]
  },
  {
   "cell_type": "code",
   "execution_count": 715,
   "metadata": {},
   "outputs": [
    {
     "data": {
      "image/png": "[encoded data removed]",
      "text/plain": [
       "<Figure size 720x720 with 1 Axes>"
      ]
     },
     "metadata": {
      "needs_background": "light"
     },
     "output_type": "display_data"
    }
   ],
   "source": [
    "plt.figure(figsize=(10,10))\n",
    "plt.scatter(Y_test, Y_pred, c='crimson')\n",
    "plt.yscale('log')\n",
    "plt.xscale('log')\n",
    "\n",
    "p1 = max(max(Y_pred), max(Y_test))\n",
    "p2 = min(min(Y_pred), min(Y_test))\n",
    "plt.plot([0, p1], [0, p1])\n",
    "plt.xlabel('True Values', fontsize=15)\n",
    "plt.ylabel('Predictions', fontsize=15)\n",
    "plt.axis('equal')\n",
    "plt.show()"
   ]
  },
  {
   "cell_type": "code",
   "execution_count": 25,
   "metadata": {},
   "outputs": [
    {
     "name": "stdout",
     "output_type": "stream",
     "text": [
      "MSE: 1.02\n",
      "R2: -0.00\n"
     ]
    },
    {
     "name": "stderr",
     "output_type": "stream",
     "text": [
      "/Users/victor/miniforge3/envs/NLP_env/lib/python3.8/site-packages/sklearn/utils/validation.py:1143: DataConversionWarning: A column-vector y was passed when a 1d array was expected. Please change the shape of y to (n_samples, ), for example using ravel().\n",
      "  y = column_or_1d(y, warn=True)\n"
     ]
    },
    {
     "data": {
      "image/png": "[encoded data removed]",
      "text/plain": [
       "<Figure size 720x720 with 1 Axes>"
      ]
     },
     "metadata": {
      "needs_background": "light"
     },
     "output_type": "display_data"
    }
   ],
   "source": [
    "from sklearn.svm import SVR\n",
    "from sklearn.model_selection import train_test_split\n",
    "from sklearn.metrics import mean_squared_error, r2_score\n",
    "model = SVR(kernel='rbf', C=1e3, gamma=0.1, epsilon=0.2, tol=0.001, shrinking=True, cache_size=200, verbose=False, max_iter=-1)\n",
    "model.fit(X_train, Y_train)\n",
    "\n",
    "# Make predictions on the test set\n",
    "Y_pred = model.predict(X_test)\n",
    "\n",
    "# Evaluate the model's performance\n",
    "mse = mean_squared_error(Y_test, Y_pred)\n",
    "r2 = r2_score(Y_test, Y_pred)\n",
    "print(f'MSE: {mse:.2f}')\n",
    "print(f'R2: {r2:.2f}')\n",
    "\n",
    "# Plot the predictions against the actual returns\n",
    "plt.figure(figsize=(10,10))\n",
    "plt.scatter(Y_test, Y_pred)\n",
    "plt.xlabel(\"True Returns\")\n",
    "plt.ylabel(\"Predicted Returns\")\n",
    "plt.title(\"SVM Prediction Results\")\n",
    "plt.show()"
   ]
  },
  {
   "cell_type": "code",
   "execution_count": 24,
   "metadata": {},
   "outputs": [
    {
     "data": {
      "image/png": "[encoded data removed]",
      "text/plain": [
       "<Figure size 720x720 with 1 Axes>"
      ]
     },
     "metadata": {
      "needs_background": "light"
     },
     "output_type": "display_data"
    }
   ],
   "source": [
    "from sklearn.neighbors import KNeighborsRegressor\n",
    "\n",
    "\n",
    "knn = KNeighborsRegressor(n_neighbors=5)\n",
    "\n",
    "# Fit the model on the training data\n",
    "\n",
    "knn.fit(X_train, Y_train)\n",
    "\n",
    "Y_pred = knn.predict(X_test)\n",
    "# mse = mean_squared_error(Y_test, Y_pred)\n",
    "r2 = r2_score(Y_test, Y_pred)\n",
    "print(f'MSE: {mse:.2f}')\n",
    "print(f'R2: {r2:.2f}')\n",
    "\n",
    "# Plot the predictions against the actual returns\n",
    "plt.figure(figsize=(10,10))\n",
    "plt.scatter(Y_test, Y_pred)\n",
    "plt.xlabel(\"True Returns\")\n",
    "plt.ylabel(\"Predicted Returns\")\n",
    "plt.title(\"SVM Prediction Results\")\n",
    "plt.show()"
   ]
  },
  {
   "cell_type": "code",
   "execution_count": 20,
   "metadata": {},
   "outputs": [],
   "source": [
    "import keras\n",
    "from keras.models import Sequential\n",
    "from keras.layers import Dense, Dropout\n",
    "import matplotlib.pyplot as plt\n",
    "\n",
    "\n"
   ]
  },
  {
   "cell_type": "code",
   "execution_count": 21,
   "metadata": {},
   "outputs": [
    {
     "name": "stdout",
     "output_type": "stream",
     "text": [
      "Epoch 1/100\n"
     ]
    },
    {
     "name": "stderr",
     "output_type": "stream",
     "text": [
      "2023-02-07 17:31:51.302247: I tensorflow/core/grappler/optimizers/custom_graph_optimizer_registry.cc:113] Plugin optimizer for device_type GPU is enabled.\n"
     ]
    },
    {
     "name": "stdout",
     "output_type": "stream",
     "text": [
      "17/17 [==============================] - 1s 41ms/step - loss: 10.8878 - mse: 1.2637 - val_loss: 0.3814 - val_mse: 1.0045\n",
      "Epoch 2/100\n",
      " 1/17 [>.............................] - ETA: 0s - loss: 8.1379 - mse: 0.8152"
     ]
    },
    {
     "name": "stderr",
     "output_type": "stream",
     "text": [
      "2023-02-07 17:31:52.116228: I tensorflow/core/grappler/optimizers/custom_graph_optimizer_registry.cc:113] Plugin optimizer for device_type GPU is enabled.\n"
     ]
    },
    {
     "name": "stdout",
     "output_type": "stream",
     "text": [
      "17/17 [==============================] - 0s 19ms/step - loss: 1.0446 - mse: 1.1193 - val_loss: 0.6174 - val_mse: 1.0299\n",
      "Epoch 3/100\n",
      "17/17 [==============================] - 0s 18ms/step - loss: -0.1494 - mse: 1.0537 - val_loss: 1.0680 - val_mse: 1.0343\n",
      "Epoch 4/100\n",
      "17/17 [==============================] - 0s 17ms/step - loss: 9.5311 - mse: 1.0474 - val_loss: 0.6319 - val_mse: 1.0296\n",
      "Epoch 5/100\n",
      "17/17 [==============================] - 0s 17ms/step - loss: 2.7768 - mse: 1.0704 - val_loss: 0.4758 - val_mse: 1.0217\n",
      "Epoch 6/100\n",
      "17/17 [==============================] - 0s 17ms/step - loss: 4.1851 - mse: 1.0728 - val_loss: 0.4292 - val_mse: 1.0148\n",
      "Epoch 7/100\n",
      "17/17 [==============================] - 0s 16ms/step - loss: 2.9186 - mse: 1.0860 - val_loss: 0.4844 - val_mse: 1.0371\n",
      "Epoch 8/100\n",
      "17/17 [==============================] - 0s 18ms/step - loss: 2.1880 - mse: 1.0888 - val_loss: 0.5532 - val_mse: 1.0698\n",
      "Epoch 9/100\n",
      "17/17 [==============================] - 0s 17ms/step - loss: 0.6504 - mse: 1.1046 - val_loss: 0.6341 - val_mse: 1.1095\n",
      "Epoch 10/100\n",
      "17/17 [==============================] - 0s 16ms/step - loss: 2.4095 - mse: 1.0923 - val_loss: 0.7051 - val_mse: 1.1448\n",
      "Epoch 11/100\n",
      "17/17 [==============================] - 0s 17ms/step - loss: 0.1597 - mse: 1.0562 - val_loss: 0.6428 - val_mse: 1.1138\n",
      "Epoch 12/100\n",
      "17/17 [==============================] - 0s 16ms/step - loss: 1.0084 - mse: 1.0737 - val_loss: 0.6985 - val_mse: 1.1416\n",
      "Epoch 13/100\n",
      "17/17 [==============================] - 0s 17ms/step - loss: 1.0904 - mse: 1.0575 - val_loss: 0.7302 - val_mse: 1.1574\n",
      "Epoch 14/100\n",
      "17/17 [==============================] - 0s 17ms/step - loss: 1.3932 - mse: 1.0435 - val_loss: 0.5314 - val_mse: 1.0599\n",
      "Epoch 15/100\n",
      "17/17 [==============================] - 0s 16ms/step - loss: 2.5096 - mse: 1.0473 - val_loss: 0.4323 - val_mse: 1.0182\n",
      "Epoch 16/100\n",
      "17/17 [==============================] - 0s 16ms/step - loss: 0.4748 - mse: 1.0133 - val_loss: 0.4687 - val_mse: 1.0320\n",
      "Epoch 17/100\n",
      "17/17 [==============================] - 0s 20ms/step - loss: 1.3814 - mse: 1.0286 - val_loss: 0.5426 - val_mse: 1.0649\n",
      "Epoch 18/100\n",
      "17/17 [==============================] - 0s 20ms/step - loss: 1.3074 - mse: 1.0316 - val_loss: 0.6144 - val_mse: 1.1001\n",
      "Epoch 19/100\n",
      "17/17 [==============================] - 0s 17ms/step - loss: -0.1182 - mse: 1.0184 - val_loss: 0.4938 - val_mse: 1.0427\n",
      "Epoch 20/100\n",
      "17/17 [==============================] - 0s 17ms/step - loss: -0.2391 - mse: 1.0650 - val_loss: 0.5582 - val_mse: 1.0722\n",
      "Epoch 21/100\n",
      "17/17 [==============================] - 0s 17ms/step - loss: 1.5005 - mse: 1.0616 - val_loss: 0.4308 - val_mse: 1.0156\n",
      "Epoch 22/100\n",
      "17/17 [==============================] - 0s 18ms/step - loss: 1.1253 - mse: 1.0620 - val_loss: 0.4182 - val_mse: 1.0124\n",
      "Epoch 23/100\n",
      "17/17 [==============================] - 0s 17ms/step - loss: 1.3394 - mse: 1.1022 - val_loss: 0.3877 - val_mse: 1.0060\n",
      "Epoch 24/100\n",
      "17/17 [==============================] - 0s 16ms/step - loss: 0.7985 - mse: 1.0387 - val_loss: 0.4074 - val_mse: 1.0100\n",
      "Epoch 25/100\n",
      "17/17 [==============================] - 0s 16ms/step - loss: 0.8054 - mse: 1.0649 - val_loss: 0.5746 - val_mse: 1.0803\n",
      "Epoch 26/100\n",
      "17/17 [==============================] - 0s 16ms/step - loss: -0.0732 - mse: 1.0581 - val_loss: 0.4128 - val_mse: 1.0104\n",
      "Epoch 27/100\n",
      "17/17 [==============================] - 0s 17ms/step - loss: 3.8376 - mse: 1.0714 - val_loss: 0.6785 - val_mse: 1.1316\n",
      "Epoch 28/100\n",
      "17/17 [==============================] - 0s 18ms/step - loss: 0.6324 - mse: 1.0452 - val_loss: 0.6894 - val_mse: 1.1370\n",
      "Epoch 29/100\n",
      "17/17 [==============================] - 0s 26ms/step - loss: 0.4081 - mse: 1.0238 - val_loss: 0.6856 - val_mse: 1.1350\n",
      "Epoch 30/100\n",
      "17/17 [==============================] - 0s 14ms/step - loss: 0.9857 - mse: 1.0531 - val_loss: 0.6553 - val_mse: 1.1200\n",
      "Epoch 31/100\n",
      "17/17 [==============================] - 0s 15ms/step - loss: 0.7197 - mse: 1.0456 - val_loss: 0.7018 - val_mse: 1.1432\n",
      "Epoch 32/100\n",
      "17/17 [==============================] - 0s 15ms/step - loss: 0.6330 - mse: 1.0334 - val_loss: 0.6156 - val_mse: 1.1003\n",
      "Epoch 33/100\n",
      "17/17 [==============================] - 0s 15ms/step - loss: 0.6274 - mse: 1.0380 - val_loss: 0.6300 - val_mse: 1.1075\n",
      "Epoch 34/100\n",
      "17/17 [==============================] - 0s 15ms/step - loss: 0.6456 - mse: 1.0428 - val_loss: 0.5920 - val_mse: 1.0887\n",
      "Epoch 35/100\n",
      "17/17 [==============================] - 0s 15ms/step - loss: 0.4494 - mse: 1.0233 - val_loss: 0.5963 - val_mse: 1.0908\n",
      "Epoch 36/100\n",
      "17/17 [==============================] - 0s 16ms/step - loss: 0.5008 - mse: 1.0312 - val_loss: 0.5986 - val_mse: 1.0920\n",
      "Epoch 37/100\n",
      "17/17 [==============================] - 0s 16ms/step - loss: 0.9045 - mse: 1.0238 - val_loss: 0.5962 - val_mse: 1.0908\n",
      "Epoch 38/100\n",
      "17/17 [==============================] - 0s 20ms/step - loss: 0.5560 - mse: 1.0222 - val_loss: 0.5052 - val_mse: 1.0478\n",
      "Epoch 39/100\n",
      "17/17 [==============================] - 0s 30ms/step - loss: 0.3349 - mse: 1.0075 - val_loss: 0.4266 - val_mse: 1.0163\n",
      "Epoch 40/100\n",
      "17/17 [==============================] - 0s 16ms/step - loss: 0.1542 - mse: 1.0214 - val_loss: 0.4320 - val_mse: 1.0169\n",
      "Epoch 41/100\n",
      "17/17 [==============================] - 0s 17ms/step - loss: 0.3605 - mse: 1.0300 - val_loss: 0.4384 - val_mse: 1.0194\n",
      "Epoch 42/100\n",
      "17/17 [==============================] - 0s 17ms/step - loss: 0.7075 - mse: 1.0020 - val_loss: 0.5252 - val_mse: 1.0565\n",
      "Epoch 43/100\n",
      "17/17 [==============================] - 0s 17ms/step - loss: 0.0069 - mse: 1.0117 - val_loss: 0.5187 - val_mse: 1.0540\n",
      "Epoch 44/100\n",
      "17/17 [==============================] - 0s 16ms/step - loss: 1.3314 - mse: 1.0625 - val_loss: 0.4115 - val_mse: 1.0126\n",
      "Epoch 45/100\n",
      "17/17 [==============================] - 0s 17ms/step - loss: 1.3529 - mse: 1.0147 - val_loss: 0.4478 - val_mse: 1.0242\n",
      "Epoch 46/100\n",
      "17/17 [==============================] - 0s 16ms/step - loss: 1.0169 - mse: 0.9997 - val_loss: 0.5208 - val_mse: 1.0549\n",
      "Epoch 47/100\n",
      "17/17 [==============================] - 0s 17ms/step - loss: 0.8525 - mse: 1.0126 - val_loss: 0.6081 - val_mse: 1.0969\n",
      "Epoch 48/100\n",
      "17/17 [==============================] - 0s 16ms/step - loss: 0.6641 - mse: 1.0185 - val_loss: 0.6572 - val_mse: 1.1211\n",
      "Epoch 49/100\n",
      "17/17 [==============================] - 0s 17ms/step - loss: 0.6664 - mse: 1.0230 - val_loss: 0.6408 - val_mse: 1.1129\n",
      "Epoch 50/100\n",
      "17/17 [==============================] - 0s 19ms/step - loss: 0.4532 - mse: 1.0053 - val_loss: 0.6833 - val_mse: 1.1341\n",
      "Epoch 51/100\n",
      "17/17 [==============================] - 0s 17ms/step - loss: 0.6009 - mse: 1.0070 - val_loss: 0.6832 - val_mse: 1.1341\n",
      "Epoch 52/100\n",
      "17/17 [==============================] - 0s 17ms/step - loss: 0.4558 - mse: 1.0069 - val_loss: 0.6294 - val_mse: 1.1073\n",
      "Epoch 53/100\n",
      "17/17 [==============================] - 0s 18ms/step - loss: 0.6075 - mse: 1.0184 - val_loss: 0.5599 - val_mse: 1.0733\n",
      "Epoch 54/100\n",
      "17/17 [==============================] - 0s 19ms/step - loss: 0.4440 - mse: 0.9989 - val_loss: 0.5096 - val_mse: 1.0499\n",
      "Epoch 55/100\n",
      "17/17 [==============================] - 0s 17ms/step - loss: 0.4465 - mse: 1.0026 - val_loss: 0.4967 - val_mse: 1.0441\n",
      "Epoch 56/100\n",
      "17/17 [==============================] - 0s 16ms/step - loss: 0.5061 - mse: 1.0121 - val_loss: 0.4893 - val_mse: 1.0409\n",
      "Epoch 57/100\n",
      "17/17 [==============================] - 0s 17ms/step - loss: 0.5431 - mse: 1.0034 - val_loss: 0.4842 - val_mse: 1.0389\n",
      "Epoch 58/100\n",
      "17/17 [==============================] - 0s 18ms/step - loss: 0.5106 - mse: 1.0117 - val_loss: 0.5174 - val_mse: 1.0536\n",
      "Epoch 59/100\n",
      "17/17 [==============================] - 0s 17ms/step - loss: 0.5008 - mse: 1.0127 - val_loss: 0.5129 - val_mse: 1.0516\n",
      "Epoch 60/100\n",
      "17/17 [==============================] - 0s 18ms/step - loss: 0.4583 - mse: 1.0060 - val_loss: 0.5220 - val_mse: 1.0555\n",
      "Epoch 61/100\n",
      "17/17 [==============================] - 0s 17ms/step - loss: 0.3381 - mse: 0.9869 - val_loss: 0.4987 - val_mse: 1.0451\n",
      "Epoch 62/100\n",
      "17/17 [==============================] - 0s 17ms/step - loss: 0.3174 - mse: 0.9772 - val_loss: 0.4683 - val_mse: 1.0324\n",
      "Epoch 63/100\n",
      "17/17 [==============================] - 0s 17ms/step - loss: 0.4699 - mse: 0.9922 - val_loss: 0.4780 - val_mse: 1.0367\n",
      "Epoch 64/100\n",
      "17/17 [==============================] - 0s 17ms/step - loss: 0.1724 - mse: 0.9709 - val_loss: 0.5301 - val_mse: 1.0598\n",
      "Epoch 65/100\n",
      "17/17 [==============================] - 0s 17ms/step - loss: 0.4751 - mse: 0.9936 - val_loss: 0.5184 - val_mse: 1.0544\n",
      "Epoch 66/100\n",
      "17/17 [==============================] - 0s 16ms/step - loss: 0.4695 - mse: 0.9954 - val_loss: 0.5315 - val_mse: 1.0604\n",
      "Epoch 67/100\n",
      "17/17 [==============================] - 0s 17ms/step - loss: 0.5021 - mse: 0.9952 - val_loss: 0.5526 - val_mse: 1.0700\n",
      "Epoch 68/100\n",
      "17/17 [==============================] - 0s 17ms/step - loss: 0.4916 - mse: 0.9950 - val_loss: 0.5391 - val_mse: 1.0636\n",
      "Epoch 69/100\n",
      "17/17 [==============================] - 0s 19ms/step - loss: 0.4761 - mse: 1.0015 - val_loss: 0.5301 - val_mse: 1.0593\n",
      "Epoch 70/100\n",
      "17/17 [==============================] - 0s 17ms/step - loss: 0.4317 - mse: 0.9866 - val_loss: 0.5091 - val_mse: 1.0498\n",
      "Epoch 71/100\n",
      "17/17 [==============================] - 0s 17ms/step - loss: 0.3745 - mse: 0.9838 - val_loss: 0.4927 - val_mse: 1.0428\n",
      "Epoch 72/100\n",
      "17/17 [==============================] - 0s 17ms/step - loss: 0.5920 - mse: 0.9931 - val_loss: 0.4823 - val_mse: 1.0381\n",
      "Epoch 73/100\n",
      "17/17 [==============================] - 0s 17ms/step - loss: 0.1637 - mse: 0.9732 - val_loss: 0.4469 - val_mse: 1.0240\n",
      "Epoch 74/100\n",
      "17/17 [==============================] - 0s 16ms/step - loss: 0.4708 - mse: 0.9889 - val_loss: 0.4227 - val_mse: 1.0157\n",
      "Epoch 75/100\n",
      "17/17 [==============================] - 0s 17ms/step - loss: 0.1676 - mse: 0.9756 - val_loss: 0.5279 - val_mse: 1.0593\n",
      "Epoch 76/100\n",
      "17/17 [==============================] - 0s 18ms/step - loss: 0.4418 - mse: 0.9975 - val_loss: 0.4641 - val_mse: 1.0317\n",
      "Epoch 77/100\n",
      "17/17 [==============================] - 0s 17ms/step - loss: 0.4476 - mse: 0.9744 - val_loss: 0.4354 - val_mse: 1.0205\n",
      "Epoch 78/100\n",
      "17/17 [==============================] - 0s 18ms/step - loss: 0.5456 - mse: 0.9828 - val_loss: 0.4504 - val_mse: 1.0259\n",
      "Epoch 79/100\n",
      "17/17 [==============================] - 0s 17ms/step - loss: 0.3400 - mse: 0.9792 - val_loss: 0.4440 - val_mse: 1.0234\n",
      "Epoch 80/100\n",
      "17/17 [==============================] - 0s 16ms/step - loss: 0.2389 - mse: 0.9641 - val_loss: 0.4167 - val_mse: 1.0142\n",
      "Epoch 81/100\n",
      "17/17 [==============================] - 0s 17ms/step - loss: 0.8411 - mse: 0.9940 - val_loss: 0.4411 - val_mse: 1.0224\n",
      "Epoch 82/100\n",
      "17/17 [==============================] - 0s 17ms/step - loss: 0.5513 - mse: 0.9813 - val_loss: 0.5603 - val_mse: 1.0737\n",
      "Epoch 83/100\n",
      "17/17 [==============================] - 0s 19ms/step - loss: 0.3646 - mse: 0.9752 - val_loss: 0.5505 - val_mse: 1.0688\n",
      "Epoch 84/100\n",
      "17/17 [==============================] - 0s 17ms/step - loss: 0.4232 - mse: 0.9820 - val_loss: 0.5525 - val_mse: 1.0699\n",
      "Epoch 85/100\n",
      "17/17 [==============================] - 0s 19ms/step - loss: 0.4665 - mse: 0.9805 - val_loss: 0.5631 - val_mse: 1.0747\n",
      "Epoch 86/100\n",
      "17/17 [==============================] - 0s 19ms/step - loss: 0.2687 - mse: 0.9691 - val_loss: 0.5529 - val_mse: 1.0699\n",
      "Epoch 87/100\n",
      "17/17 [==============================] - 0s 17ms/step - loss: 0.5598 - mse: 0.9908 - val_loss: 0.5306 - val_mse: 1.0599\n",
      "Epoch 88/100\n",
      "17/17 [==============================] - 0s 17ms/step - loss: 0.3993 - mse: 0.9795 - val_loss: 0.5273 - val_mse: 1.0583\n",
      "Epoch 89/100\n",
      "17/17 [==============================] - 0s 17ms/step - loss: 0.4285 - mse: 0.9725 - val_loss: 0.4738 - val_mse: 1.0344\n",
      "Epoch 90/100\n",
      "17/17 [==============================] - 0s 16ms/step - loss: 0.3622 - mse: 0.9824 - val_loss: 0.4689 - val_mse: 1.0326\n",
      "Epoch 91/100\n",
      "17/17 [==============================] - 0s 19ms/step - loss: 0.3578 - mse: 0.9742 - val_loss: 0.4531 - val_mse: 1.0266\n",
      "Epoch 92/100\n",
      "17/17 [==============================] - 0s 18ms/step - loss: 0.4767 - mse: 0.9798 - val_loss: 0.4890 - val_mse: 1.0412\n",
      "Epoch 93/100\n",
      "17/17 [==============================] - 0s 17ms/step - loss: 0.3296 - mse: 0.9632 - val_loss: 0.5022 - val_mse: 1.0468\n",
      "Epoch 94/100\n",
      "17/17 [==============================] - 0s 17ms/step - loss: 0.3580 - mse: 0.9700 - val_loss: 0.5223 - val_mse: 1.0559\n",
      "Epoch 95/100\n",
      "17/17 [==============================] - 0s 17ms/step - loss: 0.3895 - mse: 0.9702 - val_loss: 0.5401 - val_mse: 1.0643\n",
      "Epoch 96/100\n",
      "17/17 [==============================] - 0s 17ms/step - loss: 0.3770 - mse: 0.9719 - val_loss: 0.5751 - val_mse: 1.0811\n",
      "Epoch 97/100\n",
      "17/17 [==============================] - 0s 17ms/step - loss: 0.4038 - mse: 0.9710 - val_loss: 0.6244 - val_mse: 1.1048\n",
      "Epoch 98/100\n",
      "17/17 [==============================] - 0s 20ms/step - loss: 0.4275 - mse: 0.9800 - val_loss: 0.6233 - val_mse: 1.1041\n",
      "Epoch 99/100\n",
      "17/17 [==============================] - 0s 17ms/step - loss: 0.3162 - mse: 0.9701 - val_loss: 0.5909 - val_mse: 1.0881\n",
      "Epoch 100/100\n",
      "17/17 [==============================] - 0s 17ms/step - loss: 0.3482 - mse: 0.9754 - val_loss: 0.6254 - val_mse: 1.1053\n",
      "9/9 [==============================] - 0s 7ms/step\n"
     ]
    },
    {
     "name": "stderr",
     "output_type": "stream",
     "text": [
      "2023-02-07 17:32:21.297175: I tensorflow/core/grappler/optimizers/custom_graph_optimizer_registry.cc:113] Plugin optimizer for device_type GPU is enabled.\n"
     ]
    },
    {
     "data": {
      "image/png": "[encoded data removed]",
      "text/plain": [
       "<Figure size 720x720 with 1 Axes>"
      ]
     },
     "metadata": {
      "needs_background": "light"
     },
     "output_type": "display_data"
    }
   ],
   "source": [
    "#DECENT MODEL!\n",
    "\n",
    "model = Sequential()\n",
    "\n",
    "# Add multiple hidden layers with different number of neurons\n",
    "model.add(Dense(256, activation='relu', input_shape=(82,)))\n",
    "model.add(Dropout(0.5))\n",
    "model.add(Dense(128, activation='relu'))\n",
    "model.add(Dropout(0.5))\n",
    "model.add(Dense(64, activation='relu'))\n",
    "model.add(Dropout(0.5))\n",
    "model.add(Dense(32, activation='relu'))\n",
    "model.add(Dropout(0.5))\n",
    "model.add(Dense(16, activation='relu'))\n",
    "model.add(Dropout(0.8))\n",
    "# Add the output layer\n",
    "model.add(Dense(1, activation='sigmoid'))\n",
    "\n",
    "# Compile the model\n",
    "model.compile(optimizer='adam', loss='binary_crossentropy', metrics=['mse'])\n",
    "\n",
    "# Train the model\n",
    "model.fit(X_train, Y_train, epochs=100, batch_size=32, validation_data=(X_test, Y_test), verbose=1)\n",
    "\n",
    "Y_pred = model.predict(X_test)\n",
    "plt.figure(figsize=(10,10))\n",
    "plt.scatter(Y_test, Y_pred)\n",
    "plt.xlabel(\"True Returns\")\n",
    "plt.ylabel(\"Predicted Returns\")\n",
    "plt.title(\"SVM Prediction Results\")\n",
    "plt.show()"
   ]
  },
  {
   "cell_type": "code",
   "execution_count": null,
   "metadata": {},
   "outputs": [],
   "source": [
    "regr = DecisionTreeRegressor(random_state=0)\n"
   ]
  },
  {
   "cell_type": "code",
   "execution_count": 592,
   "metadata": {},
   "outputs": [
    {
     "name": "stdout",
     "output_type": "stream",
     "text": [
      "9/9 [==============================] - 0s 4ms/step\n"
     ]
    },
    {
     "ename": "ValueError",
     "evalue": "Classification metrics can't handle a mix of continuous and multiclass targets",
     "output_type": "error",
     "traceback": [
      "\u001b[0;31m---------------------------------------------------------------------------\u001b[0m",
      "\u001b[0;31mValueError\u001b[0m                                Traceback (most recent call last)",
      "\u001b[1;32m/Users/victor/Desktop/Computing_NEA/machine_learning.ipynb Cell 18\u001b[0m in \u001b[0;36m<cell line: 10>\u001b[0;34m()\u001b[0m\n\u001b[1;32m      <a href='vscode-notebook-cell:/Users/victor/Desktop/Computing_NEA/machine_learning.ipynb#ch0000066?line=6'>7</a>\u001b[0m Y_pred \u001b[39m=\u001b[39m np\u001b[39m.\u001b[39mround(Y_pred)\n\u001b[1;32m      <a href='vscode-notebook-cell:/Users/victor/Desktop/Computing_NEA/machine_learning.ipynb#ch0000066?line=8'>9</a>\u001b[0m \u001b[39m# Generate classification report\u001b[39;00m\n\u001b[0;32m---> <a href='vscode-notebook-cell:/Users/victor/Desktop/Computing_NEA/machine_learning.ipynb#ch0000066?line=9'>10</a>\u001b[0m \u001b[39mprint\u001b[39m(classification_report(Y_test, Y_pred))\n",
      "File \u001b[0;32m~/miniforge3/envs/NLP_env/lib/python3.8/site-packages/sklearn/metrics/_classification.py:2125\u001b[0m, in \u001b[0;36mclassification_report\u001b[0;34m(y_true, y_pred, labels, target_names, sample_weight, digits, output_dict, zero_division)\u001b[0m\n\u001b[1;32m   2010\u001b[0m \u001b[39mdef\u001b[39;00m \u001b[39mclassification_report\u001b[39m(\n\u001b[1;32m   2011\u001b[0m     y_true,\n\u001b[1;32m   2012\u001b[0m     y_pred,\n\u001b[0;32m   (...)\u001b[0m\n\u001b[1;32m   2019\u001b[0m     zero_division\u001b[39m=\u001b[39m\u001b[39m\"\u001b[39m\u001b[39mwarn\u001b[39m\u001b[39m\"\u001b[39m,\n\u001b[1;32m   2020\u001b[0m ):\n\u001b[1;32m   2021\u001b[0m     \u001b[39m\"\"\"Build a text report showing the main classification metrics.\u001b[39;00m\n\u001b[1;32m   2022\u001b[0m \n\u001b[1;32m   2023\u001b[0m \u001b[39m    Read more in the :ref:`User Guide <classification_report>`.\u001b[39;00m\n\u001b[0;32m   (...)\u001b[0m\n\u001b[1;32m   2122\u001b[0m \u001b[39m    <BLANKLINE>\u001b[39;00m\n\u001b[1;32m   2123\u001b[0m \u001b[39m    \"\"\"\u001b[39;00m\n\u001b[0;32m-> 2125\u001b[0m     y_type, y_true, y_pred \u001b[39m=\u001b[39m _check_targets(y_true, y_pred)\n\u001b[1;32m   2127\u001b[0m     \u001b[39mif\u001b[39;00m labels \u001b[39mis\u001b[39;00m \u001b[39mNone\u001b[39;00m:\n\u001b[1;32m   2128\u001b[0m         labels \u001b[39m=\u001b[39m unique_labels(y_true, y_pred)\n",
      "File \u001b[0;32m~/miniforge3/envs/NLP_env/lib/python3.8/site-packages/sklearn/metrics/_classification.py:93\u001b[0m, in \u001b[0;36m_check_targets\u001b[0;34m(y_true, y_pred)\u001b[0m\n\u001b[1;32m     90\u001b[0m     y_type \u001b[39m=\u001b[39m {\u001b[39m\"\u001b[39m\u001b[39mmulticlass\u001b[39m\u001b[39m\"\u001b[39m}\n\u001b[1;32m     92\u001b[0m \u001b[39mif\u001b[39;00m \u001b[39mlen\u001b[39m(y_type) \u001b[39m>\u001b[39m \u001b[39m1\u001b[39m:\n\u001b[0;32m---> 93\u001b[0m     \u001b[39mraise\u001b[39;00m \u001b[39mValueError\u001b[39;00m(\n\u001b[1;32m     94\u001b[0m         \u001b[39m\"\u001b[39m\u001b[39mClassification metrics can\u001b[39m\u001b[39m'\u001b[39m\u001b[39mt handle a mix of \u001b[39m\u001b[39m{0}\u001b[39;00m\u001b[39m and \u001b[39m\u001b[39m{1}\u001b[39;00m\u001b[39m targets\u001b[39m\u001b[39m\"\u001b[39m\u001b[39m.\u001b[39mformat(\n\u001b[1;32m     95\u001b[0m             type_true, type_pred\n\u001b[1;32m     96\u001b[0m         )\n\u001b[1;32m     97\u001b[0m     )\n\u001b[1;32m     99\u001b[0m \u001b[39m# We can't have more than one value on y_type => The set is no more needed\u001b[39;00m\n\u001b[1;32m    100\u001b[0m y_type \u001b[39m=\u001b[39m y_type\u001b[39m.\u001b[39mpop()\n",
      "\u001b[0;31mValueError\u001b[0m: Classification metrics can't handle a mix of continuous and multiclass targets"
     ]
    }
   ],
   "source": [
    "from sklearn.metrics import classification_report\n",
    "\n",
    "# Make predictions on the test data\n",
    "Y_pred = model.predict(X_test)\n",
    "\n",
    "# Convert predictions to binary format (0 or 1)\n",
    "Y_pred = np.round(Y_pred)\n",
    "\n",
    "# Generate classification report\n",
    "print(classification_report(Y_test, Y_pred))\n"
   ]
  },
  {
   "cell_type": "code",
   "execution_count": 694,
   "metadata": {},
   "outputs": [
    {
     "ename": "ValueError",
     "evalue": "Unknown label type: 'continuous'",
     "output_type": "error",
     "traceback": [
      "\u001b[0;31m---------------------------------------------------------------------------\u001b[0m",
      "\u001b[0;31mValueError\u001b[0m                                Traceback (most recent call last)",
      "\u001b[1;32m/Users/victor/Desktop/Computing_NEA/machine_learning.ipynb Cell 20\u001b[0m in \u001b[0;36m<cell line: 6>\u001b[0;34m()\u001b[0m\n\u001b[1;32m      <a href='vscode-notebook-cell:/Users/victor/Desktop/Computing_NEA/machine_learning.ipynb#ch0000015?line=1'>2</a>\u001b[0m \u001b[39mfrom\u001b[39;00m \u001b[39msklearn\u001b[39;00m \u001b[39mimport\u001b[39;00m metrics\n\u001b[1;32m      <a href='vscode-notebook-cell:/Users/victor/Desktop/Computing_NEA/machine_learning.ipynb#ch0000015?line=3'>4</a>\u001b[0m rfc \u001b[39m=\u001b[39m RandomForestClassifier(n_estimators\u001b[39m=\u001b[39m\u001b[39m1000\u001b[39m)\n\u001b[0;32m----> <a href='vscode-notebook-cell:/Users/victor/Desktop/Computing_NEA/machine_learning.ipynb#ch0000015?line=5'>6</a>\u001b[0m rfc\u001b[39m.\u001b[39;49mfit(X_train, Y_train)\n\u001b[1;32m      <a href='vscode-notebook-cell:/Users/victor/Desktop/Computing_NEA/machine_learning.ipynb#ch0000015?line=6'>7</a>\u001b[0m score \u001b[39m=\u001b[39m rfc\u001b[39m.\u001b[39mscore(X_test, Y_test)\n\u001b[1;32m      <a href='vscode-notebook-cell:/Users/victor/Desktop/Computing_NEA/machine_learning.ipynb#ch0000015?line=7'>8</a>\u001b[0m Y_pred \u001b[39m=\u001b[39m rfc\u001b[39m.\u001b[39mpredict(X_test)\n",
      "File \u001b[0;32m~/miniforge3/envs/NLP_env/lib/python3.8/site-packages/sklearn/ensemble/_forest.py:371\u001b[0m, in \u001b[0;36mBaseForest.fit\u001b[0;34m(self, X, y, sample_weight)\u001b[0m\n\u001b[1;32m    364\u001b[0m         \u001b[39mraise\u001b[39;00m \u001b[39mValueError\u001b[39;00m(\n\u001b[1;32m    365\u001b[0m             \u001b[39m\"\u001b[39m\u001b[39mSum of y is not strictly positive which \u001b[39m\u001b[39m\"\u001b[39m\n\u001b[1;32m    366\u001b[0m             \u001b[39m\"\u001b[39m\u001b[39mis necessary for Poisson regression.\u001b[39m\u001b[39m\"\u001b[39m\n\u001b[1;32m    367\u001b[0m         )\n\u001b[1;32m    369\u001b[0m \u001b[39mself\u001b[39m\u001b[39m.\u001b[39mn_outputs_ \u001b[39m=\u001b[39m y\u001b[39m.\u001b[39mshape[\u001b[39m1\u001b[39m]\n\u001b[0;32m--> 371\u001b[0m y, expanded_class_weight \u001b[39m=\u001b[39m \u001b[39mself\u001b[39;49m\u001b[39m.\u001b[39;49m_validate_y_class_weight(y)\n\u001b[1;32m    373\u001b[0m \u001b[39mif\u001b[39;00m \u001b[39mgetattr\u001b[39m(y, \u001b[39m\"\u001b[39m\u001b[39mdtype\u001b[39m\u001b[39m\"\u001b[39m, \u001b[39mNone\u001b[39;00m) \u001b[39m!=\u001b[39m DOUBLE \u001b[39mor\u001b[39;00m \u001b[39mnot\u001b[39;00m y\u001b[39m.\u001b[39mflags\u001b[39m.\u001b[39mcontiguous:\n\u001b[1;32m    374\u001b[0m     y \u001b[39m=\u001b[39m np\u001b[39m.\u001b[39mascontiguousarray(y, dtype\u001b[39m=\u001b[39mDOUBLE)\n",
      "File \u001b[0;32m~/miniforge3/envs/NLP_env/lib/python3.8/site-packages/sklearn/ensemble/_forest.py:758\u001b[0m, in \u001b[0;36mForestClassifier._validate_y_class_weight\u001b[0;34m(self, y)\u001b[0m\n\u001b[1;32m    757\u001b[0m \u001b[39mdef\u001b[39;00m \u001b[39m_validate_y_class_weight\u001b[39m(\u001b[39mself\u001b[39m, y):\n\u001b[0;32m--> 758\u001b[0m     check_classification_targets(y)\n\u001b[1;32m    760\u001b[0m     y \u001b[39m=\u001b[39m np\u001b[39m.\u001b[39mcopy(y)\n\u001b[1;32m    761\u001b[0m     expanded_class_weight \u001b[39m=\u001b[39m \u001b[39mNone\u001b[39;00m\n",
      "File \u001b[0;32m~/miniforge3/envs/NLP_env/lib/python3.8/site-packages/sklearn/utils/multiclass.py:200\u001b[0m, in \u001b[0;36mcheck_classification_targets\u001b[0;34m(y)\u001b[0m\n\u001b[1;32m    192\u001b[0m y_type \u001b[39m=\u001b[39m type_of_target(y, input_name\u001b[39m=\u001b[39m\u001b[39m\"\u001b[39m\u001b[39my\u001b[39m\u001b[39m\"\u001b[39m)\n\u001b[1;32m    193\u001b[0m \u001b[39mif\u001b[39;00m y_type \u001b[39mnot\u001b[39;00m \u001b[39min\u001b[39;00m [\n\u001b[1;32m    194\u001b[0m     \u001b[39m\"\u001b[39m\u001b[39mbinary\u001b[39m\u001b[39m\"\u001b[39m,\n\u001b[1;32m    195\u001b[0m     \u001b[39m\"\u001b[39m\u001b[39mmulticlass\u001b[39m\u001b[39m\"\u001b[39m,\n\u001b[0;32m   (...)\u001b[0m\n\u001b[1;32m    198\u001b[0m     \u001b[39m\"\u001b[39m\u001b[39mmultilabel-sequences\u001b[39m\u001b[39m\"\u001b[39m,\n\u001b[1;32m    199\u001b[0m ]:\n\u001b[0;32m--> 200\u001b[0m     \u001b[39mraise\u001b[39;00m \u001b[39mValueError\u001b[39;00m(\u001b[39m\"\u001b[39m\u001b[39mUnknown label type: \u001b[39m\u001b[39m%r\u001b[39;00m\u001b[39m\"\u001b[39m \u001b[39m%\u001b[39m y_type)\n",
      "\u001b[0;31mValueError\u001b[0m: Unknown label type: 'continuous'"
     ]
    }
   ],
   "source": [
    "from sklearn.ensemble import RandomForestClassifier, AdaBoostClassifier\n",
    "from sklearn import metrics\n",
    "\n",
    "rfc = RandomForestClassifier(n_estimators=1000)\n",
    "\n",
    "rfc.fit(X_train, Y_train)\n",
    "score = rfc.score(X_test, Y_test)\n",
    "Y_pred = rfc.predict(X_test)\n",
    "\n",
    "print(metrics.classification_report(Y_test, Y_pred))\n"
   ]
  },
  {
   "cell_type": "code",
   "execution_count": 222,
   "metadata": {},
   "outputs": [
    {
     "name": "stdout",
     "output_type": "stream",
     "text": [
      "F2 score:  0.9126984126984127\n"
     ]
    }
   ],
   "source": [
    "from sklearn.metrics import fbeta_score\n",
    "\n",
    "\n",
    "f2_score = fbeta_score(Y_test, Y_pred, beta=2, average='macro')\n",
    "print('F2 score: ', f2_score)"
   ]
  },
  {
   "cell_type": "code",
   "execution_count": 82,
   "metadata": {},
   "outputs": [],
   "source": [
    "new_Y_data = []"
   ]
  },
  {
   "cell_type": "code",
   "execution_count": 76,
   "metadata": {},
   "outputs": [
    {
     "name": "stdout",
     "output_type": "stream",
     "text": [
      "                     2022\n",
      "85  -0.051724136025191325\n",
      "86   -0.02390602690140997\n",
      "87    -0.1525644085301101\n",
      "88    0.05288324693428659\n",
      "89    0.14358163060132378\n",
      "90   0.022336775697576527\n",
      "91                    NaN\n",
      "92   -0.08637918235815045\n",
      "93     0.1351140577858143\n",
      "94    0.23289603942402248\n",
      "                     2022\n",
      "85    0.23308270676691722\n",
      "86  0.0010526269898378793\n",
      "87   -0.06075189346657661\n",
      "88   -0.06781952363207822\n",
      "89    0.01097749408922688\n",
      "90   0.052766730550235286\n",
      "91   -0.14533315937255797\n",
      "92   -0.19809988992279315\n",
      "93    -0.2041340073921576\n",
      "94    -0.1368596240370693\n",
      "                     2022\n",
      "85  -0.030644177262782568\n",
      "86    0.07629768093131739\n",
      "87   0.009589307333061514\n",
      "88    0.16447778171502803\n",
      "89      0.332290978133841\n",
      "90   0.024680451862564956\n",
      "91    0.13772586718582858\n",
      "92    0.06721020637444464\n",
      "93     0.2309387240098537\n",
      "94    0.40832962413296126\n",
      "                    2021\n",
      "85  -0.15756704419921852\n",
      "86  -0.17900078028648514\n",
      "87  -0.32570602005055616\n",
      "88  -0.34482259697285966\n",
      "89   -0.2472122049976786\n",
      "90  -0.19185891280815015\n",
      "91  -0.21242017250825507\n",
      "92   -0.3531536648809277\n",
      "93    -0.371492087126876\n",
      "94   -0.2778549997493259\n",
      "                     2021\n",
      "85    0.05694442325168181\n",
      "86   -0.06041664547390413\n",
      "87  -0.017222192552354576\n",
      "88   -0.10194439358181429\n",
      "89   -0.14111110899183488\n",
      "90   0.020380753630304893\n",
      "91   -0.09292035579288727\n",
      "92  -0.051220160914954405\n",
      "93    -0.1330115034244298\n",
      "94   -0.17082329532957896\n",
      "                     2021\n",
      "85   -0.13040375445961683\n",
      "86   -0.09631830052602952\n",
      "87  -0.040973836974874334\n",
      "88   -0.13491687674685504\n",
      "89   -0.07505938151885116\n",
      "90   -0.11248483368844697\n",
      "91   -0.07769701408617424\n",
      "92  -0.021212121212121238\n",
      "93   -0.11709095348011367\n",
      "94  -0.056000033291903395\n",
      "                   2021\n",
      "85   0.1190732293119543\n",
      "86   0.4106184270077531\n",
      "87   0.3323615815663896\n",
      "88   0.2943072095146291\n",
      "89   0.3107258028073645\n",
      "90  0.07566367289838882\n",
      "91   0.3558996484852277\n",
      "92   0.2806784354385585\n",
      "93   0.2441002164812469\n",
      "94  0.25988192218423034\n",
      "                     2020\n",
      "85  -0.001987005222882754\n",
      "86    0.03522400183237773\n",
      "87    0.19653174012761054\n",
      "88     0.3173771586183629\n",
      "89      0.660585247319996\n",
      "90   -0.15713199957633872\n",
      "91    -0.1257055880220257\n",
      "92   0.010526236153900692\n",
      "93    0.11258576521485097\n",
      "94     0.4024408241840738\n",
      "                   2020\n",
      "85  0.22859589097020683\n",
      "86   0.3604451993277249\n",
      "87  0.34760268491973134\n",
      "88   0.3279109438044159\n",
      "89   0.7226027665699275\n",
      "90  0.12992130684922154\n",
      "91  0.25118114818634796\n",
      "92  0.23937007933143684\n",
      "93  0.22125987888335996\n",
      "94   0.5842520583783857\n",
      "                    2020\n",
      "85               0.15625\n",
      "86    0.4962500333786011\n",
      "87                   0.5\n",
      "88    0.7937500476837158\n",
      "89    0.9862500429153442\n",
      "90  -0.10454984817837121\n",
      "91   0.15876092501793337\n",
      "92    0.1616650618226536\n",
      "93    0.3891578400245943\n",
      "94    0.5382381859323344\n",
      "                    2019\n",
      "85    0.2696034681142574\n",
      "86   0.35770919202529994\n",
      "87   0.28634360271088855\n",
      "88    0.3030836532833536\n",
      "89   0.48017609448618304\n",
      "90   0.01837457497464179\n",
      "91    0.0890459549717435\n",
      "92  0.031802174916679915\n",
      "93     0.045229707461238\n",
      "94   0.18727913003332808\n",
      "                   2019\n",
      "85    0.458806891109764\n",
      "86   0.5980113722953546\n",
      "87   0.4786931681562183\n",
      "88   0.5284091317025592\n",
      "89   1.1306818297271395\n",
      "90    0.283750057220459\n",
      "91              0.40625\n",
      "92  0.30124998092651367\n",
      "93   0.3450000286102295\n",
      "94                0.875\n",
      "                   2019\n",
      "85                  NaN\n",
      "86                  NaN\n",
      "87  0.03605105833784039\n",
      "88  0.24607133868353626\n",
      "89   0.6139766447642458\n",
      "90                  NaN\n",
      "91                  NaN\n",
      "92  0.03605105833784039\n",
      "93  0.24607133868353626\n",
      "94   0.6139766447642458\n",
      "   2019\n",
      "85  NaN\n",
      "86  NaN\n",
      "87  NaN\n",
      "88  NaN\n",
      "89  0.0\n",
      "90  NaN\n",
      "91  NaN\n",
      "92  NaN\n",
      "93  NaN\n",
      "94  0.0\n",
      "   2018\n",
      "85  NaN\n",
      "86  NaN\n",
      "87  NaN\n",
      "88  NaN\n",
      "89  NaN\n",
      "90  NaN\n",
      "91  NaN\n",
      "92  NaN\n",
      "93  NaN\n",
      "94  NaN\n",
      "   2018\n",
      "85  NaN\n",
      "86  NaN\n",
      "87  NaN\n",
      "88  NaN\n",
      "89  NaN\n",
      "90  NaN\n",
      "91  NaN\n",
      "92  NaN\n",
      "93  NaN\n",
      "94  NaN\n",
      "   2018\n",
      "85  NaN\n",
      "86  NaN\n",
      "87  NaN\n",
      "88  NaN\n",
      "89  NaN\n",
      "90  NaN\n",
      "91  NaN\n",
      "92  NaN\n",
      "93  NaN\n",
      "94  NaN\n",
      "   2018\n",
      "85  NaN\n",
      "86  NaN\n",
      "87  NaN\n",
      "88  NaN\n",
      "89  NaN\n",
      "90  NaN\n",
      "91  NaN\n",
      "92  NaN\n",
      "93  NaN\n",
      "94  NaN\n",
      "   2017\n",
      "85  NaN\n",
      "86  NaN\n",
      "87  NaN\n",
      "88  NaN\n",
      "89  NaN\n",
      "90  NaN\n",
      "91  NaN\n",
      "92  NaN\n",
      "93  NaN\n",
      "94  NaN\n",
      "   2017\n",
      "85  NaN\n",
      "86  NaN\n",
      "87  NaN\n",
      "88  NaN\n",
      "89  NaN\n",
      "90  NaN\n",
      "91  NaN\n",
      "92  NaN\n",
      "93  NaN\n",
      "94  NaN\n",
      "   2017\n",
      "85  NaN\n",
      "86  NaN\n",
      "87  NaN\n",
      "88  NaN\n",
      "89  NaN\n",
      "90  NaN\n",
      "91  NaN\n",
      "92  NaN\n",
      "93  NaN\n",
      "94  NaN\n",
      "   2017\n",
      "85  NaN\n",
      "86  NaN\n",
      "87  NaN\n",
      "88  NaN\n",
      "89  NaN\n",
      "90  NaN\n",
      "91  NaN\n",
      "92  NaN\n",
      "93  NaN\n",
      "94  NaN\n",
      "   2016\n",
      "85  NaN\n",
      "86  NaN\n",
      "87  NaN\n",
      "88  NaN\n",
      "89  NaN\n",
      "90  NaN\n",
      "91  NaN\n",
      "92  NaN\n",
      "93  NaN\n",
      "94  NaN\n",
      "   2016\n",
      "85  NaN\n",
      "86  NaN\n",
      "87  NaN\n",
      "88  NaN\n",
      "89  NaN\n",
      "90  NaN\n",
      "91  NaN\n",
      "92  NaN\n",
      "93  NaN\n",
      "94  NaN\n",
      "   2016\n",
      "85  NaN\n",
      "86  NaN\n",
      "87  NaN\n",
      "88  NaN\n",
      "89  NaN\n",
      "90  NaN\n",
      "91  NaN\n",
      "92  NaN\n",
      "93  NaN\n",
      "94  NaN\n",
      "   2016\n",
      "85  NaN\n",
      "86  NaN\n",
      "87  NaN\n",
      "88  NaN\n",
      "89  NaN\n",
      "90  NaN\n",
      "91  NaN\n",
      "92  NaN\n",
      "93  NaN\n",
      "94  NaN\n",
      "   2015\n",
      "85  NaN\n",
      "86  NaN\n",
      "87  NaN\n",
      "88  NaN\n",
      "89  NaN\n",
      "90  NaN\n",
      "91  NaN\n",
      "92  NaN\n",
      "93  NaN\n",
      "94  NaN\n",
      "   2015\n",
      "85  NaN\n",
      "86  NaN\n",
      "87  NaN\n",
      "88  NaN\n",
      "89  NaN\n",
      "90  NaN\n",
      "91  NaN\n",
      "92  NaN\n",
      "93  NaN\n",
      "94  NaN\n",
      "   2015\n",
      "85  NaN\n",
      "86  NaN\n",
      "87  NaN\n",
      "88  NaN\n",
      "89  NaN\n",
      "90  NaN\n",
      "91  NaN\n",
      "92  NaN\n",
      "93  NaN\n",
      "94  NaN\n",
      "   2015\n",
      "85  NaN\n",
      "86  NaN\n",
      "87  NaN\n",
      "88  NaN\n",
      "89  NaN\n",
      "90  NaN\n",
      "91  NaN\n",
      "92  NaN\n",
      "93  NaN\n",
      "94  NaN\n"
     ]
    }
   ],
   "source": [
    "# 0.05232749576968998\n",
    "arr = [[2,3,4], [5,None,3]]\n",
    "a = remove_none_types(Y_data)\n",
    "# print(a)"
   ]
  }
 ],
 "metadata": {
  "kernelspec": {
   "display_name": "Python 3.8.13 ('NLP_env')",
   "language": "python",
   "name": "python3"
  },
  "language_info": {
   "codemirror_mode": {
    "name": "ipython",
    "version": 3
   },
   "file_extension": ".py",
   "mimetype": "text/x-python",
   "name": "python",
   "nbconvert_exporter": "python",
   "pygments_lexer": "ipython3",
   "version": "3.8.13"
  },
  "orig_nbformat": 4,
  "vscode": {
   "interpreter": {
    "hash": "6271ad5a9cfee5fbc27e23facc018ff52eb81071ca31a423a1af489ce9841234"
   }
  }
 },
 "nbformat": 4,
 "nbformat_minor": 2
}
