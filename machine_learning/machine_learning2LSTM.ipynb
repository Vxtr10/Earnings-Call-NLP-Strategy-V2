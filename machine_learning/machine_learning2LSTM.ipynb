{
 "cells": [
  {
   "cell_type": "code",
   "execution_count": 1,
   "metadata": {},
   "outputs": [],
   "source": [
    "import requests\n",
    "from bs4 import BeautifulSoup\n",
    "import json\n",
    "import pandas as pd\n",
    "import time\n",
    "import numpy as np\n",
    "from datetime import datetime\n",
    "import yfinance as yf\n",
    "import os\n",
    "import glob\n",
    "import regex as re\n",
    "import csv\n",
    "import statistics\n",
    "\n",
    "from sklearn.model_selection import train_test_split\n",
    "from sklearn.preprocessing import StandardScaler\n",
    "from keras.models import Sequential\n",
    "from keras.layers import Dense, Activation, Dropout\n",
    "import matplotlib.pyplot as plt\n",
    "\n",
    "from sklearn.svm import SVR\n",
    "from sklearn.model_selection import train_test_split\n",
    "from sklearn.metrics import mean_squared_error, r2_score"
   ]
  },
  {
   "cell_type": "code",
   "execution_count": 3,
   "metadata": {},
   "outputs": [],
   "source": [
    "def remove_none_types(mydf):\n",
    "    if mydf.isnull().values.any():\n",
    "        return False\n",
    "    else:\n",
    "        return True\n",
    "\n",
    "X_data = []\n",
    "Y_data = []\n",
    "\n",
    "sectors = [\"banks\"]\n",
    "for sector in sectors:\n",
    "    filelist = os.listdir(\"sectors/\"+sector)\n",
    "    try:\n",
    "        filelist.remove('.DS_Store')\n",
    "    except:\n",
    "        pass\n",
    "\n",
    "    for stock in filelist:\n",
    "        sector_files = glob.glob('sectors/'+str(sector)+'/'+str(stock)+'/'+str(stock)+'20*[0-9]**[0-9]*[1-4].*')\n",
    "        sector_files.sort(reverse=True)\n",
    "\n",
    "        testpath = sector_files[0]\n",
    "        testdata_from_csv = pd.read_csv(testpath)\n",
    "        try:\n",
    "            market_cap = float(testdata_from_csv.iloc[[-1]].values[0][0])\n",
    "            if (market_cap > 500000000) and (market_cap < 9000000000):\n",
    "                number_to_loop = len(sector_files)\n",
    "                if number_to_loop%3 != 0:\n",
    "                    number_to_loop = number_to_loop-(number_to_loop%3) #gets nearest (inclusive) multiples of 3\n",
    "                for i in range(0, number_to_loop+2, 3): # for every .csv path of that stock\n",
    "                    path = sector_files[i]\n",
    "                    path2 = sector_files[i+1]\n",
    "                    path3 = sector_files[i+2]\n",
    "                    data_from_csv = pd.read_csv(path)\n",
    "                    data_from_csv2 = pd.read_csv(path2)\n",
    "                    data_from_csv3 = pd.read_csv(path3)\n",
    "                    Checks_None = remove_none_types(data_from_csv)\n",
    "                    Checks_None2 = remove_none_types(data_from_csv2)\n",
    "                    Checks_None3 = remove_none_types(data_from_csv3)\n",
    "                    if (Checks_None == True) and (Checks_None2 == True) and (Checks_None3 == True):\n",
    "                        single_X_data = (np.array((data_from_csv[3:85].astype(float))).flatten()) \n",
    "                        single_X_data2 = (np.array((data_from_csv2[3:85].astype(float))).flatten()) \n",
    "                        single_X_data3 = (np.array((data_from_csv3[3:85].astype(float))).flatten()) \n",
    "                        if ((single_X_data.shape[0]) == 82) and ((single_X_data2.shape[0]) == 82) and ((single_X_data3.shape[0]) == 82):\n",
    "                            X_data.append(single_X_data)\n",
    "                            X_data.append(single_X_data2)\n",
    "                            X_data.append(single_X_data3)\n",
    "                            single_Y_data = np.array(data_from_csv[85:95].astype(float)).flatten()\n",
    "                            Y_data.append(single_Y_data)\n",
    "        except:\n",
    "            pass\n",
    "\n",
    "\n",
    "                \n",
    "\n",
    "#[\n",
    "#   [#AAPL\n",
    "#       [ [earnings call 1], [earnings call 2], [earnings call 3]\n",
    "#   ],\n",
    "#   [#MSFT\n",
    "#       [ [earnings call 1], [earnings call 2], [earnings call 3]\n",
    "#   ]\n",
    "#\n",
    "# ]\n",
    "\n",
    "\n",
    "\n",
    "ORI_X_data = np.array(X_data)\n",
    "\n",
    "ORI_Y_data = np.array(Y_data)\n",
    "# ORI_Y_data = ORI_Y_data[:,:5]\n",
    "\n"
   ]
  },
  {
   "cell_type": "code",
   "execution_count": 402,
   "metadata": {},
   "outputs": [],
   "source": [
    "def remove_none_types(mydf):\n",
    "    if mydf.isnull().values.any():\n",
    "        return False\n",
    "    else:\n",
    "        return True\n",
    "\n",
    "X_data = []\n",
    "Y_data = []\n",
    "\n",
    "sectors = [\"automobiles\", \"banks\"]\n",
    "for sector in sectors:\n",
    "    filelist = os.listdir(\"sectors/\"+sector)\n",
    "    try:\n",
    "        filelist.remove('.DS_Store')\n",
    "    except:\n",
    "        pass\n",
    "\n",
    "    for stock in filelist:\n",
    "        sector_files = glob.glob('sectors/'+str(sector)+'/'+str(stock)+'/'+str(stock)+'20*[0-9]**[0-9]*[1-4].*')\n",
    "        sector_files.sort(reverse=True)\n",
    "\n",
    "        testpath = sector_files[0]\n",
    "        testdata_from_csv = pd.read_csv(testpath)\n",
    "        try:\n",
    "            market_cap = float(testdata_from_csv.iloc[[-1]].values[0][0])\n",
    "            if (market_cap > 2500000000):\n",
    "                number_to_loop = len(sector_files)\n",
    "                if number_to_loop%2 != 0:\n",
    "                    number_to_loop = number_to_loop-(number_to_loop%2) \n",
    "                for i in range(0, number_to_loop+1, 2): # for every .csv path of that stock\n",
    "                    path = sector_files[i]\n",
    "                    path2 = sector_files[i+1]\n",
    "                    data_from_csv = pd.read_csv(path)\n",
    "                    data_from_csv2 = pd.read_csv(path2)\n",
    "                    Checks_None = remove_none_types(data_from_csv)\n",
    "                    Checks_None2 = remove_none_types(data_from_csv2)\n",
    "                    if (Checks_None == True) and (Checks_None2 == True):\n",
    "                        single_X_data = (np.array((data_from_csv[3:85].astype(float))).flatten()) \n",
    "                        single_X_data2 = (np.array((data_from_csv2[3:85].astype(float))).flatten()) \n",
    "                        if ((single_X_data.shape[0]) == 82) and ((single_X_data2.shape[0]) == 82):\n",
    "                            X_data.append(single_X_data)\n",
    "                            X_data.append(single_X_data2)\n",
    "                            single_Y_data = np.array(data_from_csv[85:95].astype(float)).flatten()\n",
    "                            Y_data.append(single_Y_data)\n",
    "        except:\n",
    "            pass\n",
    "\n",
    "\n",
    "                \n",
    "\n",
    "#[\n",
    "#   [#AAPL\n",
    "#       [ [earnings call 1], [earnings call 2], [earnings call 3]\n",
    "#   ],\n",
    "#   [#MSFT\n",
    "#       [ [earnings call 1], [earnings call 2], [earnings call 3]\n",
    "#   ]\n",
    "#\n",
    "# ]\n",
    "\n",
    "\n",
    "\n",
    "ORI_X_data = np.array(X_data)\n",
    "\n",
    "ORI_Y_data = np.array(Y_data)\n",
    "# ORI_Y_data = ORI_Y_data[:,:5]\n",
    "\n"
   ]
  },
  {
   "cell_type": "code",
   "execution_count": 7,
   "metadata": {},
   "outputs": [],
   "source": [
    "Y_data = ORI_Y_data[:,4]"
   ]
  },
  {
   "cell_type": "code",
   "execution_count": 4,
   "metadata": {},
   "outputs": [
    {
     "data": {
      "text/plain": [
       "array([[-0.03821565,  0.90544074,  0.98479369, ..., -0.75889972,\n",
       "        -1.05906695, -0.92041027],\n",
       "       [-0.01536021,  0.40173081,  0.59260923, ..., -1.64612968,\n",
       "        -0.68401847,  0.06215993],\n",
       "       [-0.02704105,  0.27580152,  0.52550709, ..., -1.81135205,\n",
       "        -1.51720377, -1.69447181],\n",
       "       ...,\n",
       "       [-0.04163594,  0.18643768,  0.10654288, ...,  0.11551021,\n",
       "         1.3935658 , -0.15897426],\n",
       "       [-0.04672316, -0.30108854, -0.14901344, ...,  0.9926764 ,\n",
       "         0.10363858,  0.70707676],\n",
       "       [-0.04889634, -0.03005597, -0.08524069, ...,  0.50437696,\n",
       "         1.03603105,  1.42544135]])"
      ]
     },
     "execution_count": 4,
     "metadata": {},
     "output_type": "execute_result"
    }
   ],
   "source": [
    "scaler = StandardScaler()\n",
    "X_data = scaler.fit_transform(ORI_X_data)\n",
    "X_data"
   ]
  },
  {
   "cell_type": "code",
   "execution_count": 6,
   "metadata": {},
   "outputs": [],
   "source": [
    "X_data = X_data.reshape(-1,3,82)"
   ]
  },
  {
   "cell_type": "code",
   "execution_count": 405,
   "metadata": {},
   "outputs": [
    {
     "data": {
      "text/plain": [
       "array([[ 0.18715475,  0.11144807, -0.00389906, ..., -0.02821215,\n",
       "         0.05969993,  0.16895602],\n",
       "       [-0.11340496,  0.01913649, -0.14375942, ..., -0.13056379,\n",
       "        -0.16138605,  0.00708335],\n",
       "       [-0.05403898, -0.07270197, -0.09632308, ..., -0.09712789,\n",
       "        -0.09952134, -0.23015699],\n",
       "       ...,\n",
       "       [-0.00617315, -0.08518536, -0.06234558, ..., -0.05885983,\n",
       "        -0.0353149 , -0.03159522],\n",
       "       [-0.01187166,  0.02513978,  0.07541254, ...,  0.06573774,\n",
       "         0.08858994,  0.1626862 ],\n",
       "       [ 0.03610385,  0.12594449,  0.11670488, ...,  0.14556033,\n",
       "         0.08694622,  0.20072595]])"
      ]
     },
     "execution_count": 405,
     "metadata": {},
     "output_type": "execute_result"
    }
   ],
   "source": [
    "Y_data = ORI_Y_data.reshape(-1,10)\n",
    "Y_data"
   ]
  },
  {
   "cell_type": "code",
   "execution_count": 406,
   "metadata": {},
   "outputs": [
    {
     "data": {
      "text/plain": [
       "array([[ 0.18715475,  0.11144807, -0.00389906,  0.08621249,  0.19820205],\n",
       "       [-0.11340496,  0.01913649, -0.14375942, -0.17411388, -0.00820138],\n",
       "       [-0.05403898, -0.07270197, -0.09632308, -0.09871867, -0.22947077],\n",
       "       ...,\n",
       "       [-0.00617315, -0.08518536, -0.06234558, -0.03888833, -0.03518208],\n",
       "       [-0.01187166,  0.02513978,  0.07541254,  0.09847234,  0.17324115],\n",
       "       [ 0.03610385,  0.12594449,  0.11670488,  0.05956698,  0.17048147]])"
      ]
     },
     "execution_count": 406,
     "metadata": {},
     "output_type": "execute_result"
    }
   ],
   "source": [
    "Y_data = Y_data[:,:5]\n",
    "Y_data"
   ]
  },
  {
   "cell_type": "code",
   "execution_count": 407,
   "metadata": {},
   "outputs": [
    {
     "data": {
      "text/plain": [
       "array([[[ 2.07821252e-02,  1.61762317e+00,  1.20885089e+00,\n",
       "         -9.92268067e-01, -1.48926241e+00, -4.86961573e-01,\n",
       "         -4.52389395e-01,  3.03590607e-01, -1.05985544e+00,\n",
       "          2.30003415e-02, -6.60576454e-01, -6.68279569e-01,\n",
       "         -7.80921834e-01,  1.90425233e+00,  1.47399941e+00,\n",
       "         -1.12835957e+00, -2.37498386e+00,  4.44733023e-01,\n",
       "         -4.24002519e-01, -1.05379324e+00, -3.55161191e-01,\n",
       "          1.48361330e+00,  4.81234243e-01, -1.10231914e+00,\n",
       "          8.99417496e-02,  1.89582196e+00,  9.47575349e-01,\n",
       "          9.41940112e-01,  9.58974304e-01, -1.99453142e-01,\n",
       "         -1.11805474e+00, -1.09105361e-01, -6.00639755e-01,\n",
       "         -8.48948161e-01, -9.70380907e-01, -1.21633510e+00,\n",
       "          6.48630778e-01,  1.21405470e+00,  1.34036232e+00,\n",
       "         -1.75534435e-01, -4.62171523e-01, -9.36652853e-02,\n",
       "          9.55918859e-01,  1.03035384e+00,  1.07780235e+00,\n",
       "         -2.92577426e-01,  6.47930307e-01,  5.09200329e-01,\n",
       "         -5.68370987e-01, -6.58778738e-03, -5.10431785e-01,\n",
       "         -8.86505250e-01, -3.07120467e-01, -6.57740056e-02,\n",
       "          6.73435838e-01, -4.82077840e-01,  3.59429185e-01,\n",
       "          0.00000000e+00,  1.27581954e+00,  1.59900660e+00,\n",
       "         -2.31092833e-01, -5.37066143e-01,  2.37509568e-01,\n",
       "          1.84775019e+00,  6.58759293e-01,  5.45055753e-01,\n",
       "         -3.78680872e-01, -6.24548115e-01, -7.89299294e-01,\n",
       "         -3.00603712e-01, -1.19261279e+00,  6.23370969e-01,\n",
       "         -2.49979481e-01,  3.88093245e-01,  7.66725567e-01,\n",
       "          7.10127458e-01, -3.12002872e+00, -5.20815287e-01,\n",
       "         -2.62234547e-02,  2.99031138e-01,  1.04022147e+00,\n",
       "          2.93088590e-01],\n",
       "        [-4.11419569e-02,  1.27614810e+00,  1.75547762e+00,\n",
       "          5.70660553e-01, -1.34618614e+00,  4.79746639e-01,\n",
       "          6.01961814e-01,  1.31827158e-01, -4.59924071e-01,\n",
       "          2.36870477e+00,  2.52510375e+00, -6.68279569e-01,\n",
       "         -6.96714153e-02,  1.15248565e+00,  1.71372909e+00,\n",
       "          6.83221760e-01, -2.50976655e+00,  9.08576948e-01,\n",
       "         -2.62676225e-01, -3.44709713e-01,  5.68616789e-01,\n",
       "          1.44197758e+00,  4.07942173e-01,  1.36778086e-01,\n",
       "          1.40872228e+00,  1.53961401e+00,  5.10085685e-01,\n",
       "          1.93897335e-01,  7.88850769e-01,  7.47516469e-01,\n",
       "          1.40849234e-01,  1.70952949e+00,  1.51044934e+00,\n",
       "         -8.48948161e-01,  2.20056388e+00,  2.03178830e+00,\n",
       "         -1.00607965e+00,  3.39589415e-02,  7.31269107e-01,\n",
       "          9.51215761e-01,  1.04228642e+00,  7.45922005e-01,\n",
       "         -1.20244957e+00,  1.19524648e+00,  1.39698110e+00,\n",
       "         -2.11790360e-01,  2.67737222e-01,  4.42330973e-01,\n",
       "          1.33445547e-01,  4.87418533e-01,  7.44916383e-01,\n",
       "          2.64250628e-01,  3.44299143e-01,  6.20914539e-01,\n",
       "          4.05304996e-01,  1.78011151e+00,  1.77827539e+00,\n",
       "          0.00000000e+00,  9.59776674e-01,  6.80212520e-01,\n",
       "         -8.75214986e-01,  4.26868956e-02,  4.33348464e-01,\n",
       "          9.05248101e-01,  1.85294269e+00,  1.93449944e+00,\n",
       "         -3.78680872e-01, -6.24548115e-01, -7.89299294e-01,\n",
       "         -3.00603712e-01, -4.96499864e-01, -1.74002854e+00,\n",
       "         -1.43053708e+00,  6.64097100e-01,  2.97439432e-01,\n",
       "          2.43451642e-01, -3.01848798e+00, -2.13307889e+00,\n",
       "         -2.55632915e+00,  8.27022074e-01, -5.38912690e-01,\n",
       "          9.00864063e-02]],\n",
       "\n",
       "       [[ 3.39262587e-03,  1.04300920e+00,  9.86977460e-01,\n",
       "         -4.17022335e-01, -1.73118654e+00, -7.02822448e-01,\n",
       "         -5.42564170e-01,  5.38635327e-01, -7.24507171e-01,\n",
       "         -1.93175358e+00, -6.60576454e-01,  1.65037484e+00,\n",
       "         -8.82317575e-01,  1.38846135e+00,  1.23887827e+00,\n",
       "         -6.86618370e-01, -2.48014398e+00,  6.02965546e-01,\n",
       "         -5.87312170e-01,  4.52444360e-02,  1.88411365e-01,\n",
       "          5.08491714e-01, -1.38477678e+00,  5.21551413e-01,\n",
       "          1.16720357e+00,  9.33968449e-01, -9.16675742e-01,\n",
       "          5.57845337e-01,  3.02783528e-01, -3.38457856e-01,\n",
       "         -1.48483261e+00,  9.82085018e-01,  6.66013704e-01,\n",
       "         -8.48948161e-01,  9.09320880e-01,  9.49080503e-01,\n",
       "          3.72845707e-01,  5.25677285e-01,  3.17141219e-01,\n",
       "         -3.33791622e-01,  2.27612873e-01, -2.86991306e-01,\n",
       "         -8.96680707e-01,  1.53345160e-03,  2.00060775e-01,\n",
       "          1.92144967e-01,  8.19990346e-01,  7.16725918e-01,\n",
       "         -5.83566693e-01, -9.39047692e-01, -6.80874571e-01,\n",
       "          7.17578701e-01,  1.06777936e+00,  8.77022155e-01,\n",
       "         -8.36041495e-01,  4.87397277e-01,  3.59429185e-01,\n",
       "          0.00000000e+00,  8.86702490e-01,  9.18418393e-01,\n",
       "         -4.99477064e-01,  1.74604961e-01, -2.36089593e-02,\n",
       "         -4.14254828e-01,  9.35500594e-01,  8.65696604e-01,\n",
       "         -3.78680872e-01, -6.24548115e-01, -7.89299294e-01,\n",
       "         -3.00603712e-01, -2.91513511e-01, -1.89549095e-01,\n",
       "          5.36591242e-01,  3.60562321e-01,  5.00432047e-01,\n",
       "          5.81207794e-01,  4.99473257e-03,  1.52279477e-02,\n",
       "          3.04132563e-02, -1.22447068e-01,  8.12218277e-01,\n",
       "          1.26824382e+00],\n",
       "        [ 1.89176677e-03,  1.68729808e+00,  1.89930262e+00,\n",
       "         -2.33436158e-02, -1.45675719e+00,  2.35908708e-01,\n",
       "          5.26651013e-01,  3.94730396e-01, -2.44483449e-01,\n",
       "         -1.71656320e+00, -6.60576454e-01,  2.80970205e+00,\n",
       "         -1.58209621e+00,  1.82582871e+00,  1.93306305e+00,\n",
       "         -2.95293333e-01, -2.49495527e+00,  2.29082979e+00,\n",
       "         -1.02069529e+00,  1.19470747e-01, -1.17634692e-01,\n",
       "         -4.91775063e-01,  5.12248494e-01,  1.27011122e-01,\n",
       "          4.92049581e-02, -2.93809275e-01,  1.04576604e+00,\n",
       "          2.46444075e-01,  2.93707043e-02, -4.14476058e-01,\n",
       "         -1.26687581e-01, -2.62279550e-01,  3.26869744e-02,\n",
       "          3.40916494e-01,  1.52573916e+00,  1.21975745e+00,\n",
       "         -1.00607965e+00,  2.23107144e-01,  4.07929215e-02,\n",
       "         -3.01135377e-01,  6.93012237e-01,  6.09338427e-01,\n",
       "         -5.35317508e-01, -3.03259204e-01,  2.21059377e-01,\n",
       "          8.93716852e-01,  6.21350914e-01,  6.94377008e-01,\n",
       "         -2.18090463e-01,  2.29442892e-01,  2.98722913e-01,\n",
       "          4.21749324e-02,  7.07112124e-01,  8.99975196e-01,\n",
       "          5.39805174e-02,  1.78035241e+00,  1.77827539e+00,\n",
       "          0.00000000e+00,  1.00382888e+00,  9.81104149e-01,\n",
       "         -6.37906824e-01,  9.72539323e-01,  8.90305888e-01,\n",
       "         -4.14254828e-01,  2.31920193e+00,  2.46890086e+00,\n",
       "         -3.78680872e-01, -6.24548115e-01, -7.89299294e-01,\n",
       "         -3.00603712e-01, -2.41045475e-01,  3.04158206e-01,\n",
       "         -3.52327703e-02,  3.30298500e-01,  1.39105269e-01,\n",
       "         -5.68040050e-01, -3.48407506e-01,  2.29569376e-02,\n",
       "         -9.54715349e-01,  2.56525797e-01, -2.33921797e-01,\n",
       "         -1.52021908e-01]]])"
      ]
     },
     "execution_count": 407,
     "metadata": {},
     "output_type": "execute_result"
    }
   ],
   "source": [
    "X_data[0:2]"
   ]
  },
  {
   "cell_type": "code",
   "execution_count": 11,
   "metadata": {},
   "outputs": [
    {
     "data": {
      "text/plain": [
       "(553, 3, 82)"
      ]
     },
     "execution_count": 11,
     "metadata": {},
     "output_type": "execute_result"
    }
   ],
   "source": [
    "X_data.shape"
   ]
  },
  {
   "cell_type": "code",
   "execution_count": 12,
   "metadata": {},
   "outputs": [
    {
     "data": {
      "text/plain": [
       "(553,)"
      ]
     },
     "execution_count": 12,
     "metadata": {},
     "output_type": "execute_result"
    }
   ],
   "source": [
    "Y_data.shape"
   ]
  },
  {
   "cell_type": "code",
   "execution_count": 13,
   "metadata": {},
   "outputs": [
    {
     "data": {
      "text/plain": [
       "(370,)"
      ]
     },
     "execution_count": 13,
     "metadata": {},
     "output_type": "execute_result"
    }
   ],
   "source": [
    "X_train, X_test, Y_train, Y_test = train_test_split(X_data, Y_data, test_size=0.33, random_state=65)\n",
    "Y_train.shape"
   ]
  },
  {
   "cell_type": "code",
   "execution_count": 296,
   "metadata": {},
   "outputs": [],
   "source": [
    "# model2 = model"
   ]
  },
  {
   "cell_type": "code",
   "execution_count": 36,
   "metadata": {},
   "outputs": [
    {
     "name": "stdout",
     "output_type": "stream",
     "text": [
      "Epoch 1/40\n"
     ]
    },
    {
     "name": "stderr",
     "output_type": "stream",
     "text": [
      "2023-02-09 09:37:54.042536: I tensorflow/core/grappler/optimizers/custom_graph_optimizer_registry.cc:113] Plugin optimizer for device_type GPU is enabled.\n",
      "2023-02-09 09:37:54.342307: I tensorflow/core/grappler/optimizers/custom_graph_optimizer_registry.cc:113] Plugin optimizer for device_type GPU is enabled.\n",
      "2023-02-09 09:37:54.518283: I tensorflow/core/grappler/optimizers/custom_graph_optimizer_registry.cc:113] Plugin optimizer for device_type GPU is enabled.\n",
      "2023-02-09 09:37:54.754132: I tensorflow/core/grappler/optimizers/custom_graph_optimizer_registry.cc:113] Plugin optimizer for device_type GPU is enabled.\n",
      "2023-02-09 09:37:54.933652: I tensorflow/core/grappler/optimizers/custom_graph_optimizer_registry.cc:113] Plugin optimizer for device_type GPU is enabled.\n"
     ]
    },
    {
     "name": "stdout",
     "output_type": "stream",
     "text": [
      "8/8 [==============================] - ETA: 0s - loss: 0.4913 - mse: 0.2711"
     ]
    },
    {
     "name": "stderr",
     "output_type": "stream",
     "text": [
      "2023-02-09 09:37:56.032472: I tensorflow/core/grappler/optimizers/custom_graph_optimizer_registry.cc:113] Plugin optimizer for device_type GPU is enabled.\n",
      "2023-02-09 09:37:56.141320: I tensorflow/core/grappler/optimizers/custom_graph_optimizer_registry.cc:113] Plugin optimizer for device_type GPU is enabled.\n",
      "2023-02-09 09:37:56.226193: I tensorflow/core/grappler/optimizers/custom_graph_optimizer_registry.cc:113] Plugin optimizer for device_type GPU is enabled.\n"
     ]
    },
    {
     "name": "stdout",
     "output_type": "stream",
     "text": [
      "8/8 [==============================] - 4s 196ms/step - loss: 0.4913 - mse: 0.2711 - val_loss: 0.4940 - val_mse: 0.2686\n",
      "Epoch 2/40\n",
      "8/8 [==============================] - 0s 44ms/step - loss: 0.4530 - mse: 0.2343 - val_loss: 0.4396 - val_mse: 0.2178\n",
      "Epoch 3/40\n",
      "8/8 [==============================] - 0s 38ms/step - loss: 0.3959 - mse: 0.1848 - val_loss: 0.3778 - val_mse: 0.1673\n",
      "Epoch 4/40\n",
      "8/8 [==============================] - 0s 27ms/step - loss: 0.3387 - mse: 0.1424 - val_loss: 0.3191 - val_mse: 0.1263\n",
      "Epoch 5/40\n",
      "8/8 [==============================] - 0s 31ms/step - loss: 0.2870 - mse: 0.1077 - val_loss: 0.2685 - val_mse: 0.0963\n",
      "Epoch 6/40\n",
      "8/8 [==============================] - 0s 29ms/step - loss: 0.2498 - mse: 0.0854 - val_loss: 0.2271 - val_mse: 0.0752\n",
      "Epoch 7/40\n",
      "8/8 [==============================] - 0s 27ms/step - loss: 0.2167 - mse: 0.0687 - val_loss: 0.1978 - val_mse: 0.0614\n",
      "Epoch 8/40\n",
      "8/8 [==============================] - 0s 24ms/step - loss: 0.1949 - mse: 0.0595 - val_loss: 0.1773 - val_mse: 0.0525\n",
      "Epoch 9/40\n",
      "8/8 [==============================] - 0s 23ms/step - loss: 0.1805 - mse: 0.0522 - val_loss: 0.1627 - val_mse: 0.0464\n",
      "Epoch 10/40\n",
      "8/8 [==============================] - 0s 23ms/step - loss: 0.1660 - mse: 0.0459 - val_loss: 0.1523 - val_mse: 0.0421\n",
      "Epoch 11/40\n",
      "8/8 [==============================] - 0s 23ms/step - loss: 0.1623 - mse: 0.0452 - val_loss: 0.1447 - val_mse: 0.0391\n",
      "Epoch 12/40\n",
      "8/8 [==============================] - 0s 22ms/step - loss: 0.1546 - mse: 0.0420 - val_loss: 0.1396 - val_mse: 0.0370\n",
      "Epoch 13/40\n",
      "8/8 [==============================] - 0s 25ms/step - loss: 0.1534 - mse: 0.0410 - val_loss: 0.1358 - val_mse: 0.0352\n",
      "Epoch 14/40\n",
      "8/8 [==============================] - 0s 21ms/step - loss: 0.1467 - mse: 0.0397 - val_loss: 0.1333 - val_mse: 0.0339\n",
      "Epoch 15/40\n",
      "8/8 [==============================] - 0s 22ms/step - loss: 0.1463 - mse: 0.0386 - val_loss: 0.1313 - val_mse: 0.0329\n",
      "Epoch 16/40\n",
      "8/8 [==============================] - 0s 22ms/step - loss: 0.1454 - mse: 0.0390 - val_loss: 0.1297 - val_mse: 0.0320\n",
      "Epoch 17/40\n",
      "8/8 [==============================] - 0s 23ms/step - loss: 0.1435 - mse: 0.0373 - val_loss: 0.1284 - val_mse: 0.0313\n",
      "Epoch 18/40\n",
      "8/8 [==============================] - 0s 23ms/step - loss: 0.1422 - mse: 0.0373 - val_loss: 0.1273 - val_mse: 0.0307\n",
      "Epoch 19/40\n",
      "8/8 [==============================] - 0s 21ms/step - loss: 0.1388 - mse: 0.0361 - val_loss: 0.1264 - val_mse: 0.0302\n",
      "Epoch 20/40\n",
      "8/8 [==============================] - 0s 21ms/step - loss: 0.1399 - mse: 0.0362 - val_loss: 0.1255 - val_mse: 0.0297\n",
      "Epoch 21/40\n",
      "8/8 [==============================] - 0s 21ms/step - loss: 0.1382 - mse: 0.0356 - val_loss: 0.1248 - val_mse: 0.0293\n",
      "Epoch 22/40\n",
      "8/8 [==============================] - 0s 35ms/step - loss: 0.1358 - mse: 0.0352 - val_loss: 0.1242 - val_mse: 0.0290\n",
      "Epoch 23/40\n",
      "8/8 [==============================] - 0s 26ms/step - loss: 0.1368 - mse: 0.0353 - val_loss: 0.1236 - val_mse: 0.0287\n",
      "Epoch 24/40\n",
      "8/8 [==============================] - 0s 27ms/step - loss: 0.1369 - mse: 0.0358 - val_loss: 0.1231 - val_mse: 0.0284\n",
      "Epoch 25/40\n",
      "8/8 [==============================] - 0s 26ms/step - loss: 0.1360 - mse: 0.0351 - val_loss: 0.1227 - val_mse: 0.0281\n",
      "Epoch 26/40\n",
      "8/8 [==============================] - 0s 22ms/step - loss: 0.1361 - mse: 0.0352 - val_loss: 0.1223 - val_mse: 0.0279\n",
      "Epoch 27/40\n",
      "8/8 [==============================] - 0s 22ms/step - loss: 0.1360 - mse: 0.0352 - val_loss: 0.1219 - val_mse: 0.0277\n",
      "Epoch 28/40\n",
      "8/8 [==============================] - 0s 23ms/step - loss: 0.1342 - mse: 0.0349 - val_loss: 0.1215 - val_mse: 0.0275\n",
      "Epoch 29/40\n",
      "8/8 [==============================] - 0s 22ms/step - loss: 0.1351 - mse: 0.0348 - val_loss: 0.1211 - val_mse: 0.0273\n",
      "Epoch 30/40\n",
      "8/8 [==============================] - 0s 23ms/step - loss: 0.1323 - mse: 0.0334 - val_loss: 0.1209 - val_mse: 0.0272\n",
      "Epoch 31/40\n",
      "8/8 [==============================] - 0s 22ms/step - loss: 0.1346 - mse: 0.0345 - val_loss: 0.1206 - val_mse: 0.0270\n",
      "Epoch 32/40\n",
      "8/8 [==============================] - 0s 23ms/step - loss: 0.1316 - mse: 0.0333 - val_loss: 0.1203 - val_mse: 0.0269\n",
      "Epoch 33/40\n",
      "8/8 [==============================] - 0s 23ms/step - loss: 0.1337 - mse: 0.0342 - val_loss: 0.1201 - val_mse: 0.0267\n",
      "Epoch 34/40\n",
      "8/8 [==============================] - 0s 23ms/step - loss: 0.1325 - mse: 0.0338 - val_loss: 0.1199 - val_mse: 0.0266\n",
      "Epoch 35/40\n",
      "8/8 [==============================] - 0s 22ms/step - loss: 0.1326 - mse: 0.0337 - val_loss: 0.1197 - val_mse: 0.0265\n",
      "Epoch 36/40\n",
      "8/8 [==============================] - 0s 22ms/step - loss: 0.1306 - mse: 0.0327 - val_loss: 0.1195 - val_mse: 0.0264\n",
      "Epoch 37/40\n",
      "8/8 [==============================] - 0s 22ms/step - loss: 0.1326 - mse: 0.0335 - val_loss: 0.1193 - val_mse: 0.0263\n",
      "Epoch 38/40\n",
      "8/8 [==============================] - 0s 22ms/step - loss: 0.1305 - mse: 0.0329 - val_loss: 0.1191 - val_mse: 0.0262\n",
      "Epoch 39/40\n",
      "8/8 [==============================] - 0s 21ms/step - loss: 0.1308 - mse: 0.0335 - val_loss: 0.1190 - val_mse: 0.0261\n",
      "Epoch 40/40\n",
      "8/8 [==============================] - 0s 22ms/step - loss: 0.1324 - mse: 0.0337 - val_loss: 0.1188 - val_mse: 0.0261\n"
     ]
    },
    {
     "data": {
      "text/plain": [
       "<keras.callbacks.History at 0x3e4e48b50>"
      ]
     },
     "execution_count": 36,
     "metadata": {},
     "output_type": "execute_result"
    }
   ],
   "source": [
    "import numpy as np\n",
    "import keras\n",
    "from keras.models import Sequential\n",
    "from keras.layers import Dense, LSTM, Bidirectional, Dropout, TimeDistributed\n",
    "from keras.optimizers import Adam\n",
    "from keras.optimizers import SGD\n",
    "\n",
    "# Generate toy data for demonstration purposes\n",
    "timesteps = 3\n",
    "input_dim = 82\n",
    "\n",
    "model = Sequential()\n",
    "model.add(LSTM(82, input_shape=(timesteps,input_dim), return_sequences=True))\n",
    "model.add(Dropout(0.5))\n",
    "model.add(LSTM(32, return_sequences=False))\n",
    "model.add(Dropout(0.5))\n",
    "model.add(Dense(1, activation='sigmoid'))\n",
    "optimizer = SGD(lr=0.01, momentum=0.9)\n",
    "\n",
    "model.compile(loss='mean_absolute_error', optimizer=optimizer, metrics=['mse'])\n",
    "\n",
    "# Train the model\n",
    "model.fit(X_train, Y_train, epochs=40, batch_size=32, validation_split=0.33)\n"
   ]
  },
  {
   "cell_type": "code",
   "execution_count": 37,
   "metadata": {},
   "outputs": [
    {
     "name": "stderr",
     "output_type": "stream",
     "text": [
      "2023-02-09 09:38:08.925182: I tensorflow/core/grappler/optimizers/custom_graph_optimizer_registry.cc:113] Plugin optimizer for device_type GPU is enabled.\n",
      "2023-02-09 09:38:09.044931: I tensorflow/core/grappler/optimizers/custom_graph_optimizer_registry.cc:113] Plugin optimizer for device_type GPU is enabled.\n"
     ]
    },
    {
     "name": "stdout",
     "output_type": "stream",
     "text": [
      "1/6 [====>.........................] - ETA: 3s"
     ]
    },
    {
     "name": "stderr",
     "output_type": "stream",
     "text": [
      "2023-02-09 09:38:09.150999: I tensorflow/core/grappler/optimizers/custom_graph_optimizer_registry.cc:113] Plugin optimizer for device_type GPU is enabled.\n"
     ]
    },
    {
     "name": "stdout",
     "output_type": "stream",
     "text": [
      "6/6 [==============================] - 1s 36ms/step\n",
      "MSE: 0.03\n",
      "R2: -0.06\n"
     ]
    },
    {
     "data": {
      "image/png": "[encoded data removed]",
      "text/plain": [
       "<Figure size 720x720 with 1 Axes>"
      ]
     },
     "metadata": {
      "needs_background": "light"
     },
     "output_type": "display_data"
    }
   ],
   "source": [
    "Y_pred = model.predict(X_test)\n",
    "\n",
    "mse = mean_squared_error(Y_test, Y_pred)\n",
    "r2 = r2_score(Y_test, Y_pred)\n",
    "print(f'MSE: {mse:.2f}')\n",
    "print(f'R2: {r2:.2f}')\n",
    "\n",
    "plt.figure(figsize=(10,10))\n",
    "plt.scatter(Y_pred, Y_test)\n",
    "plt.ylabel(\"Actual Stock Returns\")\n",
    "plt.xlabel(\"Predicted Stock Returns\")\n",
    "plt.title(\"Predicted vs Actual Stock Returns\")\n",
    "plt.show()"
   ]
  },
  {
   "cell_type": "code",
   "execution_count": 415,
   "metadata": {},
   "outputs": [
    {
     "ename": "AttributeError",
     "evalue": "'Sequential' object has no attribute 'feature_importances_'",
     "output_type": "error",
     "traceback": [
      "\u001b[0;31m---------------------------------------------------------------------------\u001b[0m",
      "\u001b[0;31mAttributeError\u001b[0m                            Traceback (most recent call last)",
      "\u001b[1;32m/Users/victor/Desktop/Computing_NEA/machine_learning2LSTM.ipynb Cell 16\u001b[0m in \u001b[0;36m<cell line: 1>\u001b[0;34m()\u001b[0m\n\u001b[0;32m----> <a href='vscode-notebook-cell:/Users/victor/Desktop/Computing_NEA/machine_learning2LSTM.ipynb#ch0000040?line=0'>1</a>\u001b[0m \u001b[39mprint\u001b[39m(model\u001b[39m.\u001b[39;49mfeature_importances_)\n",
      "\u001b[0;31mAttributeError\u001b[0m: 'Sequential' object has no attribute 'feature_importances_'"
     ]
    }
   ],
   "source": []
  },
  {
   "cell_type": "code",
   "execution_count": 381,
   "metadata": {},
   "outputs": [
    {
     "data": {
      "text/plain": [
       "array([[0.1758499 , 0.1115374 , 0.11806431, 0.35915485, 0.23539351],\n",
       "       [0.14748642, 0.32831475, 0.3417308 , 0.0678051 , 0.114663  ],\n",
       "       [0.17585044, 0.11153541, 0.11806197, 0.35916072, 0.23539153],\n",
       "       [0.1758501 , 0.11153518, 0.11806197, 0.35916072, 0.23539197],\n",
       "       [0.17584987, 0.11153525, 0.11806183, 0.35916096, 0.23539214]],\n",
       "      dtype=float32)"
      ]
     },
     "execution_count": 381,
     "metadata": {},
     "output_type": "execute_result"
    }
   ],
   "source": [
    "Y_pred[0:5]"
   ]
  },
  {
   "cell_type": "code",
   "execution_count": 382,
   "metadata": {},
   "outputs": [
    {
     "data": {
      "text/plain": [
       "array([[-0.08045977, -0.13218381, -0.09578568, -0.13601514, -0.58045981],\n",
       "       [-0.03092562, -0.00497413, -0.0341696 , -0.020545  , -0.00700478],\n",
       "       [-0.0061308 , -0.01426791, -0.08781975, -0.07338441, -0.05344972],\n",
       "       [ 0.06046141,  0.05724236,  0.05042499, -0.08421559, -0.08364814],\n",
       "       [-0.03031538,  0.02369234,  0.11084151,  0.09242959,  0.06174332]])"
      ]
     },
     "execution_count": 382,
     "metadata": {},
     "output_type": "execute_result"
    }
   ],
   "source": [
    "Y_test[0:5]"
   ]
  }
 ],
 "metadata": {
  "kernelspec": {
   "display_name": "Python 3.8.13 ('NLP_env')",
   "language": "python",
   "name": "python3"
  },
  "language_info": {
   "codemirror_mode": {
    "name": "ipython",
    "version": 3
   },
   "file_extension": ".py",
   "mimetype": "text/x-python",
   "name": "python",
   "nbconvert_exporter": "python",
   "pygments_lexer": "ipython3",
   "version": "3.8.13"
  },
  "orig_nbformat": 4,
  "vscode": {
   "interpreter": {
    "hash": "6271ad5a9cfee5fbc27e23facc018ff52eb81071ca31a423a1af489ce9841234"
   }
  }
 },
 "nbformat": 4,
 "nbformat_minor": 2
}
