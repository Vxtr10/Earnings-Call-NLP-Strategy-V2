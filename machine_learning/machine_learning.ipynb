{
 "cells": [
  {
   "cell_type": "code",
   "execution_count": 212,
   "metadata": {},
   "outputs": [],
   "source": [
    "import requests\n",
    "from bs4 import BeautifulSoup\n",
    "import json\n",
    "import pandas as pd\n",
    "import time\n",
    "import numpy as np\n",
    "from datetime import datetime\n",
    "import yfinance as yf\n",
    "import os\n",
    "import glob\n",
    "import regex as re\n",
    "import csv\n",
    "import statistics\n",
    "\n",
    "from sklearn.model_selection import train_test_split\n",
    "from sklearn.preprocessing import StandardScaler\n",
    "from keras.models import Sequential\n",
    "from keras.layers import Dense, Activation, Dropout\n",
    "import matplotlib.pyplot as plt\n",
    "from sklearn.svm import SVR\n",
    "from sklearn.model_selection import train_test_split\n",
    "from sklearn.metrics import mean_squared_error, r2_score\n",
    "\n",
    "\n",
    "from sklearn.tree import DecisionTreeClassifier\n",
    "from sklearn.ensemble import RandomForestClassifier\n",
    "from sklearn.svm import SVC\n",
    "from sklearn.neural_network import MLPClassifier\n",
    "from sklearn.metrics import accuracy_score\n"
   ]
  },
  {
   "cell_type": "code",
   "execution_count": null,
   "metadata": {},
   "outputs": [],
   "source": [
    "use only 2016+ data"
   ]
  },
  {
   "cell_type": "code",
   "execution_count": 267,
   "metadata": {},
   "outputs": [],
   "source": [
    "def remove_none_types(mydf):\n",
    "    if mydf.isnull().values.any():\n",
    "        return False\n",
    "    else:\n",
    "        return True\n",
    "\n",
    "X_data = []\n",
    "Y_data = []\n",
    "\n",
    "sectors = [\"banks\"]\n",
    "for sector in sectors:\n",
    "    filelist = os.listdir(\"../sectors/\"+sector)\n",
    "    try:\n",
    "        filelist.remove('.DS_Store')\n",
    "    except:\n",
    "        pass\n",
    "\n",
    "    for stock in filelist:\n",
    "        sector_files = glob.glob('../sectors/'+str(sector)+'/'+str(stock)+'/'+str(stock)+'20*[0-9]**[0-9]*[1-4].*')\n",
    "        sector_files.sort(reverse=True)\n",
    "\n",
    "        testpath = sector_files[0]\n",
    "        testdata_from_csv = pd.read_csv(testpath)\n",
    "        try:\n",
    "            market_cap = float(testdata_from_csv.iloc[[-1]].values[0][0])\n",
    "            if (market_cap > 100000) and (market_cap < 4000500000000):\n",
    "                for i in range(0, len(sector_files)): # for every .csv path of that stock\n",
    "                    path = sector_files[i]\n",
    "                    data_from_csv = pd.read_csv(path)\n",
    "                    Checks_None = remove_none_types(data_from_csv)\n",
    "                    if (Checks_None == True):\n",
    "                        single_X_data = (np.array((data_from_csv[3:73].astype(float))).flatten()) \n",
    "                        if (single_X_data.shape[0]) == 70:\n",
    "                            X_data.append(single_X_data)\n",
    "                            single_Y_data = np.array(data_from_csv[85:95].astype(float)).flatten()\n",
    "                            Y_data.append(single_Y_data)\n",
    "        except:\n",
    "            pass\n",
    "\n",
    "\n",
    "X_data_ORIGINAL = np.array(X_data)\n",
    "Y_data_ORIGINAL = np.array(Y_data)\n",
    "\n",
    "# # Y_data = Y_data[:,8]\n",
    "\n"
   ]
  },
  {
   "cell_type": "code",
   "execution_count": 268,
   "metadata": {},
   "outputs": [
    {
     "data": {
      "text/plain": [
       "array([[ 0.03487116,  0.59958871,  0.63303889, ..., -0.63107897,\n",
       "        -0.79022882, -0.29002737],\n",
       "       [ 0.04643858,  0.56958845,  0.54579763, ..., -0.63107897,\n",
       "        -0.79022882, -0.29002737],\n",
       "       [ 0.05064145,  0.00740954,  0.25376122, ...,  0.68596294,\n",
       "         0.59532489, -0.29002737],\n",
       "       ...,\n",
       "       [ 0.01678992, -1.06447308, -1.63279403, ..., -0.63107897,\n",
       "        -0.79022882, -0.29002737],\n",
       "       [ 0.01977383, -0.37667035, -0.83684374, ..., -0.63107897,\n",
       "        -0.79022882, -0.29002737],\n",
       "       [ 0.01766605, -0.86024369, -0.95886681, ..., -0.63107897,\n",
       "        -0.79022882, -0.29002737]])"
      ]
     },
     "execution_count": 268,
     "metadata": {},
     "output_type": "execute_result"
    }
   ],
   "source": [
    "scaler = StandardScaler()\n",
    "X_data = scaler.fit_transform(X_data)\n",
    "X_data"
   ]
  },
  {
   "cell_type": "code",
   "execution_count": 269,
   "metadata": {},
   "outputs": [],
   "source": [
    "Y_data = Y_data_ORIGINAL[:,9]"
   ]
  },
  {
   "cell_type": "code",
   "execution_count": 270,
   "metadata": {},
   "outputs": [
    {
     "name": "stdout",
     "output_type": "stream",
     "text": [
      "(3834, 1)\n"
     ]
    }
   ],
   "source": [
    "Y_dataCOPY = Y_data.copy()\n",
    "df = pd.DataFrame(Y_dataCOPY)\n",
    "\n",
    "\n",
    "# df[0] = np.where(df[0] < -0.4, -2,\n",
    "#     np.where((df[0] >= -0.4) & (df[0] < -0.07), -1,\n",
    "#     np.where((df[0] >= -0.07) & (df[0] <= 0.07), 0,\n",
    "#     np.where((df[0] > 0.07) & (df[0] <= 0.4), 1, 2))))\n",
    "\n",
    "df[0] = np.where(df[0] < 0.1, 0, 1)\n",
    "\n",
    "    \n",
    "Y_data_update = df.to_numpy()\n",
    "\n",
    "print(Y_data_update.shape)\n"
   ]
  },
  {
   "cell_type": "code",
   "execution_count": 271,
   "metadata": {},
   "outputs": [
    {
     "data": {
      "text/plain": [
       "(3834,)"
      ]
     },
     "execution_count": 271,
     "metadata": {},
     "output_type": "execute_result"
    }
   ],
   "source": [
    "Y_data.shape"
   ]
  },
  {
   "cell_type": "code",
   "execution_count": 272,
   "metadata": {},
   "outputs": [
    {
     "data": {
      "text/plain": [
       "(2568,)"
      ]
     },
     "execution_count": 272,
     "metadata": {},
     "output_type": "execute_result"
    }
   ],
   "source": [
    "\n",
    "# scaler = StandardScaler()\n",
    "# X_data_update = scaler.fit_transform(X_data_update)\n",
    "\n",
    "X_train, X_test, Y_train, Y_test = train_test_split(X_data, Y_data, test_size=0.33, random_state=42)\n",
    "Y_train.shape\n"
   ]
  },
  {
   "cell_type": "code",
   "execution_count": 273,
   "metadata": {},
   "outputs": [
    {
     "data": {
      "text/plain": [
       "array(['bin_1', 'bin_2', 'bin_1', ..., 'bin_1', 'bin_2', 'bin_1'],\n",
       "      dtype='<U5')"
      ]
     },
     "execution_count": 273,
     "metadata": {},
     "output_type": "execute_result"
    }
   ],
   "source": [
    "\n",
    "    \n",
    "\n",
    "# Example usage\n",
    "\n",
    "\n",
    "# Example usage\n",
    "n_bins = 2 # number of bins\n",
    "\n",
    "# Divide the data into n_bins intervals using quantiles\n",
    "bin_edges = np.quantile(Y_data, np.linspace(0, 1, n_bins + 1))\n",
    "# Assign each data point to a specific bin based on its value\n",
    "bin_indices = np.digitize(Y_data, bin_edges) - 1\n",
    "# Make sure the indices are within the range of the number of bins\n",
    "bin_indices = np.minimum(bin_indices, n_bins - 1)\n",
    "# Label each bin with a categorical label\n",
    "bin_labels = [\"bin_{}\".format(i + 1) for i in range(n_bins)]\n",
    "# Transform the continuous Y_data into a categorical variable\n",
    "Y_categorical = np.array([bin_labels[i] for i in bin_indices])\n",
    "\n",
    "\n",
    "\n",
    "Y_categorical"
   ]
  },
  {
   "cell_type": "code",
   "execution_count": 274,
   "metadata": {},
   "outputs": [
    {
     "name": "stdout",
     "output_type": "stream",
     "text": [
      "Bin 1: [-0.7407476656904844, 0.020810828901189904]\n",
      "Bin 2: [0.020810828901189904, 1.0169174600492772]\n"
     ]
    }
   ],
   "source": [
    "for i in range(n_bins):\n",
    "    print(\"Bin {}: [{}, {}]\".format(i + 1, bin_edges[i], bin_edges[i + 1]))"
   ]
  },
  {
   "cell_type": "code",
   "execution_count": 275,
   "metadata": {},
   "outputs": [
    {
     "name": "stdout",
     "output_type": "stream",
     "text": [
      "              precision    recall  f1-score   support\n",
      "\n",
      "       bin_1       0.53      0.54      0.53       627\n",
      "       bin_2       0.54      0.53      0.54       639\n",
      "\n",
      "    accuracy                           0.53      1266\n",
      "   macro avg       0.53      0.53      0.53      1266\n",
      "weighted avg       0.53      0.53      0.53      1266\n",
      "\n"
     ]
    }
   ],
   "source": [
    "from sklearn.ensemble import RandomForestClassifier\n",
    "from sklearn import metrics\n",
    "\n",
    "\n",
    "X_train, X_test, Y_train, Y_test = train_test_split(X_data, Y_categorical, test_size=0.33, random_state=42)\n",
    "\n",
    "\n",
    "#Starting off with random forest classifer \n",
    "rfc = RandomForestClassifier(max_depth=500, n_estimators=2000)\n",
    "\n",
    "rfc.fit(X_train, Y_train)\n",
    "score = rfc.score(X_test, Y_test)\n",
    "Y_pred = rfc.predict(X_test)\n",
    "\n",
    "print(metrics.classification_report(Y_test, Y_pred))"
   ]
  },
  {
   "cell_type": "code",
   "execution_count": 276,
   "metadata": {},
   "outputs": [
    {
     "name": "stdout",
     "output_type": "stream",
     "text": [
      "              precision    recall  f1-score   support\n",
      "\n",
      "       bin_1       0.50      0.88      0.64       627\n",
      "       bin_2       0.54      0.14      0.23       639\n",
      "\n",
      "    accuracy                           0.51      1266\n",
      "   macro avg       0.52      0.51      0.43      1266\n",
      "weighted avg       0.52      0.51      0.43      1266\n",
      "\n"
     ]
    }
   ],
   "source": [
    "Y_pred_proba = rfc.predict_proba(X_test)\n",
    "Y_pred = np.where(Y_pred_proba[:,1] > 0.56, 'bin_2', 'bin_1')\n",
    "\n",
    "print(metrics.classification_report(Y_test, Y_pred))"
   ]
  },
  {
   "cell_type": "code",
   "execution_count": 277,
   "metadata": {},
   "outputs": [],
   "source": [
    "import pickle\n",
    "#save to file using pickle\n",
    "with open(\"../info/rfc_banks_model.pkl\", \"wb\") as f:\n",
    "    pickle.dump(rfc, f)\n"
   ]
  },
  {
   "cell_type": "code",
   "execution_count": 63,
   "metadata": {},
   "outputs": [
    {
     "name": "stdout",
     "output_type": "stream",
     "text": [
      "              precision    recall  f1-score   support\n",
      "\n",
      "       bin_1       0.54      0.60      0.57       206\n",
      "       bin_2       0.59      0.53      0.56       225\n",
      "\n",
      "    accuracy                           0.57       431\n",
      "   macro avg       0.57      0.57      0.57       431\n",
      "weighted avg       0.57      0.57      0.57       431\n",
      "\n"
     ]
    },
    {
     "data": {
      "text/plain": [
       "array([[0.488, 0.512]])"
      ]
     },
     "execution_count": 63,
     "metadata": {},
     "output_type": "execute_result"
    }
   ],
   "source": [
    "\n",
    "with open(\"../info/rfc_model.pkl\", \"rb\") as f:\n",
    "    loaded_rfc = pickle.load(f)\n",
    "\n",
    "Y_pred = loaded_rfc.predict(X_test)\n",
    "print(metrics.classification_report(Y_test, Y_pred))\n",
    "\n",
    "Y_pred_proba = rfc.predict_proba(X_test[0].reshape(1,-1))\n",
    "Y_pred_proba"
   ]
  },
  {
   "cell_type": "code",
   "execution_count": 41,
   "metadata": {},
   "outputs": [
    {
     "name": "stdout",
     "output_type": "stream",
     "text": [
      "Metal device set to: Apple M1 Pro\n",
      "\n",
      "systemMemory: 16.00 GB\n",
      "maxCacheSize: 5.33 GB\n",
      "\n",
      "Epoch 1/50\n"
     ]
    },
    {
     "name": "stderr",
     "output_type": "stream",
     "text": [
      "2023-02-14 00:33:10.116722: I tensorflow/core/common_runtime/pluggable_device/pluggable_device_factory.cc:305] Could not identify NUMA node of platform GPU ID 0, defaulting to 0. Your kernel may not have been built with NUMA support.\n",
      "2023-02-14 00:33:10.116902: I tensorflow/core/common_runtime/pluggable_device/pluggable_device_factory.cc:271] Created TensorFlow device (/job:localhost/replica:0/task:0/device:GPU:0 with 0 MB memory) -> physical PluggableDevice (device: 0, name: METAL, pci bus id: <undefined>)\n",
      "2023-02-14 00:33:10.278781: W tensorflow/core/platform/profile_utils/cpu_utils.cc:128] Failed to get CPU frequency: 0 Hz\n",
      "2023-02-14 00:33:10.524352: I tensorflow/core/grappler/optimizers/custom_graph_optimizer_registry.cc:113] Plugin optimizer for device_type GPU is enabled.\n"
     ]
    },
    {
     "name": "stdout",
     "output_type": "stream",
     "text": [
      "47/47 [==============================] - 2s 22ms/step - loss: 4.1321 - accuracy: 0.4704 - val_loss: 3.6192 - val_accuracy: 0.5212\n",
      "Epoch 2/50\n",
      " 1/47 [..............................] - ETA: 0s - loss: 4.2956 - accuracy: 0.4375"
     ]
    },
    {
     "name": "stderr",
     "output_type": "stream",
     "text": [
      "2023-02-14 00:33:12.067934: I tensorflow/core/grappler/optimizers/custom_graph_optimizer_registry.cc:113] Plugin optimizer for device_type GPU is enabled.\n"
     ]
    },
    {
     "name": "stdout",
     "output_type": "stream",
     "text": [
      "47/47 [==============================] - 1s 11ms/step - loss: 3.3492 - accuracy: 0.5236 - val_loss: 2.1421 - val_accuracy: 0.5253\n",
      "Epoch 3/50\n",
      "47/47 [==============================] - 0s 11ms/step - loss: 2.9213 - accuracy: 0.4751 - val_loss: 1.3486 - val_accuracy: 0.5048\n",
      "Epoch 4/50\n",
      "47/47 [==============================] - 0s 10ms/step - loss: 2.1631 - accuracy: 0.5202 - val_loss: 0.9965 - val_accuracy: 0.5062\n",
      "Epoch 5/50\n",
      "47/47 [==============================] - 0s 11ms/step - loss: 1.9023 - accuracy: 0.4960 - val_loss: 0.9557 - val_accuracy: 0.5116\n",
      "Epoch 6/50\n",
      "47/47 [==============================] - 0s 11ms/step - loss: 1.8083 - accuracy: 0.5067 - val_loss: 0.9107 - val_accuracy: 0.5103\n",
      "Epoch 7/50\n",
      "47/47 [==============================] - 0s 11ms/step - loss: 1.4551 - accuracy: 0.5249 - val_loss: 0.8593 - val_accuracy: 0.5048\n",
      "Epoch 8/50\n",
      "47/47 [==============================] - 0s 10ms/step - loss: 1.2950 - accuracy: 0.5121 - val_loss: 0.8452 - val_accuracy: 0.4993\n",
      "Epoch 9/50\n",
      "47/47 [==============================] - 1s 11ms/step - loss: 1.2436 - accuracy: 0.5256 - val_loss: 0.8528 - val_accuracy: 0.5007\n",
      "Epoch 10/50\n",
      "47/47 [==============================] - 1s 11ms/step - loss: 1.1207 - accuracy: 0.5229 - val_loss: 0.8041 - val_accuracy: 0.4993\n",
      "Epoch 11/50\n",
      "47/47 [==============================] - 1s 11ms/step - loss: 1.0380 - accuracy: 0.5216 - val_loss: 0.7979 - val_accuracy: 0.4938\n",
      "Epoch 12/50\n",
      "47/47 [==============================] - 1s 11ms/step - loss: 0.9883 - accuracy: 0.5303 - val_loss: 0.7868 - val_accuracy: 0.4911\n",
      "Epoch 13/50\n",
      "47/47 [==============================] - 1s 12ms/step - loss: 0.9277 - accuracy: 0.5337 - val_loss: 0.7939 - val_accuracy: 0.4884\n",
      "Epoch 14/50\n",
      "47/47 [==============================] - 1s 13ms/step - loss: 0.9225 - accuracy: 0.5418 - val_loss: 0.7887 - val_accuracy: 0.4938\n",
      "Epoch 15/50\n",
      "47/47 [==============================] - 1s 16ms/step - loss: 0.9082 - accuracy: 0.5391 - val_loss: 0.7755 - val_accuracy: 0.4966\n",
      "Epoch 16/50\n",
      "47/47 [==============================] - 1s 12ms/step - loss: 0.9106 - accuracy: 0.5155 - val_loss: 0.7662 - val_accuracy: 0.4897\n",
      "Epoch 17/50\n",
      "47/47 [==============================] - 1s 13ms/step - loss: 0.8316 - accuracy: 0.5492 - val_loss: 0.7538 - val_accuracy: 0.4829\n",
      "Epoch 18/50\n",
      "47/47 [==============================] - 1s 11ms/step - loss: 0.8129 - accuracy: 0.5337 - val_loss: 0.7507 - val_accuracy: 0.4911\n",
      "Epoch 19/50\n",
      "47/47 [==============================] - 1s 12ms/step - loss: 0.8233 - accuracy: 0.5431 - val_loss: 0.7456 - val_accuracy: 0.4911\n",
      "Epoch 20/50\n",
      "47/47 [==============================] - 1s 13ms/step - loss: 0.7958 - accuracy: 0.5290 - val_loss: 0.7409 - val_accuracy: 0.4692\n",
      "Epoch 21/50\n",
      "47/47 [==============================] - 1s 12ms/step - loss: 0.7533 - accuracy: 0.5600 - val_loss: 0.7432 - val_accuracy: 0.4747\n",
      "Epoch 22/50\n",
      "47/47 [==============================] - 1s 13ms/step - loss: 0.7533 - accuracy: 0.5478 - val_loss: 0.7456 - val_accuracy: 0.4665\n",
      "Epoch 23/50\n",
      "47/47 [==============================] - 1s 12ms/step - loss: 0.7460 - accuracy: 0.5600 - val_loss: 0.7353 - val_accuracy: 0.4774\n",
      "Epoch 24/50\n",
      "47/47 [==============================] - 1s 13ms/step - loss: 0.7528 - accuracy: 0.5613 - val_loss: 0.7396 - val_accuracy: 0.4829\n",
      "Epoch 25/50\n",
      "47/47 [==============================] - 0s 10ms/step - loss: 0.7529 - accuracy: 0.5283 - val_loss: 0.7389 - val_accuracy: 0.4788\n",
      "Epoch 26/50\n",
      "47/47 [==============================] - 0s 10ms/step - loss: 0.7374 - accuracy: 0.5566 - val_loss: 0.7386 - val_accuracy: 0.4815\n",
      "Epoch 27/50\n",
      "47/47 [==============================] - 0s 10ms/step - loss: 0.7501 - accuracy: 0.5310 - val_loss: 0.7362 - val_accuracy: 0.4747\n",
      "Epoch 28/50\n",
      "47/47 [==============================] - 1s 12ms/step - loss: 0.7241 - accuracy: 0.5600 - val_loss: 0.7353 - val_accuracy: 0.4747\n",
      "Epoch 29/50\n",
      "47/47 [==============================] - 1s 11ms/step - loss: 0.7316 - accuracy: 0.5377 - val_loss: 0.7327 - val_accuracy: 0.4802\n",
      "Epoch 30/50\n",
      "47/47 [==============================] - 1s 13ms/step - loss: 0.7441 - accuracy: 0.5398 - val_loss: 0.7301 - val_accuracy: 0.4897\n",
      "Epoch 31/50\n",
      "47/47 [==============================] - 0s 10ms/step - loss: 0.7293 - accuracy: 0.5505 - val_loss: 0.7301 - val_accuracy: 0.4884\n",
      "Epoch 32/50\n",
      "47/47 [==============================] - 1s 11ms/step - loss: 0.7328 - accuracy: 0.5472 - val_loss: 0.7303 - val_accuracy: 0.4802\n",
      "Epoch 33/50\n",
      "47/47 [==============================] - 1s 11ms/step - loss: 0.7312 - accuracy: 0.5411 - val_loss: 0.7306 - val_accuracy: 0.4788\n",
      "Epoch 34/50\n",
      "47/47 [==============================] - 1s 11ms/step - loss: 0.7224 - accuracy: 0.5492 - val_loss: 0.7281 - val_accuracy: 0.4870\n",
      "Epoch 35/50\n",
      "47/47 [==============================] - 0s 10ms/step - loss: 0.7074 - accuracy: 0.5647 - val_loss: 0.7272 - val_accuracy: 0.4843\n",
      "Epoch 36/50\n",
      "47/47 [==============================] - 1s 15ms/step - loss: 0.7103 - accuracy: 0.5505 - val_loss: 0.7258 - val_accuracy: 0.4802\n",
      "Epoch 37/50\n",
      "47/47 [==============================] - 1s 11ms/step - loss: 0.7173 - accuracy: 0.5633 - val_loss: 0.7223 - val_accuracy: 0.4856\n",
      "Epoch 38/50\n",
      "47/47 [==============================] - 0s 10ms/step - loss: 0.7118 - accuracy: 0.5647 - val_loss: 0.7231 - val_accuracy: 0.4925\n",
      "Epoch 39/50\n",
      "47/47 [==============================] - 1s 11ms/step - loss: 0.7129 - accuracy: 0.5667 - val_loss: 0.7228 - val_accuracy: 0.4952\n",
      "Epoch 40/50\n",
      "47/47 [==============================] - 0s 10ms/step - loss: 0.7071 - accuracy: 0.5660 - val_loss: 0.7202 - val_accuracy: 0.4979\n",
      "Epoch 41/50\n",
      "47/47 [==============================] - 1s 11ms/step - loss: 0.7014 - accuracy: 0.5708 - val_loss: 0.7209 - val_accuracy: 0.5007\n",
      "Epoch 42/50\n",
      "47/47 [==============================] - 1s 11ms/step - loss: 0.7007 - accuracy: 0.5465 - val_loss: 0.7205 - val_accuracy: 0.4993\n",
      "Epoch 43/50\n",
      "47/47 [==============================] - 0s 10ms/step - loss: 0.6925 - accuracy: 0.5714 - val_loss: 0.7207 - val_accuracy: 0.5034\n",
      "Epoch 44/50\n",
      "47/47 [==============================] - 1s 11ms/step - loss: 0.6995 - accuracy: 0.5633 - val_loss: 0.7193 - val_accuracy: 0.5075\n",
      "Epoch 45/50\n",
      "47/47 [==============================] - 1s 11ms/step - loss: 0.6919 - accuracy: 0.5600 - val_loss: 0.7182 - val_accuracy: 0.4993\n",
      "Epoch 46/50\n",
      "47/47 [==============================] - 1s 11ms/step - loss: 0.6901 - accuracy: 0.5795 - val_loss: 0.7172 - val_accuracy: 0.4993\n",
      "Epoch 47/50\n",
      "47/47 [==============================] - 1s 11ms/step - loss: 0.6967 - accuracy: 0.5674 - val_loss: 0.7154 - val_accuracy: 0.5007\n",
      "Epoch 48/50\n",
      "47/47 [==============================] - 0s 11ms/step - loss: 0.6974 - accuracy: 0.5580 - val_loss: 0.7158 - val_accuracy: 0.5034\n",
      "Epoch 49/50\n",
      "47/47 [==============================] - 0s 11ms/step - loss: 0.6984 - accuracy: 0.5566 - val_loss: 0.7157 - val_accuracy: 0.5034\n",
      "Epoch 50/50\n",
      "47/47 [==============================] - 1s 11ms/step - loss: 0.6859 - accuracy: 0.5883 - val_loss: 0.7143 - val_accuracy: 0.4938\n",
      "23/23 [==============================] - 0s 5ms/step - loss: 0.7143 - accuracy: 0.4938\n",
      "Test loss: 0.7143\n",
      "Test accuracy: 0.4938\n",
      "23/23 [==============================] - 0s 2ms/step\n"
     ]
    },
    {
     "name": "stderr",
     "output_type": "stream",
     "text": [
      "2023-02-14 00:33:38.636122: I tensorflow/core/grappler/optimizers/custom_graph_optimizer_registry.cc:113] Plugin optimizer for device_type GPU is enabled.\n"
     ]
    },
    {
     "data": {
      "image/png": "[encoded data removed]",
      "text/plain": [
       "<Figure size 720x720 with 2 Axes>"
      ]
     },
     "metadata": {
      "needs_background": "light"
     },
     "output_type": "display_data"
    }
   ],
   "source": [
    "import numpy as np\n",
    "import matplotlib.pyplot as plt\n",
    "from sklearn.model_selection import train_test_split\n",
    "from sklearn.metrics import confusion_matrix\n",
    "from sklearn.preprocessing import LabelEncoder\n",
    "from keras.models import Sequential\n",
    "from keras.layers import Dense\n",
    "from keras.utils import to_categorical\n",
    "from keras.callbacks import EarlyStopping\n",
    "\n",
    "# Preprocess the Y_categorical data\n",
    "encoder = LabelEncoder()\n",
    "Y_encoded = encoder.fit_transform(Y_categorical)\n",
    "Y_encoded = to_categorical(Y_encoded)\n",
    "\n",
    "bin_labels = [\"bin_{}\".format(i + 1) for i in range(n_bins)]\n",
    "\n",
    "# Split the data into training and testing sets\n",
    "X_train, X_test, Y_train, Y_test = train_test_split(X_data, Y_encoded, test_size=0.33, random_state=42)\n",
    "\n",
    "# Define the model architecture\n",
    "model = Sequential()\n",
    "model.add(Dense(70, activation='relu', input_shape=(X_train.shape[1],)))\n",
    "model.add(Dropout(0.5)),\n",
    "model.add(Dense(34, activation='relu'))\n",
    "model.add(Dropout(0.5)),\n",
    "model.add(Dense(Y_encoded.shape[1], activation='tanh'))\n",
    "\n",
    "# Compile the model\n",
    "model.compile(loss='binary_crossentropy', optimizer='adam', metrics=['accuracy'])\n",
    "\n",
    "# Train the model\n",
    "history = model.fit(X_train, Y_train, epochs=50, batch_size=32, validation_data=(X_test, Y_test))\n",
    "\n",
    "# Evaluate the model on the test set\n",
    "test_loss, test_accuracy = model.evaluate(X_test, Y_test)\n",
    "print(\"Test loss: {:.4f}\".format(test_loss))\n",
    "print(\"Test accuracy: {:.4f}\".format(test_accuracy))\n",
    "\n",
    "# Plot the confusion matrix\n",
    "Y_pred = model.predict(X_test)\n",
    "Y_pred = np.argmax(Y_pred, axis=1)\n",
    "Y_test = np.argmax(Y_test, axis=1)\n",
    "conf_mat = confusion_matrix(Y_test, Y_pred)\n",
    "\n",
    "plt.figure(figsize=(10, 10))\n",
    "plt.imshow(conf_mat, cmap=plt.cm.Blues)\n",
    "plt.xlabel(\"Predicted classes\")\n",
    "plt.ylabel(\"True classes\")\n",
    "plt.xticks(np.arange(Y_encoded.shape[1]), bin_labels, rotation=45)\n",
    "plt.yticks(np.arange(Y_encoded.shape[1]), bin_labels)\n",
    "plt.colorbar()\n",
    "for i in range(conf_mat.shape[0]):\n",
    "    for j in range(conf_mat.shape[1]):\n",
    "        plt.text(j, i, conf_mat[i, j], ha=\"center\", va=\"center\", color=\"w\")\n",
    "plt.show()\n"
   ]
  },
  {
   "cell_type": "code",
   "execution_count": 159,
   "metadata": {},
   "outputs": [
    {
     "data": {
      "text/plain": [
       "array([ 0.1430464 , -0.11424707,  0.10837745,  0.38036478,  0.04622836,\n",
       "       -0.03401958, -0.38813983,  0.06703076,  0.01319086, -0.01347103])"
      ]
     },
     "execution_count": 159,
     "metadata": {},
     "output_type": "execute_result"
    }
   ],
   "source": [
    "Y_data[5:15]"
   ]
  },
  {
   "cell_type": "code",
   "execution_count": 158,
   "metadata": {},
   "outputs": [
    {
     "data": {
      "text/plain": [
       "array(['bin_3', 'bin_1', 'bin_3', 'bin_3', 'bin_2', 'bin_1', 'bin_1',\n",
       "       'bin_3', 'bin_2', 'bin_2'], dtype='<U5')"
      ]
     },
     "execution_count": 158,
     "metadata": {},
     "output_type": "execute_result"
    }
   ],
   "source": [
    "Y_categorical[5:15]"
   ]
  },
  {
   "cell_type": "code",
   "execution_count": 42,
   "metadata": {},
   "outputs": [
    {
     "name": "stdout",
     "output_type": "stream",
     "text": [
      "   Class  Precision    Recall  F1 Score\n",
      "0  bin_1   0.518617  0.507812  0.513158\n",
      "1  bin_2   0.467606  0.478386  0.472934\n"
     ]
    }
   ],
   "source": [
    "from sklearn.metrics import precision_recall_fscore_support\n",
    "\n",
    "# Calculate precision, recall, and F1 score for each class\n",
    "precision, recall, f1_score, _ = precision_recall_fscore_support(Y_test, Y_pred, average=None)\n",
    "\n",
    "# Create a table to display the results\n",
    "results = pd.DataFrame({'Class': bin_labels, 'Precision': precision, 'Recall': recall, 'F1 Score': f1_score})\n",
    "print(results)"
   ]
  },
  {
   "cell_type": "code",
   "execution_count": 112,
   "metadata": {},
   "outputs": [
    {
     "data": {
      "image/png": "[encoded data removed]",
      "text/plain": [
       "<Figure size 432x288 with 1 Axes>"
      ]
     },
     "metadata": {
      "needs_background": "light"
     },
     "output_type": "display_data"
    },
    {
     "data": {
      "image/png": "[encoded data removed]",
      "text/plain": [
       "<Figure size 432x288 with 1 Axes>"
      ]
     },
     "metadata": {
      "needs_background": "light"
     },
     "output_type": "display_data"
    }
   ],
   "source": [
    "plt.plot(history.history['accuracy'])\n",
    "plt.plot(history.history['val_accuracy'])\n",
    "plt.title('Model accuracy')\n",
    "plt.ylabel('Accuracy')\n",
    "plt.xlabel('Epoch')\n",
    "plt.legend(['Train', 'Test'], loc='upper left')\n",
    "plt.show()\n",
    "\n",
    "# Plot the training loss\n",
    "plt.plot(history.history['loss'])\n",
    "plt.plot(history.history['val_loss'])\n",
    "plt.title('Model loss')\n",
    "plt.ylabel('Loss')\n",
    "plt.xlabel('Epoch')\n",
    "plt.legend(['Train', 'Test'], loc='upper left')\n",
    "plt.show()"
   ]
  },
  {
   "cell_type": "code",
   "execution_count": 72,
   "metadata": {},
   "outputs": [
    {
     "data": {
      "image/png": "[encoded data removed]",
      "text/plain": [
       "<Figure size 720x720 with 1 Axes>"
      ]
     },
     "metadata": {
      "needs_background": "light"
     },
     "output_type": "display_data"
    }
   ],
   "source": [
    "from sklearn.svm import SVR\n",
    "model = SVR(kernel='rbf', C=1, epsilon=0.3)\n",
    "model.fit(X_train, Y_train)\n",
    "\n",
    "Y_pred = model.predict(X_test)\n",
    "\n",
    "plt.figure(figsize=(10,10))\n",
    "plt.scatter(Y_test, Y_pred)\n",
    "plt.xlabel(\"Actual Stock Returns\")\n",
    "plt.ylabel(\"Predicted Stock Returns\")\n",
    "plt.title(\"Predicted vs Actual Stock Returns\")\n",
    "plt.show()\n",
    "\n"
   ]
  },
  {
   "cell_type": "code",
   "execution_count": 73,
   "metadata": {},
   "outputs": [
    {
     "name": "stdout",
     "output_type": "stream",
     "text": [
      "(950, 70)\n",
      "(950,)\n"
     ]
    }
   ],
   "source": [
    "print(X_data.shape)\n",
    "print(Y_data.shape)"
   ]
  },
  {
   "cell_type": "code",
   "execution_count": 15,
   "metadata": {},
   "outputs": [
    {
     "data": {
      "text/plain": [
       "array([ 0.23289604, -0.13685962,  0.40832962, ...,  0.06799316,\n",
       "       -0.01983425,  0.06820767])"
      ]
     },
     "execution_count": 15,
     "metadata": {},
     "output_type": "execute_result"
    }
   ],
   "source": [
    "Y_data"
   ]
  },
  {
   "cell_type": "code",
   "execution_count": 4,
   "metadata": {},
   "outputs": [
    {
     "name": "stdout",
     "output_type": "stream",
     "text": [
      "(1703, 1)\n",
      "(1703, 82)\n"
     ]
    }
   ],
   "source": [
    "Y_dataCOPY = Y_data.copy()\n",
    "X_dataCOPY = X_data.copy()\n",
    "df = pd.DataFrame(Y_dataCOPY)\n",
    "dfX = pd.DataFrame(X_dataCOPY)\n",
    "\n",
    "\n",
    "# df[0] = np.where(df[0] < -0.4, -2,\n",
    "#     np.where((df[0] >= -0.4) & (df[0] < -0.07), -1,\n",
    "#     np.where((df[0] >= -0.07) & (df[0] <= 0.07), 0,\n",
    "#     np.where((df[0] > 0.07) & (df[0] <= 0.4), 1, 2))))\n",
    "\n",
    "df[0] = np.where(df[0] < -0.3, -1,\n",
    "    np.where((df[0] >= -0.3) & (df[0] < 0.3), 0,\n",
    "    np.where(df[0] >= 0.3, 1, df[0])))\n",
    "    \n",
    "Y_data_update = df.to_numpy()\n",
    "X_data_update = dfX.to_numpy()\n",
    "\n",
    "print(Y_data_update.shape)\n",
    "print(X_data_update.shape)\n"
   ]
  },
  {
   "cell_type": "code",
   "execution_count": 5,
   "metadata": {},
   "outputs": [
    {
     "name": "stdout",
     "output_type": "stream",
     "text": [
      "(1703, 1)\n",
      "(1703, 82)\n"
     ]
    }
   ],
   "source": [
    "print(Y_data_update.shape)\n",
    "print(X_data_update.shape)\n"
   ]
  },
  {
   "cell_type": "code",
   "execution_count": 74,
   "metadata": {},
   "outputs": [
    {
     "name": "stderr",
     "output_type": "stream",
     "text": [
      "/Users/victor/miniforge3/envs/NLP_env/lib/python3.8/site-packages/keras/optimizers/optimizer_v2/gradient_descent.py:108: UserWarning: The `lr` argument is deprecated, use `learning_rate` instead.\n",
      "  super(SGD, self).__init__(name, **kwargs)\n",
      "2023-02-14 00:40:09.771223: I tensorflow/core/grappler/optimizers/custom_graph_optimizer_registry.cc:113] Plugin optimizer for device_type GPU is enabled.\n"
     ]
    },
    {
     "name": "stdout",
     "output_type": "stream",
     "text": [
      "20/20 [==============================] - 0s 11ms/step - loss: 0.9952\n",
      "10/10 [==============================] - 0s 4ms/step\n"
     ]
    },
    {
     "name": "stderr",
     "output_type": "stream",
     "text": [
      "2023-02-14 00:40:10.134934: I tensorflow/core/grappler/optimizers/custom_graph_optimizer_registry.cc:113] Plugin optimizer for device_type GPU is enabled.\n"
     ]
    },
    {
     "data": {
      "image/png": "[encoded data removed]",
      "text/plain": [
       "<Figure size 720x720 with 1 Axes>"
      ]
     },
     "metadata": {
      "needs_background": "light"
     },
     "output_type": "display_data"
    }
   ],
   "source": [
    "from keras.optimizers import SGD\n",
    "\n",
    "model = Sequential()\n",
    "model.add(Dense(128, input_shape=(70,)))\n",
    "model.add(Activation('relu'))\n",
    "model.add(Dense(64))\n",
    "model.add(Activation('relu'))\n",
    "model.add(Dense(32))\n",
    "model.add(Activation('relu'))\n",
    "model.add(Dense(1))\n",
    "model.add(Activation('tanh'))\n",
    "\n",
    "opt = SGD(lr=0.01, momentum=0.9)\n",
    "\n",
    "model.compile(loss='hinge', optimizer=opt)\n",
    "\n",
    "model.fit(X_train, Y_train)\n",
    "Y_pred = model.predict(X_test)\n",
    "\n",
    "plt.figure(figsize=(10,10))\n",
    "plt.scatter(Y_pred, Y_test)\n",
    "plt.ylabel(\"Actual Stock Returns\")\n",
    "plt.xlabel(\"Predicted Stock Returns\")\n",
    "plt.title(\"Predicted vs Actual Stock Returns\")\n",
    "plt.show()\n",
    "\n"
   ]
  },
  {
   "cell_type": "code",
   "execution_count": 75,
   "metadata": {},
   "outputs": [
    {
     "name": "stdout",
     "output_type": "stream",
     "text": [
      "Mean Squared Error:  0.027834755700772963\n",
      "R2 Score:  -0.3516975520119012\n"
     ]
    },
    {
     "data": {
      "image/png": "[encoded data removed]",
      "text/plain": [
       "<Figure size 720x720 with 1 Axes>"
      ]
     },
     "metadata": {
      "needs_background": "light"
     },
     "output_type": "display_data"
    }
   ],
   "source": [
    "from sklearn.ensemble import GradientBoostingRegressor\n",
    "\n",
    "# Define the gradient boosting regressor\n",
    "gbr = GradientBoostingRegressor(\n",
    "    n_estimators=500,\n",
    "    learning_rate=0.1,\n",
    "    max_depth=5,\n",
    "    min_samples_split=2,\n",
    "    loss='squared_error',\n",
    "    random_state=42\n",
    ")\n",
    "\n",
    "# Fit the regressor to the training data\n",
    "gbr.fit(X_train, Y_train)\n",
    "\n",
    "# Predict stock returns for the testing data\n",
    "Y_pred = gbr.predict(X_test)\n",
    "\n",
    "# Evaluate the performance of the model\n",
    "from sklearn.metrics import mean_squared_error, r2_score\n",
    "print(\"Mean Squared Error: \", mean_squared_error(Y_test, Y_pred))\n",
    "print(\"R2 Score: \", r2_score(Y_test, Y_pred))\n",
    "\n",
    "plt.figure(figsize=(10,10))\n",
    "plt.scatter(Y_test, Y_pred)\n",
    "plt.xlabel(\"Actual Stock Returns\")\n",
    "plt.ylabel(\"Predicted Stock Returns\")\n",
    "plt.title(\"Predicted vs Actual Stock Returns\")\n",
    "plt.show()\n",
    "\n"
   ]
  },
  {
   "cell_type": "code",
   "execution_count": 76,
   "metadata": {},
   "outputs": [
    {
     "data": {
      "image/png": "[encoded data removed]",
      "text/plain": [
       "<Figure size 720x720 with 1 Axes>"
      ]
     },
     "metadata": {
      "needs_background": "light"
     },
     "output_type": "display_data"
    }
   ],
   "source": [
    "from sklearn.ensemble import RandomForestRegressor\n",
    "from sklearn.metrics import mean_squared_error, r2_score\n",
    "\n",
    "# Train the Random Forest Regressor on the training data\n",
    "rf = RandomForestRegressor(n_estimators=100)\n",
    "rf.fit(X_train, Y_train)\n",
    "\n",
    "# Predict the stock returns on the testing data\n",
    "Y_pred = rf.predict(X_test)\n",
    "\n",
    "plt.figure(figsize=(10,10))\n",
    "plt.scatter(Y_pred, Y_test)\n",
    "plt.ylabel(\"Actual Stock Returns\")\n",
    "plt.xlabel(\"Predicted Stock Returns\")\n",
    "plt.title(\"Predicted vs Actual Stock Returns\")\n",
    "plt.show()\n"
   ]
  },
  {
   "cell_type": "code",
   "execution_count": 77,
   "metadata": {},
   "outputs": [
    {
     "name": "stdout",
     "output_type": "stream",
     "text": [
      "Mean Squared Error: 0.19764921272046224\n"
     ]
    },
    {
     "data": {
      "image/png": "[encoded data removed]",
      "text/plain": [
       "<Figure size 720x720 with 1 Axes>"
      ]
     },
     "metadata": {
      "needs_background": "light"
     },
     "output_type": "display_data"
    }
   ],
   "source": [
    "#promising RESULTS!!!\n",
    "\n",
    "import xgboost as xgb\n",
    "from sklearn.metrics import mean_squared_error\n",
    "\n",
    "# Split data into training and testing sets\n",
    "sX_train, sX_test, sy_train, sy_test = train_test_split(X_data, Y_data, test_size=0.33, random_state=42)\n",
    "\n",
    "# Convert training and testing data into DMatrix format for XGBoost\n",
    "dtrain = xgb.DMatrix(sX_train, label=sy_train)\n",
    "dtest = xgb.DMatrix(sX_test, label=sy_test)\n",
    "\n",
    "# Define hyperparameters for the XGBoost model\n",
    "params = {\n",
    "    'booster': 'gbtree',\n",
    "    'objective': 'reg:squarederror',\n",
    "    'learning_rate': 0.001,\n",
    "    'max_depth': 5,\n",
    "    'subsample': 0.8,\n",
    "    'colsample_bytree': 0.8,    \n",
    "    'n_jobs': -1,\n",
    "    'random_state': 42\n",
    "}\n",
    "\n",
    "# Train the XGBoost model on the training data\n",
    "model = xgb.train(params, dtrain, num_boost_round=100)\n",
    "\n",
    "# Make predictions on the test data\n",
    "sy_pred = model.predict(dtest)\n",
    "\n",
    "# Calculate the mean squared error\n",
    "mse = mean_squared_error(sy_test, sy_pred)\n",
    "\n",
    "# Print the mean squared error\n",
    "print(\"Mean Squared Error:\", mse)\n",
    "\n",
    "import matplotlib.pyplot as plt\n",
    "\n",
    "# Plot the predicted vs actual stock returns\n",
    "plt.figure(figsize=(10,10))\n",
    "plt.scatter(sy_test, sy_pred)\n",
    "plt.xlabel(\"Actual Stock Returns\")\n",
    "plt.ylabel(\"Predicted Stock Returns\")\n",
    "plt.title(\"Predicted vs Actual Stock Returns\")\n",
    "plt.show()\n",
    "\n"
   ]
  },
  {
   "cell_type": "code",
   "execution_count": 78,
   "metadata": {},
   "outputs": [
    {
     "name": "stdout",
     "output_type": "stream",
     "text": [
      "Epoch 1/50\n"
     ]
    },
    {
     "name": "stderr",
     "output_type": "stream",
     "text": [
      "2023-02-14 00:41:09.038778: I tensorflow/core/grappler/optimizers/custom_graph_optimizer_registry.cc:113] Plugin optimizer for device_type GPU is enabled.\n"
     ]
    },
    {
     "name": "stdout",
     "output_type": "stream",
     "text": [
      "20/20 [==============================] - 1s 35ms/step - loss: 0.1790 - accuracy: 0.0000e+00 - val_loss: 0.1071 - val_accuracy: 0.0000e+00\n",
      "Epoch 2/50\n",
      " 1/20 [>.............................] - ETA: 0s - loss: 0.0818 - accuracy: 0.0000e+00"
     ]
    },
    {
     "name": "stderr",
     "output_type": "stream",
     "text": [
      "2023-02-14 00:41:09.920651: I tensorflow/core/grappler/optimizers/custom_graph_optimizer_registry.cc:113] Plugin optimizer for device_type GPU is enabled.\n"
     ]
    },
    {
     "name": "stdout",
     "output_type": "stream",
     "text": [
      "20/20 [==============================] - 0s 17ms/step - loss: 0.0499 - accuracy: 0.0000e+00 - val_loss: 0.0254 - val_accuracy: 0.0000e+00\n",
      "Epoch 3/50\n",
      "20/20 [==============================] - 0s 16ms/step - loss: 0.0407 - accuracy: 0.0000e+00 - val_loss: 0.0224 - val_accuracy: 0.0000e+00\n",
      "Epoch 4/50\n",
      "20/20 [==============================] - 0s 16ms/step - loss: 0.0384 - accuracy: 0.0000e+00 - val_loss: 0.0220 - val_accuracy: 0.0000e+00\n",
      "Epoch 5/50\n",
      "20/20 [==============================] - 0s 16ms/step - loss: 0.0408 - accuracy: 0.0000e+00 - val_loss: 0.0218 - val_accuracy: 0.0000e+00\n",
      "Epoch 6/50\n",
      "20/20 [==============================] - 0s 15ms/step - loss: 0.0379 - accuracy: 0.0000e+00 - val_loss: 0.0214 - val_accuracy: 0.0000e+00\n",
      "Epoch 7/50\n",
      "20/20 [==============================] - 0s 15ms/step - loss: 0.0345 - accuracy: 0.0000e+00 - val_loss: 0.0213 - val_accuracy: 0.0000e+00\n",
      "Epoch 8/50\n",
      "20/20 [==============================] - 0s 15ms/step - loss: 0.0336 - accuracy: 0.0000e+00 - val_loss: 0.0213 - val_accuracy: 0.0000e+00\n",
      "Epoch 9/50\n",
      "20/20 [==============================] - 0s 19ms/step - loss: 0.0333 - accuracy: 0.0000e+00 - val_loss: 0.0213 - val_accuracy: 0.0000e+00\n",
      "Epoch 10/50\n",
      "20/20 [==============================] - 0s 14ms/step - loss: 0.0343 - accuracy: 0.0000e+00 - val_loss: 0.0213 - val_accuracy: 0.0000e+00\n",
      "Epoch 11/50\n",
      "20/20 [==============================] - 0s 14ms/step - loss: 0.0358 - accuracy: 0.0000e+00 - val_loss: 0.0213 - val_accuracy: 0.0000e+00\n",
      "Epoch 12/50\n",
      "20/20 [==============================] - 0s 14ms/step - loss: 0.0348 - accuracy: 0.0000e+00 - val_loss: 0.0213 - val_accuracy: 0.0000e+00\n",
      "Epoch 13/50\n",
      "20/20 [==============================] - 0s 14ms/step - loss: 0.0313 - accuracy: 0.0000e+00 - val_loss: 0.0212 - val_accuracy: 0.0000e+00\n",
      "Epoch 14/50\n",
      "20/20 [==============================] - 0s 15ms/step - loss: 0.0331 - accuracy: 0.0000e+00 - val_loss: 0.0213 - val_accuracy: 0.0000e+00\n",
      "Epoch 15/50\n",
      "20/20 [==============================] - 0s 16ms/step - loss: 0.0305 - accuracy: 0.0000e+00 - val_loss: 0.0213 - val_accuracy: 0.0000e+00\n",
      "Epoch 16/50\n",
      "20/20 [==============================] - 0s 18ms/step - loss: 0.0324 - accuracy: 0.0000e+00 - val_loss: 0.0213 - val_accuracy: 0.0000e+00\n",
      "Epoch 17/50\n",
      "20/20 [==============================] - 0s 20ms/step - loss: 0.0350 - accuracy: 0.0000e+00 - val_loss: 0.0213 - val_accuracy: 0.0000e+00\n",
      "Epoch 18/50\n",
      "20/20 [==============================] - 0s 14ms/step - loss: 0.0331 - accuracy: 0.0000e+00 - val_loss: 0.0213 - val_accuracy: 0.0000e+00\n",
      "Epoch 19/50\n",
      "20/20 [==============================] - 0s 16ms/step - loss: 0.0336 - accuracy: 0.0000e+00 - val_loss: 0.0213 - val_accuracy: 0.0000e+00\n",
      "Epoch 20/50\n",
      "20/20 [==============================] - 0s 15ms/step - loss: 0.0340 - accuracy: 0.0000e+00 - val_loss: 0.0213 - val_accuracy: 0.0000e+00\n",
      "Epoch 21/50\n",
      "20/20 [==============================] - 0s 17ms/step - loss: 0.0335 - accuracy: 0.0000e+00 - val_loss: 0.0213 - val_accuracy: 0.0000e+00\n",
      "Epoch 22/50\n",
      "20/20 [==============================] - 0s 15ms/step - loss: 0.0336 - accuracy: 0.0000e+00 - val_loss: 0.0213 - val_accuracy: 0.0000e+00\n",
      "Epoch 23/50\n",
      "20/20 [==============================] - 0s 17ms/step - loss: 0.0332 - accuracy: 0.0000e+00 - val_loss: 0.0213 - val_accuracy: 0.0000e+00\n",
      "Epoch 24/50\n",
      "20/20 [==============================] - 0s 17ms/step - loss: 0.0348 - accuracy: 0.0000e+00 - val_loss: 0.0213 - val_accuracy: 0.0000e+00\n",
      "Epoch 25/50\n",
      "20/20 [==============================] - 0s 15ms/step - loss: 0.0324 - accuracy: 0.0000e+00 - val_loss: 0.0214 - val_accuracy: 0.0000e+00\n",
      "Epoch 26/50\n",
      "20/20 [==============================] - 0s 15ms/step - loss: 0.0330 - accuracy: 0.0000e+00 - val_loss: 0.0214 - val_accuracy: 0.0000e+00\n",
      "Epoch 27/50\n",
      "20/20 [==============================] - 0s 15ms/step - loss: 0.0308 - accuracy: 0.0000e+00 - val_loss: 0.0214 - val_accuracy: 0.0000e+00\n",
      "Epoch 28/50\n",
      "20/20 [==============================] - 0s 19ms/step - loss: 0.0336 - accuracy: 0.0000e+00 - val_loss: 0.0214 - val_accuracy: 0.0000e+00\n",
      "Epoch 29/50\n",
      "20/20 [==============================] - 0s 17ms/step - loss: 0.0329 - accuracy: 0.0000e+00 - val_loss: 0.0221 - val_accuracy: 0.0000e+00\n",
      "Epoch 30/50\n",
      "20/20 [==============================] - 0s 16ms/step - loss: 0.0327 - accuracy: 0.0000e+00 - val_loss: 0.0219 - val_accuracy: 0.0000e+00\n",
      "Epoch 31/50\n",
      "20/20 [==============================] - 0s 14ms/step - loss: 0.0329 - accuracy: 0.0000e+00 - val_loss: 0.0218 - val_accuracy: 0.0000e+00\n",
      "Epoch 32/50\n",
      "20/20 [==============================] - 0s 13ms/step - loss: 0.0331 - accuracy: 0.0000e+00 - val_loss: 0.0221 - val_accuracy: 0.0000e+00\n",
      "Epoch 33/50\n",
      "20/20 [==============================] - 0s 14ms/step - loss: 0.0349 - accuracy: 0.0000e+00 - val_loss: 0.0226 - val_accuracy: 0.0000e+00\n",
      "Epoch 34/50\n",
      "20/20 [==============================] - 0s 13ms/step - loss: 0.0335 - accuracy: 0.0000e+00 - val_loss: 0.0239 - val_accuracy: 0.0000e+00\n",
      "Epoch 35/50\n",
      "20/20 [==============================] - 0s 14ms/step - loss: 0.0319 - accuracy: 0.0000e+00 - val_loss: 0.0224 - val_accuracy: 0.0000e+00\n",
      "Epoch 36/50\n",
      "20/20 [==============================] - 0s 15ms/step - loss: 0.0326 - accuracy: 0.0000e+00 - val_loss: 0.0225 - val_accuracy: 0.0000e+00\n",
      "Epoch 37/50\n",
      "20/20 [==============================] - 0s 14ms/step - loss: 0.0334 - accuracy: 0.0000e+00 - val_loss: 0.0225 - val_accuracy: 0.0000e+00\n",
      "Epoch 38/50\n",
      "20/20 [==============================] - 0s 16ms/step - loss: 0.0321 - accuracy: 0.0000e+00 - val_loss: 0.0250 - val_accuracy: 0.0000e+00\n",
      "Epoch 39/50\n",
      "20/20 [==============================] - 0s 16ms/step - loss: 0.0323 - accuracy: 0.0000e+00 - val_loss: 0.0267 - val_accuracy: 0.0000e+00\n",
      "Epoch 40/50\n",
      "20/20 [==============================] - 0s 16ms/step - loss: 0.0335 - accuracy: 0.0000e+00 - val_loss: 0.0238 - val_accuracy: 0.0000e+00\n",
      "Epoch 41/50\n",
      "20/20 [==============================] - 0s 16ms/step - loss: 0.0297 - accuracy: 0.0000e+00 - val_loss: 0.0232 - val_accuracy: 0.0000e+00\n",
      "Epoch 42/50\n",
      "20/20 [==============================] - 0s 15ms/step - loss: 0.0323 - accuracy: 0.0000e+00 - val_loss: 0.0230 - val_accuracy: 0.0000e+00\n",
      "Epoch 43/50\n",
      "20/20 [==============================] - 0s 14ms/step - loss: 0.0318 - accuracy: 0.0000e+00 - val_loss: 0.0240 - val_accuracy: 0.0000e+00\n",
      "Epoch 44/50\n",
      "20/20 [==============================] - 0s 14ms/step - loss: 0.0328 - accuracy: 0.0000e+00 - val_loss: 0.0246 - val_accuracy: 0.0000e+00\n",
      "Epoch 45/50\n",
      "20/20 [==============================] - 0s 14ms/step - loss: 0.0303 - accuracy: 0.0000e+00 - val_loss: 0.0240 - val_accuracy: 0.0000e+00\n",
      "Epoch 46/50\n",
      "20/20 [==============================] - 0s 14ms/step - loss: 0.0324 - accuracy: 0.0000e+00 - val_loss: 0.0231 - val_accuracy: 0.0000e+00\n",
      "Epoch 47/50\n",
      "20/20 [==============================] - 0s 14ms/step - loss: 0.0319 - accuracy: 0.0000e+00 - val_loss: 0.0246 - val_accuracy: 0.0000e+00\n",
      "Epoch 48/50\n",
      "20/20 [==============================] - 0s 14ms/step - loss: 0.0310 - accuracy: 0.0000e+00 - val_loss: 0.0271 - val_accuracy: 0.0000e+00\n",
      "Epoch 49/50\n",
      "20/20 [==============================] - 0s 14ms/step - loss: 0.0310 - accuracy: 0.0000e+00 - val_loss: 0.0264 - val_accuracy: 0.0000e+00\n",
      "Epoch 50/50\n",
      "20/20 [==============================] - 0s 14ms/step - loss: 0.0302 - accuracy: 0.0000e+00 - val_loss: 0.0281 - val_accuracy: 0.0000e+00\n",
      "10/10 [==============================] - 0s 6ms/step\n"
     ]
    },
    {
     "name": "stderr",
     "output_type": "stream",
     "text": [
      "2023-02-14 00:41:25.124726: I tensorflow/core/grappler/optimizers/custom_graph_optimizer_registry.cc:113] Plugin optimizer for device_type GPU is enabled.\n"
     ]
    },
    {
     "data": {
      "image/png": "[encoded data removed]",
      "text/plain": [
       "<Figure size 720x720 with 1 Axes>"
      ]
     },
     "metadata": {
      "needs_background": "light"
     },
     "output_type": "display_data"
    }
   ],
   "source": [
    "model = Sequential()\n",
    "\n",
    "# Add the first hidden layer with 128 units and ReLU activation\n",
    "model.add(Dense(250, activation='relu'))\n",
    "\n",
    "# Add a dropout layer with a rate of 0.5 to prevent overfitting\n",
    "model.add(Dropout(0.5))\n",
    "\n",
    "model.add(Dense(200, activation='relu'))\n",
    "\n",
    "model.add(Dropout(0.5))\n",
    "\n",
    "model.add(Dense(160, activation='relu'))\n",
    "\n",
    "model.add(Dropout(0.5))\n",
    "\n",
    "model.add(Dense(120, activation='relu'))\n",
    "# Add the second hidden layer with 64 units and ReLU activation\n",
    "model.add(Dense(64, activation='relu'))\n",
    "\n",
    "# Add a dropout layer with a rate of 0.5 to prevent overfitting\n",
    "model.add(Dropout(0.5))\n",
    "\n",
    "model.add(Dense(32, activation='relu'))\n",
    "\n",
    "model.add(Dropout(0.5))\n",
    "\n",
    "model.add(Dense(16, activation='relu'))\n",
    "model.add(Dropout(0.5))\n",
    "# Add the output layer with a single unit and a linear activation\n",
    "model.add(Dense(1, activation='sigmoid'))\n",
    "\n",
    "# Compile the model with mean squared error loss and the Adam optimizer\n",
    "model.compile(loss='mean_squared_error', optimizer='adam', metrics=['accuracy'])\n",
    "\n",
    "# Fit the model to the training data\n",
    "model.fit(X_train, Y_train, epochs=50, batch_size=32, validation_data=(X_test, Y_test))\n",
    "\n",
    "Y_pred = model.predict(X_test)\n",
    "\n",
    "plt.figure(figsize=(10,10))\n",
    "plt.scatter(Y_pred, Y_test)\n",
    "plt.ylabel(\"Actual Stock Returns\")\n",
    "plt.xlabel(\"Predicted Stock Returns\")\n",
    "plt.title(\"Predicted vs Actual Stock Returns\")\n",
    "plt.show()\n"
   ]
  },
  {
   "cell_type": "code",
   "execution_count": 82,
   "metadata": {},
   "outputs": [
    {
     "name": "stdout",
     "output_type": "stream",
     "text": [
      "Epoch 1/100\n",
      " 8/21 [==========>...................] - ETA: 0s - loss: 0.1564 "
     ]
    },
    {
     "name": "stderr",
     "output_type": "stream",
     "text": [
      "2023-02-08 22:52:24.177196: I tensorflow/core/grappler/optimizers/custom_graph_optimizer_registry.cc:113] Plugin optimizer for device_type GPU is enabled.\n"
     ]
    },
    {
     "name": "stdout",
     "output_type": "stream",
     "text": [
      "21/21 [==============================] - 1s 16ms/step - loss: 0.1478 - val_loss: 0.2185\n",
      "Epoch 2/100\n",
      "17/21 [=======================>......] - ETA: 0s - loss: 0.1251"
     ]
    },
    {
     "name": "stderr",
     "output_type": "stream",
     "text": [
      "2023-02-08 22:52:24.517181: I tensorflow/core/grappler/optimizers/custom_graph_optimizer_registry.cc:113] Plugin optimizer for device_type GPU is enabled.\n"
     ]
    },
    {
     "name": "stdout",
     "output_type": "stream",
     "text": [
      "21/21 [==============================] - 0s 10ms/step - loss: 0.1354 - val_loss: 0.1960\n",
      "Epoch 3/100\n",
      "21/21 [==============================] - 0s 11ms/step - loss: 0.1327 - val_loss: 0.2055\n",
      "Epoch 4/100\n",
      "21/21 [==============================] - 0s 12ms/step - loss: 0.1292 - val_loss: 0.1894\n",
      "Epoch 5/100\n",
      "21/21 [==============================] - 0s 11ms/step - loss: 0.1278 - val_loss: 0.2024\n",
      "Epoch 6/100\n",
      "21/21 [==============================] - 0s 11ms/step - loss: 0.1288 - val_loss: 0.1802\n",
      "Epoch 7/100\n",
      "21/21 [==============================] - 0s 9ms/step - loss: 0.1279 - val_loss: 0.1819\n",
      "Epoch 8/100\n",
      "21/21 [==============================] - 0s 9ms/step - loss: 0.1380 - val_loss: 0.2130\n",
      "Epoch 9/100\n",
      "21/21 [==============================] - 0s 12ms/step - loss: 0.1342 - val_loss: 0.2123\n",
      "Epoch 10/100\n",
      "21/21 [==============================] - 0s 11ms/step - loss: 0.1255 - val_loss: 0.1855\n",
      "Epoch 11/100\n",
      "21/21 [==============================] - 0s 10ms/step - loss: 0.1279 - val_loss: 0.1891\n",
      "Epoch 12/100\n",
      "21/21 [==============================] - 0s 8ms/step - loss: 0.1285 - val_loss: 0.2146\n",
      "Epoch 13/100\n",
      "21/21 [==============================] - 0s 10ms/step - loss: 0.1277 - val_loss: 0.1863\n",
      "Epoch 14/100\n",
      "21/21 [==============================] - 0s 9ms/step - loss: 0.1373 - val_loss: 0.2150\n",
      "Epoch 15/100\n",
      "21/21 [==============================] - 0s 8ms/step - loss: 0.1260 - val_loss: 0.1810\n",
      "Epoch 16/100\n",
      "21/21 [==============================] - 0s 12ms/step - loss: 0.1271 - val_loss: 0.2101\n",
      "Epoch 17/100\n",
      "21/21 [==============================] - 0s 10ms/step - loss: 0.1427 - val_loss: 0.2102\n",
      "Epoch 18/100\n",
      "21/21 [==============================] - 0s 9ms/step - loss: 0.1294 - val_loss: 0.1965\n",
      "Epoch 19/100\n",
      "21/21 [==============================] - 0s 9ms/step - loss: 0.1223 - val_loss: 0.1839\n",
      "Epoch 20/100\n",
      "21/21 [==============================] - 0s 9ms/step - loss: 0.1230 - val_loss: 0.1839\n",
      "Epoch 21/100\n",
      "21/21 [==============================] - 0s 9ms/step - loss: 0.1232 - val_loss: 0.1831\n",
      "Epoch 22/100\n",
      "21/21 [==============================] - 0s 9ms/step - loss: 0.1188 - val_loss: 0.2087\n",
      "Epoch 23/100\n",
      "21/21 [==============================] - 0s 11ms/step - loss: 0.1234 - val_loss: 0.1905\n",
      "Epoch 24/100\n",
      "21/21 [==============================] - 0s 8ms/step - loss: 0.1245 - val_loss: 0.2162\n",
      "Epoch 25/100\n",
      "21/21 [==============================] - 0s 8ms/step - loss: 0.1305 - val_loss: 0.2125\n",
      "Epoch 26/100\n",
      "21/21 [==============================] - 0s 8ms/step - loss: 0.1261 - val_loss: 0.1851\n",
      "Epoch 27/100\n",
      "21/21 [==============================] - 0s 8ms/step - loss: 0.1217 - val_loss: 0.1817\n",
      "Epoch 28/100\n",
      "21/21 [==============================] - 0s 10ms/step - loss: 0.1191 - val_loss: 0.1821\n",
      "Epoch 29/100\n",
      "21/21 [==============================] - 0s 9ms/step - loss: 0.1362 - val_loss: 0.1841\n",
      "Epoch 30/100\n",
      "21/21 [==============================] - 0s 8ms/step - loss: 0.1204 - val_loss: 0.1854\n",
      "Epoch 31/100\n",
      "21/21 [==============================] - 0s 11ms/step - loss: 0.1213 - val_loss: 0.1921\n",
      "Epoch 32/100\n",
      "21/21 [==============================] - 0s 9ms/step - loss: 0.1256 - val_loss: 0.1829\n",
      "Epoch 33/100\n",
      "21/21 [==============================] - 0s 8ms/step - loss: 0.1294 - val_loss: 0.1850\n",
      "Epoch 34/100\n",
      "21/21 [==============================] - 0s 8ms/step - loss: 0.1186 - val_loss: 0.1880\n",
      "Epoch 35/100\n",
      "21/21 [==============================] - 0s 9ms/step - loss: 0.1205 - val_loss: 0.1854\n",
      "Epoch 36/100\n",
      "21/21 [==============================] - 0s 10ms/step - loss: 0.1193 - val_loss: 0.1876\n",
      "Epoch 37/100\n",
      "21/21 [==============================] - 0s 10ms/step - loss: 0.1187 - val_loss: 0.2004\n",
      "Epoch 38/100\n",
      "21/21 [==============================] - 0s 9ms/step - loss: 0.1196 - val_loss: 0.1878\n",
      "Epoch 39/100\n",
      "21/21 [==============================] - 0s 9ms/step - loss: 0.1183 - val_loss: 0.1888\n",
      "Epoch 40/100\n",
      "21/21 [==============================] - 0s 9ms/step - loss: 0.1165 - val_loss: 0.1866\n",
      "Epoch 41/100\n",
      "21/21 [==============================] - 0s 9ms/step - loss: 0.1292 - val_loss: 0.1938\n",
      "Epoch 42/100\n",
      "21/21 [==============================] - 0s 9ms/step - loss: 0.1236 - val_loss: 0.2062\n",
      "Epoch 43/100\n",
      "21/21 [==============================] - 0s 9ms/step - loss: 0.1277 - val_loss: 0.1879\n",
      "Epoch 44/100\n",
      "21/21 [==============================] - 0s 11ms/step - loss: 0.1147 - val_loss: 0.1882\n",
      "Epoch 45/100\n",
      "21/21 [==============================] - 0s 8ms/step - loss: 0.1143 - val_loss: 0.1907\n",
      "Epoch 46/100\n",
      "21/21 [==============================] - 0s 11ms/step - loss: 0.1163 - val_loss: 0.1862\n",
      "Epoch 47/100\n",
      "21/21 [==============================] - 0s 9ms/step - loss: 0.1146 - val_loss: 0.1881\n",
      "Epoch 48/100\n",
      "21/21 [==============================] - 0s 8ms/step - loss: 0.1135 - val_loss: 0.1846\n",
      "Epoch 49/100\n",
      "21/21 [==============================] - 0s 8ms/step - loss: 0.1146 - val_loss: 0.2051\n",
      "Epoch 50/100\n",
      "21/21 [==============================] - 0s 11ms/step - loss: 0.1222 - val_loss: 0.2008\n",
      "Epoch 51/100\n",
      "21/21 [==============================] - 0s 10ms/step - loss: 0.1172 - val_loss: 0.1937\n",
      "Epoch 52/100\n",
      "21/21 [==============================] - 0s 11ms/step - loss: 0.1120 - val_loss: 0.1840\n",
      "Epoch 53/100\n",
      "21/21 [==============================] - 0s 8ms/step - loss: 0.1140 - val_loss: 0.1929\n",
      "Epoch 54/100\n",
      "21/21 [==============================] - 0s 8ms/step - loss: 0.1175 - val_loss: 0.1885\n",
      "Epoch 55/100\n",
      "21/21 [==============================] - 0s 12ms/step - loss: 0.1130 - val_loss: 0.1941\n",
      "Epoch 56/100\n",
      "21/21 [==============================] - 0s 8ms/step - loss: 0.1128 - val_loss: 0.1850\n",
      "Epoch 57/100\n",
      "21/21 [==============================] - 0s 8ms/step - loss: 0.1124 - val_loss: 0.1885\n",
      "Epoch 58/100\n",
      "21/21 [==============================] - 0s 8ms/step - loss: 0.1182 - val_loss: 0.1882\n",
      "Epoch 59/100\n",
      "21/21 [==============================] - 0s 8ms/step - loss: 0.1196 - val_loss: 0.1946\n",
      "Epoch 60/100\n",
      "21/21 [==============================] - 0s 8ms/step - loss: 0.1135 - val_loss: 0.1858\n",
      "Epoch 61/100\n",
      "21/21 [==============================] - 0s 10ms/step - loss: 0.1153 - val_loss: 0.1947\n",
      "Epoch 62/100\n",
      "21/21 [==============================] - 0s 9ms/step - loss: 0.1201 - val_loss: 0.1961\n",
      "Epoch 63/100\n",
      "21/21 [==============================] - 0s 10ms/step - loss: 0.1113 - val_loss: 0.1864\n",
      "Epoch 64/100\n",
      "21/21 [==============================] - 0s 9ms/step - loss: 0.1134 - val_loss: 0.1868\n",
      "Epoch 65/100\n",
      "21/21 [==============================] - 0s 11ms/step - loss: 0.1111 - val_loss: 0.1841\n",
      "Epoch 66/100\n",
      "21/21 [==============================] - 0s 8ms/step - loss: 0.1130 - val_loss: 0.1923\n",
      "Epoch 67/100\n",
      "21/21 [==============================] - 0s 10ms/step - loss: 0.1136 - val_loss: 0.1863\n",
      "Epoch 68/100\n",
      "21/21 [==============================] - 0s 8ms/step - loss: 0.1110 - val_loss: 0.1854\n",
      "Epoch 69/100\n",
      "21/21 [==============================] - 0s 8ms/step - loss: 0.1112 - val_loss: 0.1932\n",
      "Epoch 70/100\n",
      "21/21 [==============================] - 0s 8ms/step - loss: 0.1163 - val_loss: 0.1941\n",
      "Epoch 71/100\n",
      "21/21 [==============================] - 0s 8ms/step - loss: 0.1113 - val_loss: 0.1860\n",
      "Epoch 72/100\n",
      "21/21 [==============================] - 0s 8ms/step - loss: 0.1102 - val_loss: 0.1851\n",
      "Epoch 73/100\n",
      "21/21 [==============================] - 0s 8ms/step - loss: 0.1136 - val_loss: 0.2062\n",
      "Epoch 74/100\n",
      "21/21 [==============================] - 0s 8ms/step - loss: 0.1225 - val_loss: 0.1937\n",
      "Epoch 75/100\n",
      "21/21 [==============================] - 0s 8ms/step - loss: 0.1122 - val_loss: 0.1884\n",
      "Epoch 76/100\n",
      "21/21 [==============================] - 0s 8ms/step - loss: 0.1125 - val_loss: 0.1937\n",
      "Epoch 77/100\n",
      "21/21 [==============================] - 0s 8ms/step - loss: 0.1155 - val_loss: 0.1883\n",
      "Epoch 78/100\n",
      "21/21 [==============================] - 0s 8ms/step - loss: 0.1142 - val_loss: 0.1873\n",
      "Epoch 79/100\n",
      "21/21 [==============================] - 0s 8ms/step - loss: 0.1123 - val_loss: 0.1871\n",
      "Epoch 80/100\n",
      "21/21 [==============================] - 0s 8ms/step - loss: 0.1125 - val_loss: 0.1876\n",
      "Epoch 81/100\n",
      "21/21 [==============================] - 0s 8ms/step - loss: 0.1103 - val_loss: 0.1902\n",
      "Epoch 82/100\n",
      "21/21 [==============================] - 0s 8ms/step - loss: 0.1101 - val_loss: 0.1856\n",
      "Epoch 83/100\n",
      "21/21 [==============================] - 0s 8ms/step - loss: 0.1100 - val_loss: 0.1900\n",
      "Epoch 84/100\n",
      "21/21 [==============================] - 0s 8ms/step - loss: 0.1094 - val_loss: 0.1925\n",
      "Epoch 85/100\n",
      "21/21 [==============================] - 0s 8ms/step - loss: 0.1102 - val_loss: 0.1863\n",
      "Epoch 86/100\n",
      "21/21 [==============================] - 0s 8ms/step - loss: 0.1125 - val_loss: 0.2107\n",
      "Epoch 87/100\n",
      "21/21 [==============================] - 0s 8ms/step - loss: 0.1227 - val_loss: 0.1934\n",
      "Epoch 88/100\n",
      "21/21 [==============================] - 0s 8ms/step - loss: 0.1121 - val_loss: 0.1887\n",
      "Epoch 89/100\n",
      "21/21 [==============================] - 0s 8ms/step - loss: 0.1098 - val_loss: 0.1896\n",
      "Epoch 90/100\n",
      "21/21 [==============================] - 0s 8ms/step - loss: 0.1169 - val_loss: 0.1953\n",
      "Epoch 91/100\n",
      "21/21 [==============================] - 0s 8ms/step - loss: 0.1094 - val_loss: 0.1874\n",
      "Epoch 92/100\n",
      "21/21 [==============================] - 0s 8ms/step - loss: 0.1132 - val_loss: 0.1962\n",
      "Epoch 93/100\n",
      "21/21 [==============================] - 0s 8ms/step - loss: 0.1175 - val_loss: 0.2020\n",
      "Epoch 94/100\n",
      "21/21 [==============================] - 0s 8ms/step - loss: 0.1090 - val_loss: 0.1891\n",
      "Epoch 95/100\n",
      "21/21 [==============================] - 0s 8ms/step - loss: 0.1084 - val_loss: 0.1878\n",
      "Epoch 96/100\n",
      "21/21 [==============================] - 0s 8ms/step - loss: 0.1086 - val_loss: 0.1909\n",
      "Epoch 97/100\n",
      "21/21 [==============================] - 0s 8ms/step - loss: 0.1102 - val_loss: 0.1897\n",
      "Epoch 98/100\n",
      "21/21 [==============================] - 0s 9ms/step - loss: 0.1144 - val_loss: 0.1902\n",
      "Epoch 99/100\n",
      "21/21 [==============================] - 0s 8ms/step - loss: 0.1078 - val_loss: 0.1902\n",
      "Epoch 100/100\n",
      "21/21 [==============================] - 0s 8ms/step - loss: 0.1123 - val_loss: 0.1954\n",
      "11/11 [==============================] - 0s 3ms/step\n"
     ]
    },
    {
     "name": "stderr",
     "output_type": "stream",
     "text": [
      "2023-02-08 22:52:43.158358: I tensorflow/core/grappler/optimizers/custom_graph_optimizer_registry.cc:113] Plugin optimizer for device_type GPU is enabled.\n"
     ]
    },
    {
     "data": {
      "image/png": "[encoded data removed]",
      "text/plain": [
       "<Figure size 720x720 with 1 Axes>"
      ]
     },
     "metadata": {
      "needs_background": "light"
     },
     "output_type": "display_data"
    }
   ],
   "source": [
    "model = Sequential()\n",
    "model.add(Dense(32, input_dim=70, activation='relu'))\n",
    "model.add(Dense(16, activation='relu'))\n",
    "model.add(Dense(1, activation='sigmoid'))\n",
    "\n",
    "# Compile the model\n",
    "model.compile(loss='mean_squared_error', optimizer='adam')\n",
    "\n",
    "# Fit the model to the training data\n",
    "history = model.fit(X_train, Y_train, epochs=100, batch_size=32, validation_data=(X_test, Y_test))\n",
    "\n",
    "# Make predictions on the test data\n",
    "Y_pred = model.predict(X_test)\n",
    "\n",
    "# Plot the results\n",
    "plt.figure(figsize=(10,10))\n",
    "plt.scatter(Y_pred, Y_test)\n",
    "plt.ylabel('Actual Return')\n",
    "plt.xlabel('Predicted Return')\n",
    "plt.title('Scatter Plot of Actual vs Predicted Returns')\n",
    "plt.show()"
   ]
  },
  {
   "cell_type": "code",
   "execution_count": 84,
   "metadata": {},
   "outputs": [
    {
     "ename": "NameError",
     "evalue": "name 'cY_test' is not defined",
     "output_type": "error",
     "traceback": [
      "\u001b[0;31m---------------------------------------------------------------------------\u001b[0m",
      "\u001b[0;31mNameError\u001b[0m                                 Traceback (most recent call last)",
      "\u001b[1;32m/Users/victor/Desktop/Computing_NEA/machine_learning.ipynb Cell 18\u001b[0m in \u001b[0;36m<cell line: 2>\u001b[0;34m()\u001b[0m\n\u001b[1;32m      <a href='vscode-notebook-cell:/Users/victor/Desktop/Computing_NEA/machine_learning.ipynb#ch0000014?line=0'>1</a>\u001b[0m plt\u001b[39m.\u001b[39mfigure(figsize\u001b[39m=\u001b[39m(\u001b[39m10\u001b[39m,\u001b[39m10\u001b[39m))\n\u001b[0;32m----> <a href='vscode-notebook-cell:/Users/victor/Desktop/Computing_NEA/machine_learning.ipynb#ch0000014?line=1'>2</a>\u001b[0m plt\u001b[39m.\u001b[39mscatter(cY_test, cY_pred, c\u001b[39m=\u001b[39m\u001b[39m'\u001b[39m\u001b[39mcrimson\u001b[39m\u001b[39m'\u001b[39m)\n\u001b[1;32m      <a href='vscode-notebook-cell:/Users/victor/Desktop/Computing_NEA/machine_learning.ipynb#ch0000014?line=2'>3</a>\u001b[0m plt\u001b[39m.\u001b[39myscale(\u001b[39m'\u001b[39m\u001b[39mlog\u001b[39m\u001b[39m'\u001b[39m)\n\u001b[1;32m      <a href='vscode-notebook-cell:/Users/victor/Desktop/Computing_NEA/machine_learning.ipynb#ch0000014?line=3'>4</a>\u001b[0m plt\u001b[39m.\u001b[39mxscale(\u001b[39m'\u001b[39m\u001b[39mlog\u001b[39m\u001b[39m'\u001b[39m)\n",
      "\u001b[0;31mNameError\u001b[0m: name 'cY_test' is not defined"
     ]
    },
    {
     "data": {
      "text/plain": [
       "<Figure size 720x720 with 0 Axes>"
      ]
     },
     "metadata": {},
     "output_type": "display_data"
    }
   ],
   "source": [
    "plt.figure(figsize=(10,10))\n",
    "plt.scatter(Y_test, Y_pred, c='crimson')\n",
    "plt.yscale('log')\n",
    "plt.xscale('log')\n",
    "\n",
    "p1 = max(max(Y_pred), max(Y_test))\n",
    "p2 = min(min(Y_pred), min(Y_test))\n",
    "plt.plot([0, p1], [0, p1])\n",
    "plt.xlabel('True Values', fontsize=15)\n",
    "plt.ylabel('Predictions', fontsize=15)\n",
    "plt.axis('equal')\n",
    "plt.show()"
   ]
  },
  {
   "cell_type": "code",
   "execution_count": 79,
   "metadata": {},
   "outputs": [
    {
     "name": "stdout",
     "output_type": "stream",
     "text": [
      "MSE: 0.02\n",
      "R2: -0.05\n"
     ]
    },
    {
     "data": {
      "image/png": "[encoded data removed]",
      "text/plain": [
       "<Figure size 720x720 with 1 Axes>"
      ]
     },
     "metadata": {
      "needs_background": "light"
     },
     "output_type": "display_data"
    }
   ],
   "source": [
    "from sklearn.svm import SVR\n",
    "from sklearn.model_selection import train_test_split\n",
    "from sklearn.metrics import mean_squared_error, r2_score\n",
    "model = SVR(kernel='rbf', C=1e3, gamma=0.1, epsilon=0.2, tol=0.001, shrinking=True, cache_size=200, verbose=False, max_iter=-1)\n",
    "model.fit(X_train, Y_train)\n",
    "\n",
    "# Make predictions on the test set\n",
    "Y_pred = model.predict(X_test)\n",
    "\n",
    "# Evaluate the model's performance\n",
    "mse = mean_squared_error(Y_test, Y_pred)\n",
    "r2 = r2_score(Y_test, Y_pred)\n",
    "print(f'MSE: {mse:.2f}')\n",
    "print(f'R2: {r2:.2f}')\n",
    "\n",
    "# Plot the predictions against the actual returns\n",
    "plt.figure(figsize=(10,10))\n",
    "plt.scatter(Y_test, Y_pred)\n",
    "plt.xlabel(\"True Returns\")\n",
    "plt.ylabel(\"Predicted Returns\")\n",
    "plt.title(\"SVM Prediction Results\")\n",
    "plt.show()"
   ]
  },
  {
   "cell_type": "code",
   "execution_count": 80,
   "metadata": {},
   "outputs": [
    {
     "name": "stdout",
     "output_type": "stream",
     "text": [
      "MSE: 0.02\n",
      "R2: -0.29\n"
     ]
    },
    {
     "data": {
      "image/png": "[encoded data removed]",
      "text/plain": [
       "<Figure size 720x720 with 1 Axes>"
      ]
     },
     "metadata": {
      "needs_background": "light"
     },
     "output_type": "display_data"
    }
   ],
   "source": [
    "from sklearn.neighbors import KNeighborsRegressor\n",
    "\n",
    "\n",
    "knn = KNeighborsRegressor(n_neighbors=5)\n",
    "\n",
    "# Fit the model on the training data\n",
    "\n",
    "knn.fit(X_train, Y_train)\n",
    "\n",
    "Y_pred = knn.predict(X_test)\n",
    "# mse = mean_squared_error(Y_test, Y_pred)\n",
    "r2 = r2_score(Y_test, Y_pred)\n",
    "print(f'MSE: {mse:.2f}')\n",
    "print(f'R2: {r2:.2f}')\n",
    "\n",
    "# Plot the predictions against the actual returns\n",
    "plt.figure(figsize=(10,10))\n",
    "plt.scatter(Y_test, Y_pred)\n",
    "plt.xlabel(\"True Returns\")\n",
    "plt.ylabel(\"Predicted Returns\")\n",
    "plt.title(\"SVM Prediction Results\")\n",
    "plt.show()"
   ]
  },
  {
   "cell_type": "code",
   "execution_count": 20,
   "metadata": {},
   "outputs": [],
   "source": [
    "import keras\n",
    "from keras.models import Sequential\n",
    "from keras.layers import Dense, Dropout\n",
    "import matplotlib.pyplot as plt\n",
    "\n",
    "\n"
   ]
  },
  {
   "cell_type": "code",
   "execution_count": 82,
   "metadata": {},
   "outputs": [
    {
     "name": "stdout",
     "output_type": "stream",
     "text": [
      "Epoch 1/100\n"
     ]
    },
    {
     "name": "stderr",
     "output_type": "stream",
     "text": [
      "2023-02-14 00:42:54.128789: I tensorflow/core/grappler/optimizers/custom_graph_optimizer_registry.cc:113] Plugin optimizer for device_type GPU is enabled.\n"
     ]
    },
    {
     "name": "stdout",
     "output_type": "stream",
     "text": [
      "20/20 [==============================] - 2s 28ms/step - loss: 0.2716 - mse: 0.2716 - val_loss: 0.1314 - val_mse: 0.1314\n",
      "Epoch 2/100\n",
      " 1/20 [>.............................] - ETA: 0s - loss: 0.0993 - mse: 0.0993"
     ]
    },
    {
     "name": "stderr",
     "output_type": "stream",
     "text": [
      "2023-02-14 00:42:54.806839: I tensorflow/core/grappler/optimizers/custom_graph_optimizer_registry.cc:113] Plugin optimizer for device_type GPU is enabled.\n"
     ]
    },
    {
     "name": "stdout",
     "output_type": "stream",
     "text": [
      "20/20 [==============================] - 0s 18ms/step - loss: 0.1181 - mse: 0.1181 - val_loss: 0.0655 - val_mse: 0.0655\n",
      "Epoch 3/100\n",
      "20/20 [==============================] - 0s 19ms/step - loss: 0.1001 - mse: 0.1001 - val_loss: 0.0425 - val_mse: 0.0425\n",
      "Epoch 4/100\n",
      "20/20 [==============================] - 0s 13ms/step - loss: 0.0986 - mse: 0.0986 - val_loss: 0.0355 - val_mse: 0.0355\n",
      "Epoch 5/100\n",
      "20/20 [==============================] - 0s 12ms/step - loss: 0.0952 - mse: 0.0952 - val_loss: 0.0325 - val_mse: 0.0325\n",
      "Epoch 6/100\n",
      "20/20 [==============================] - 0s 12ms/step - loss: 0.0973 - mse: 0.0973 - val_loss: 0.0302 - val_mse: 0.0302\n",
      "Epoch 7/100\n",
      "20/20 [==============================] - 0s 12ms/step - loss: 0.0932 - mse: 0.0932 - val_loss: 0.0287 - val_mse: 0.0287\n",
      "Epoch 8/100\n",
      "20/20 [==============================] - 0s 13ms/step - loss: 0.0925 - mse: 0.0925 - val_loss: 0.0281 - val_mse: 0.0281\n",
      "Epoch 9/100\n",
      "20/20 [==============================] - 0s 12ms/step - loss: 0.0928 - mse: 0.0928 - val_loss: 0.0276 - val_mse: 0.0276\n",
      "Epoch 10/100\n",
      "20/20 [==============================] - 0s 16ms/step - loss: 0.0865 - mse: 0.0865 - val_loss: 0.0267 - val_mse: 0.0267\n",
      "Epoch 11/100\n",
      "20/20 [==============================] - 0s 15ms/step - loss: 0.0910 - mse: 0.0910 - val_loss: 0.0246 - val_mse: 0.0246\n",
      "Epoch 12/100\n",
      "20/20 [==============================] - 0s 12ms/step - loss: 0.0744 - mse: 0.0744 - val_loss: 0.0228 - val_mse: 0.0228\n",
      "Epoch 13/100\n",
      "20/20 [==============================] - 0s 12ms/step - loss: 0.0734 - mse: 0.0734 - val_loss: 0.0220 - val_mse: 0.0220\n",
      "Epoch 14/100\n",
      "20/20 [==============================] - 0s 12ms/step - loss: 0.0720 - mse: 0.0720 - val_loss: 0.0217 - val_mse: 0.0217\n",
      "Epoch 15/100\n",
      "20/20 [==============================] - 0s 12ms/step - loss: 0.0650 - mse: 0.0650 - val_loss: 0.0217 - val_mse: 0.0217\n",
      "Epoch 16/100\n",
      "20/20 [==============================] - 0s 12ms/step - loss: 0.0610 - mse: 0.0610 - val_loss: 0.0217 - val_mse: 0.0217\n",
      "Epoch 17/100\n",
      "20/20 [==============================] - 0s 17ms/step - loss: 0.0627 - mse: 0.0627 - val_loss: 0.0216 - val_mse: 0.0216\n",
      "Epoch 18/100\n",
      "20/20 [==============================] - 0s 13ms/step - loss: 0.0595 - mse: 0.0595 - val_loss: 0.0216 - val_mse: 0.0216\n",
      "Epoch 19/100\n",
      "20/20 [==============================] - 0s 12ms/step - loss: 0.0574 - mse: 0.0574 - val_loss: 0.0216 - val_mse: 0.0216\n",
      "Epoch 20/100\n",
      "20/20 [==============================] - 0s 12ms/step - loss: 0.0593 - mse: 0.0593 - val_loss: 0.0215 - val_mse: 0.0215\n",
      "Epoch 21/100\n",
      "20/20 [==============================] - 0s 16ms/step - loss: 0.0555 - mse: 0.0555 - val_loss: 0.0215 - val_mse: 0.0215\n",
      "Epoch 22/100\n",
      "20/20 [==============================] - 0s 12ms/step - loss: 0.0565 - mse: 0.0565 - val_loss: 0.0215 - val_mse: 0.0215\n",
      "Epoch 23/100\n",
      "20/20 [==============================] - 0s 12ms/step - loss: 0.0537 - mse: 0.0537 - val_loss: 0.0214 - val_mse: 0.0214\n",
      "Epoch 24/100\n",
      "20/20 [==============================] - 0s 12ms/step - loss: 0.0500 - mse: 0.0500 - val_loss: 0.0214 - val_mse: 0.0214\n",
      "Epoch 25/100\n",
      "20/20 [==============================] - 0s 13ms/step - loss: 0.0506 - mse: 0.0506 - val_loss: 0.0214 - val_mse: 0.0214\n",
      "Epoch 26/100\n",
      "20/20 [==============================] - 0s 12ms/step - loss: 0.0489 - mse: 0.0489 - val_loss: 0.0214 - val_mse: 0.0214\n",
      "Epoch 27/100\n",
      "20/20 [==============================] - 0s 14ms/step - loss: 0.0513 - mse: 0.0513 - val_loss: 0.0214 - val_mse: 0.0214\n",
      "Epoch 28/100\n",
      "20/20 [==============================] - 0s 15ms/step - loss: 0.0503 - mse: 0.0503 - val_loss: 0.0214 - val_mse: 0.0214\n",
      "Epoch 29/100\n",
      "20/20 [==============================] - 0s 18ms/step - loss: 0.0503 - mse: 0.0503 - val_loss: 0.0214 - val_mse: 0.0214\n",
      "Epoch 30/100\n",
      "20/20 [==============================] - 0s 15ms/step - loss: 0.0503 - mse: 0.0503 - val_loss: 0.0214 - val_mse: 0.0214\n",
      "Epoch 31/100\n",
      "20/20 [==============================] - 0s 13ms/step - loss: 0.0493 - mse: 0.0493 - val_loss: 0.0214 - val_mse: 0.0214\n",
      "Epoch 32/100\n",
      "20/20 [==============================] - 0s 12ms/step - loss: 0.0493 - mse: 0.0493 - val_loss: 0.0214 - val_mse: 0.0214\n",
      "Epoch 33/100\n",
      "20/20 [==============================] - 0s 13ms/step - loss: 0.0491 - mse: 0.0491 - val_loss: 0.0214 - val_mse: 0.0214\n",
      "Epoch 34/100\n",
      "20/20 [==============================] - 0s 12ms/step - loss: 0.0545 - mse: 0.0545 - val_loss: 0.0214 - val_mse: 0.0214\n",
      "Epoch 35/100\n",
      "20/20 [==============================] - 0s 12ms/step - loss: 0.0517 - mse: 0.0517 - val_loss: 0.0214 - val_mse: 0.0214\n",
      "Epoch 36/100\n",
      "20/20 [==============================] - 0s 12ms/step - loss: 0.0482 - mse: 0.0482 - val_loss: 0.0214 - val_mse: 0.0214\n",
      "Epoch 37/100\n",
      "20/20 [==============================] - 0s 12ms/step - loss: 0.0495 - mse: 0.0495 - val_loss: 0.0214 - val_mse: 0.0214\n",
      "Epoch 38/100\n",
      "20/20 [==============================] - 0s 12ms/step - loss: 0.0499 - mse: 0.0499 - val_loss: 0.0214 - val_mse: 0.0214\n",
      "Epoch 39/100\n",
      "20/20 [==============================] - 0s 17ms/step - loss: 0.0487 - mse: 0.0487 - val_loss: 0.0214 - val_mse: 0.0214\n",
      "Epoch 40/100\n",
      "20/20 [==============================] - 0s 13ms/step - loss: 0.0446 - mse: 0.0446 - val_loss: 0.0214 - val_mse: 0.0214\n",
      "Epoch 41/100\n",
      "20/20 [==============================] - 0s 12ms/step - loss: 0.0475 - mse: 0.0475 - val_loss: 0.0214 - val_mse: 0.0214\n",
      "Epoch 42/100\n",
      "20/20 [==============================] - 0s 12ms/step - loss: 0.0488 - mse: 0.0488 - val_loss: 0.0214 - val_mse: 0.0214\n",
      "Epoch 43/100\n",
      "20/20 [==============================] - 0s 17ms/step - loss: 0.0456 - mse: 0.0456 - val_loss: 0.0214 - val_mse: 0.0214\n",
      "Epoch 44/100\n",
      "20/20 [==============================] - 0s 12ms/step - loss: 0.0461 - mse: 0.0461 - val_loss: 0.0214 - val_mse: 0.0214\n",
      "Epoch 45/100\n",
      "20/20 [==============================] - 0s 13ms/step - loss: 0.0454 - mse: 0.0454 - val_loss: 0.0214 - val_mse: 0.0214\n",
      "Epoch 46/100\n",
      "20/20 [==============================] - 0s 14ms/step - loss: 0.0454 - mse: 0.0454 - val_loss: 0.0214 - val_mse: 0.0214\n",
      "Epoch 47/100\n",
      "20/20 [==============================] - 0s 12ms/step - loss: 0.0444 - mse: 0.0444 - val_loss: 0.0214 - val_mse: 0.0214\n",
      "Epoch 48/100\n",
      "20/20 [==============================] - 0s 12ms/step - loss: 0.0449 - mse: 0.0449 - val_loss: 0.0214 - val_mse: 0.0214\n",
      "Epoch 49/100\n",
      "20/20 [==============================] - 0s 12ms/step - loss: 0.0420 - mse: 0.0420 - val_loss: 0.0214 - val_mse: 0.0214\n",
      "Epoch 50/100\n",
      "20/20 [==============================] - 0s 12ms/step - loss: 0.0454 - mse: 0.0454 - val_loss: 0.0214 - val_mse: 0.0214\n",
      "Epoch 51/100\n",
      "20/20 [==============================] - 0s 14ms/step - loss: 0.0498 - mse: 0.0498 - val_loss: 0.0214 - val_mse: 0.0214\n",
      "Epoch 52/100\n",
      "20/20 [==============================] - 0s 14ms/step - loss: 0.0470 - mse: 0.0470 - val_loss: 0.0215 - val_mse: 0.0215\n",
      "Epoch 53/100\n",
      "20/20 [==============================] - 0s 12ms/step - loss: 0.0432 - mse: 0.0432 - val_loss: 0.0214 - val_mse: 0.0214\n",
      "Epoch 54/100\n",
      "20/20 [==============================] - 0s 12ms/step - loss: 0.0455 - mse: 0.0455 - val_loss: 0.0214 - val_mse: 0.0214\n",
      "Epoch 55/100\n",
      "20/20 [==============================] - 0s 17ms/step - loss: 0.0449 - mse: 0.0449 - val_loss: 0.0213 - val_mse: 0.0213\n",
      "Epoch 56/100\n",
      "20/20 [==============================] - 0s 12ms/step - loss: 0.0422 - mse: 0.0422 - val_loss: 0.0213 - val_mse: 0.0213\n",
      "Epoch 57/100\n",
      "20/20 [==============================] - 0s 14ms/step - loss: 0.0434 - mse: 0.0434 - val_loss: 0.0213 - val_mse: 0.0213\n",
      "Epoch 58/100\n",
      "20/20 [==============================] - 0s 12ms/step - loss: 0.0435 - mse: 0.0435 - val_loss: 0.0213 - val_mse: 0.0213\n",
      "Epoch 59/100\n",
      "20/20 [==============================] - 0s 12ms/step - loss: 0.0421 - mse: 0.0421 - val_loss: 0.0213 - val_mse: 0.0213\n",
      "Epoch 60/100\n",
      "20/20 [==============================] - 0s 12ms/step - loss: 0.0414 - mse: 0.0414 - val_loss: 0.0214 - val_mse: 0.0214\n",
      "Epoch 61/100\n",
      "20/20 [==============================] - 0s 12ms/step - loss: 0.0427 - mse: 0.0427 - val_loss: 0.0214 - val_mse: 0.0214\n",
      "Epoch 62/100\n",
      "20/20 [==============================] - 0s 12ms/step - loss: 0.0422 - mse: 0.0422 - val_loss: 0.0214 - val_mse: 0.0214\n",
      "Epoch 63/100\n",
      "20/20 [==============================] - 0s 12ms/step - loss: 0.0420 - mse: 0.0420 - val_loss: 0.0214 - val_mse: 0.0214\n",
      "Epoch 64/100\n",
      "20/20 [==============================] - 0s 12ms/step - loss: 0.0398 - mse: 0.0398 - val_loss: 0.0214 - val_mse: 0.0214\n",
      "Epoch 65/100\n",
      "20/20 [==============================] - 0s 12ms/step - loss: 0.0440 - mse: 0.0440 - val_loss: 0.0214 - val_mse: 0.0214\n",
      "Epoch 66/100\n",
      "20/20 [==============================] - 0s 12ms/step - loss: 0.0405 - mse: 0.0405 - val_loss: 0.0215 - val_mse: 0.0215\n",
      "Epoch 67/100\n",
      "20/20 [==============================] - 0s 12ms/step - loss: 0.0420 - mse: 0.0420 - val_loss: 0.0215 - val_mse: 0.0215\n",
      "Epoch 68/100\n",
      "20/20 [==============================] - 0s 17ms/step - loss: 0.0396 - mse: 0.0396 - val_loss: 0.0214 - val_mse: 0.0214\n",
      "Epoch 69/100\n",
      "20/20 [==============================] - 0s 13ms/step - loss: 0.0406 - mse: 0.0406 - val_loss: 0.0216 - val_mse: 0.0216\n",
      "Epoch 70/100\n",
      "20/20 [==============================] - 0s 13ms/step - loss: 0.0382 - mse: 0.0382 - val_loss: 0.0216 - val_mse: 0.0216\n",
      "Epoch 71/100\n",
      "20/20 [==============================] - 0s 12ms/step - loss: 0.0384 - mse: 0.0384 - val_loss: 0.0215 - val_mse: 0.0215\n",
      "Epoch 72/100\n",
      "20/20 [==============================] - 0s 12ms/step - loss: 0.0375 - mse: 0.0375 - val_loss: 0.0215 - val_mse: 0.0215\n",
      "Epoch 73/100\n",
      "20/20 [==============================] - 0s 12ms/step - loss: 0.0393 - mse: 0.0393 - val_loss: 0.0215 - val_mse: 0.0215\n",
      "Epoch 74/100\n",
      "20/20 [==============================] - 0s 12ms/step - loss: 0.0395 - mse: 0.0395 - val_loss: 0.0217 - val_mse: 0.0217\n",
      "Epoch 75/100\n",
      "20/20 [==============================] - 0s 12ms/step - loss: 0.0382 - mse: 0.0382 - val_loss: 0.0218 - val_mse: 0.0218\n",
      "Epoch 76/100\n",
      "20/20 [==============================] - 0s 12ms/step - loss: 0.0379 - mse: 0.0379 - val_loss: 0.0217 - val_mse: 0.0217\n",
      "Epoch 77/100\n",
      "20/20 [==============================] - 0s 13ms/step - loss: 0.0400 - mse: 0.0400 - val_loss: 0.0216 - val_mse: 0.0216\n",
      "Epoch 78/100\n",
      "20/20 [==============================] - 0s 15ms/step - loss: 0.0405 - mse: 0.0405 - val_loss: 0.0215 - val_mse: 0.0215\n",
      "Epoch 79/100\n",
      "20/20 [==============================] - 0s 12ms/step - loss: 0.0378 - mse: 0.0378 - val_loss: 0.0216 - val_mse: 0.0216\n",
      "Epoch 80/100\n",
      "20/20 [==============================] - 0s 13ms/step - loss: 0.0379 - mse: 0.0379 - val_loss: 0.0217 - val_mse: 0.0217\n",
      "Epoch 81/100\n",
      "20/20 [==============================] - 0s 16ms/step - loss: 0.0369 - mse: 0.0369 - val_loss: 0.0217 - val_mse: 0.0217\n",
      "Epoch 82/100\n",
      "20/20 [==============================] - 0s 18ms/step - loss: 0.0360 - mse: 0.0360 - val_loss: 0.0219 - val_mse: 0.0219\n",
      "Epoch 83/100\n",
      "20/20 [==============================] - 0s 16ms/step - loss: 0.0367 - mse: 0.0367 - val_loss: 0.0220 - val_mse: 0.0220\n",
      "Epoch 84/100\n",
      "20/20 [==============================] - 0s 12ms/step - loss: 0.0384 - mse: 0.0384 - val_loss: 0.0217 - val_mse: 0.0217\n",
      "Epoch 85/100\n",
      "20/20 [==============================] - 0s 12ms/step - loss: 0.0386 - mse: 0.0386 - val_loss: 0.0222 - val_mse: 0.0222\n",
      "Epoch 86/100\n",
      "20/20 [==============================] - 0s 12ms/step - loss: 0.0369 - mse: 0.0369 - val_loss: 0.0224 - val_mse: 0.0224\n",
      "Epoch 87/100\n",
      "20/20 [==============================] - 0s 12ms/step - loss: 0.0356 - mse: 0.0356 - val_loss: 0.0224 - val_mse: 0.0224\n",
      "Epoch 88/100\n",
      "20/20 [==============================] - 0s 12ms/step - loss: 0.0355 - mse: 0.0355 - val_loss: 0.0223 - val_mse: 0.0223\n",
      "Epoch 89/100\n",
      "20/20 [==============================] - 0s 12ms/step - loss: 0.0367 - mse: 0.0367 - val_loss: 0.0223 - val_mse: 0.0223\n",
      "Epoch 90/100\n",
      "20/20 [==============================] - 0s 12ms/step - loss: 0.0336 - mse: 0.0336 - val_loss: 0.0221 - val_mse: 0.0221\n",
      "Epoch 91/100\n",
      "20/20 [==============================] - 0s 15ms/step - loss: 0.0352 - mse: 0.0352 - val_loss: 0.0220 - val_mse: 0.0220\n",
      "Epoch 92/100\n",
      "20/20 [==============================] - 0s 12ms/step - loss: 0.0358 - mse: 0.0358 - val_loss: 0.0218 - val_mse: 0.0218\n",
      "Epoch 93/100\n",
      "20/20 [==============================] - 0s 12ms/step - loss: 0.0345 - mse: 0.0345 - val_loss: 0.0219 - val_mse: 0.0219\n",
      "Epoch 94/100\n",
      "20/20 [==============================] - 0s 12ms/step - loss: 0.0340 - mse: 0.0340 - val_loss: 0.0219 - val_mse: 0.0219\n",
      "Epoch 95/100\n",
      "20/20 [==============================] - 0s 16ms/step - loss: 0.0342 - mse: 0.0342 - val_loss: 0.0224 - val_mse: 0.0224\n",
      "Epoch 96/100\n",
      "20/20 [==============================] - 0s 12ms/step - loss: 0.0340 - mse: 0.0340 - val_loss: 0.0229 - val_mse: 0.0229\n",
      "Epoch 97/100\n",
      "20/20 [==============================] - 0s 12ms/step - loss: 0.0352 - mse: 0.0352 - val_loss: 0.0227 - val_mse: 0.0227\n",
      "Epoch 98/100\n",
      "20/20 [==============================] - 0s 16ms/step - loss: 0.0344 - mse: 0.0344 - val_loss: 0.0227 - val_mse: 0.0227\n",
      "Epoch 99/100\n",
      "20/20 [==============================] - 0s 13ms/step - loss: 0.0337 - mse: 0.0337 - val_loss: 0.0225 - val_mse: 0.0225\n",
      "Epoch 100/100\n",
      "20/20 [==============================] - 0s 12ms/step - loss: 0.0344 - mse: 0.0344 - val_loss: 0.0224 - val_mse: 0.0224\n",
      "10/10 [==============================] - 0s 6ms/step\n"
     ]
    },
    {
     "name": "stderr",
     "output_type": "stream",
     "text": [
      "2023-02-14 00:43:20.969378: I tensorflow/core/grappler/optimizers/custom_graph_optimizer_registry.cc:113] Plugin optimizer for device_type GPU is enabled.\n"
     ]
    },
    {
     "data": {
      "image/png": "[encoded data removed]",
      "text/plain": [
       "<Figure size 720x720 with 1 Axes>"
      ]
     },
     "metadata": {
      "needs_background": "light"
     },
     "output_type": "display_data"
    }
   ],
   "source": [
    "#DECENT MODEL!\n",
    "\n",
    "model = Sequential()\n",
    "\n",
    "# Add multiple hidden layers with different number of neurons\n",
    "model.add(Dense(256, activation='relu', input_shape=(70,)))\n",
    "model.add(Dropout(0.5))\n",
    "model.add(Dense(128, activation='relu'))\n",
    "model.add(Dropout(0.5))\n",
    "model.add(Dense(64, activation='relu'))\n",
    "model.add(Dropout(0.5))\n",
    "model.add(Dense(32, activation='relu'))\n",
    "model.add(Dropout(0.5))\n",
    "model.add(Dense(16, activation='relu'))\n",
    "model.add(Dropout(0.8))\n",
    "# Add the output layer\n",
    "model.add(Dense(1, activation='sigmoid'))\n",
    "\n",
    "# Compile the model\n",
    "model.compile(optimizer='adam', loss='mse', metrics=['mse'])\n",
    "\n",
    "# Train the model\n",
    "model.fit(X_train, Y_train, epochs=100, batch_size=32, validation_data=(X_test, Y_test), verbose=1)\n",
    "\n",
    "Y_pred = model.predict(X_test)\n",
    "plt.figure(figsize=(10,10))\n",
    "plt.scatter(Y_test, Y_pred)\n",
    "plt.xlabel(\"True Returns\")\n",
    "plt.ylabel(\"Predicted Returns\")\n",
    "plt.title(\"SVM Prediction Results\")\n",
    "plt.show()"
   ]
  },
  {
   "cell_type": "code",
   "execution_count": null,
   "metadata": {},
   "outputs": [],
   "source": [
    "regr = DecisionTreeRegressor(random_state=0)\n"
   ]
  },
  {
   "cell_type": "code",
   "execution_count": 83,
   "metadata": {},
   "outputs": [
    {
     "name": "stdout",
     "output_type": "stream",
     "text": [
      "10/10 [==============================] - 0s 3ms/step\n"
     ]
    },
    {
     "ename": "ValueError",
     "evalue": "Classification metrics can't handle a mix of continuous and binary targets",
     "output_type": "error",
     "traceback": [
      "\u001b[0;31m---------------------------------------------------------------------------\u001b[0m",
      "\u001b[0;31mValueError\u001b[0m                                Traceback (most recent call last)",
      "\u001b[1;32m/Users/victor/Desktop/Computing_NEA/machine_learning/machine_learning.ipynb Cell 36\u001b[0m in \u001b[0;36m<cell line: 10>\u001b[0;34m()\u001b[0m\n\u001b[1;32m      <a href='vscode-notebook-cell:/Users/victor/Desktop/Computing_NEA/machine_learning/machine_learning.ipynb#ch0000035?line=6'>7</a>\u001b[0m Y_pred \u001b[39m=\u001b[39m np\u001b[39m.\u001b[39mround(Y_pred)\n\u001b[1;32m      <a href='vscode-notebook-cell:/Users/victor/Desktop/Computing_NEA/machine_learning/machine_learning.ipynb#ch0000035?line=8'>9</a>\u001b[0m \u001b[39m# Generate classification report\u001b[39;00m\n\u001b[0;32m---> <a href='vscode-notebook-cell:/Users/victor/Desktop/Computing_NEA/machine_learning/machine_learning.ipynb#ch0000035?line=9'>10</a>\u001b[0m \u001b[39mprint\u001b[39m(classification_report(Y_test, Y_pred))\n",
      "File \u001b[0;32m~/miniforge3/envs/NLP_env/lib/python3.8/site-packages/sklearn/metrics/_classification.py:2310\u001b[0m, in \u001b[0;36mclassification_report\u001b[0;34m(y_true, y_pred, labels, target_names, sample_weight, digits, output_dict, zero_division)\u001b[0m\n\u001b[1;32m   2195\u001b[0m \u001b[39mdef\u001b[39;00m \u001b[39mclassification_report\u001b[39m(\n\u001b[1;32m   2196\u001b[0m     y_true,\n\u001b[1;32m   2197\u001b[0m     y_pred,\n\u001b[0;32m   (...)\u001b[0m\n\u001b[1;32m   2204\u001b[0m     zero_division\u001b[39m=\u001b[39m\u001b[39m\"\u001b[39m\u001b[39mwarn\u001b[39m\u001b[39m\"\u001b[39m,\n\u001b[1;32m   2205\u001b[0m ):\n\u001b[1;32m   2206\u001b[0m     \u001b[39m\"\"\"Build a text report showing the main classification metrics.\u001b[39;00m\n\u001b[1;32m   2207\u001b[0m \n\u001b[1;32m   2208\u001b[0m \u001b[39m    Read more in the :ref:`User Guide <classification_report>`.\u001b[39;00m\n\u001b[0;32m   (...)\u001b[0m\n\u001b[1;32m   2307\u001b[0m \u001b[39m    <BLANKLINE>\u001b[39;00m\n\u001b[1;32m   2308\u001b[0m \u001b[39m    \"\"\"\u001b[39;00m\n\u001b[0;32m-> 2310\u001b[0m     y_type, y_true, y_pred \u001b[39m=\u001b[39m _check_targets(y_true, y_pred)\n\u001b[1;32m   2312\u001b[0m     \u001b[39mif\u001b[39;00m labels \u001b[39mis\u001b[39;00m \u001b[39mNone\u001b[39;00m:\n\u001b[1;32m   2313\u001b[0m         labels \u001b[39m=\u001b[39m unique_labels(y_true, y_pred)\n",
      "File \u001b[0;32m~/miniforge3/envs/NLP_env/lib/python3.8/site-packages/sklearn/metrics/_classification.py:95\u001b[0m, in \u001b[0;36m_check_targets\u001b[0;34m(y_true, y_pred)\u001b[0m\n\u001b[1;32m     92\u001b[0m     y_type \u001b[39m=\u001b[39m {\u001b[39m\"\u001b[39m\u001b[39mmulticlass\u001b[39m\u001b[39m\"\u001b[39m}\n\u001b[1;32m     94\u001b[0m \u001b[39mif\u001b[39;00m \u001b[39mlen\u001b[39m(y_type) \u001b[39m>\u001b[39m \u001b[39m1\u001b[39m:\n\u001b[0;32m---> 95\u001b[0m     \u001b[39mraise\u001b[39;00m \u001b[39mValueError\u001b[39;00m(\n\u001b[1;32m     96\u001b[0m         \u001b[39m\"\u001b[39m\u001b[39mClassification metrics can\u001b[39m\u001b[39m'\u001b[39m\u001b[39mt handle a mix of \u001b[39m\u001b[39m{0}\u001b[39;00m\u001b[39m and \u001b[39m\u001b[39m{1}\u001b[39;00m\u001b[39m targets\u001b[39m\u001b[39m\"\u001b[39m\u001b[39m.\u001b[39mformat(\n\u001b[1;32m     97\u001b[0m             type_true, type_pred\n\u001b[1;32m     98\u001b[0m         )\n\u001b[1;32m     99\u001b[0m     )\n\u001b[1;32m    101\u001b[0m \u001b[39m# We can't have more than one value on y_type => The set is no more needed\u001b[39;00m\n\u001b[1;32m    102\u001b[0m y_type \u001b[39m=\u001b[39m y_type\u001b[39m.\u001b[39mpop()\n",
      "\u001b[0;31mValueError\u001b[0m: Classification metrics can't handle a mix of continuous and binary targets"
     ]
    }
   ],
   "source": [
    "from sklearn.metrics import classification_report\n",
    "\n",
    "# Make predictions on the test data\n",
    "Y_pred = model.predict(X_test)\n",
    "\n",
    "# Convert predictions to binary format (0 or 1)\n",
    "Y_pred = np.round(Y_pred)\n",
    "\n",
    "# Generate classification report\n",
    "print(classification_report(Y_test, Y_pred))\n"
   ]
  },
  {
   "cell_type": "code",
   "execution_count": 694,
   "metadata": {},
   "outputs": [
    {
     "ename": "ValueError",
     "evalue": "Unknown label type: 'continuous'",
     "output_type": "error",
     "traceback": [
      "\u001b[0;31m---------------------------------------------------------------------------\u001b[0m",
      "\u001b[0;31mValueError\u001b[0m                                Traceback (most recent call last)",
      "\u001b[1;32m/Users/victor/Desktop/Computing_NEA/machine_learning.ipynb Cell 20\u001b[0m in \u001b[0;36m<cell line: 6>\u001b[0;34m()\u001b[0m\n\u001b[1;32m      <a href='vscode-notebook-cell:/Users/victor/Desktop/Computing_NEA/machine_learning.ipynb#ch0000015?line=1'>2</a>\u001b[0m \u001b[39mfrom\u001b[39;00m \u001b[39msklearn\u001b[39;00m \u001b[39mimport\u001b[39;00m metrics\n\u001b[1;32m      <a href='vscode-notebook-cell:/Users/victor/Desktop/Computing_NEA/machine_learning.ipynb#ch0000015?line=3'>4</a>\u001b[0m rfc \u001b[39m=\u001b[39m RandomForestClassifier(n_estimators\u001b[39m=\u001b[39m\u001b[39m1000\u001b[39m)\n\u001b[0;32m----> <a href='vscode-notebook-cell:/Users/victor/Desktop/Computing_NEA/machine_learning.ipynb#ch0000015?line=5'>6</a>\u001b[0m rfc\u001b[39m.\u001b[39;49mfit(X_train, Y_train)\n\u001b[1;32m      <a href='vscode-notebook-cell:/Users/victor/Desktop/Computing_NEA/machine_learning.ipynb#ch0000015?line=6'>7</a>\u001b[0m score \u001b[39m=\u001b[39m rfc\u001b[39m.\u001b[39mscore(X_test, Y_test)\n\u001b[1;32m      <a href='vscode-notebook-cell:/Users/victor/Desktop/Computing_NEA/machine_learning.ipynb#ch0000015?line=7'>8</a>\u001b[0m Y_pred \u001b[39m=\u001b[39m rfc\u001b[39m.\u001b[39mpredict(X_test)\n",
      "File \u001b[0;32m~/miniforge3/envs/NLP_env/lib/python3.8/site-packages/sklearn/ensemble/_forest.py:371\u001b[0m, in \u001b[0;36mBaseForest.fit\u001b[0;34m(self, X, y, sample_weight)\u001b[0m\n\u001b[1;32m    364\u001b[0m         \u001b[39mraise\u001b[39;00m \u001b[39mValueError\u001b[39;00m(\n\u001b[1;32m    365\u001b[0m             \u001b[39m\"\u001b[39m\u001b[39mSum of y is not strictly positive which \u001b[39m\u001b[39m\"\u001b[39m\n\u001b[1;32m    366\u001b[0m             \u001b[39m\"\u001b[39m\u001b[39mis necessary for Poisson regression.\u001b[39m\u001b[39m\"\u001b[39m\n\u001b[1;32m    367\u001b[0m         )\n\u001b[1;32m    369\u001b[0m \u001b[39mself\u001b[39m\u001b[39m.\u001b[39mn_outputs_ \u001b[39m=\u001b[39m y\u001b[39m.\u001b[39mshape[\u001b[39m1\u001b[39m]\n\u001b[0;32m--> 371\u001b[0m y, expanded_class_weight \u001b[39m=\u001b[39m \u001b[39mself\u001b[39;49m\u001b[39m.\u001b[39;49m_validate_y_class_weight(y)\n\u001b[1;32m    373\u001b[0m \u001b[39mif\u001b[39;00m \u001b[39mgetattr\u001b[39m(y, \u001b[39m\"\u001b[39m\u001b[39mdtype\u001b[39m\u001b[39m\"\u001b[39m, \u001b[39mNone\u001b[39;00m) \u001b[39m!=\u001b[39m DOUBLE \u001b[39mor\u001b[39;00m \u001b[39mnot\u001b[39;00m y\u001b[39m.\u001b[39mflags\u001b[39m.\u001b[39mcontiguous:\n\u001b[1;32m    374\u001b[0m     y \u001b[39m=\u001b[39m np\u001b[39m.\u001b[39mascontiguousarray(y, dtype\u001b[39m=\u001b[39mDOUBLE)\n",
      "File \u001b[0;32m~/miniforge3/envs/NLP_env/lib/python3.8/site-packages/sklearn/ensemble/_forest.py:758\u001b[0m, in \u001b[0;36mForestClassifier._validate_y_class_weight\u001b[0;34m(self, y)\u001b[0m\n\u001b[1;32m    757\u001b[0m \u001b[39mdef\u001b[39;00m \u001b[39m_validate_y_class_weight\u001b[39m(\u001b[39mself\u001b[39m, y):\n\u001b[0;32m--> 758\u001b[0m     check_classification_targets(y)\n\u001b[1;32m    760\u001b[0m     y \u001b[39m=\u001b[39m np\u001b[39m.\u001b[39mcopy(y)\n\u001b[1;32m    761\u001b[0m     expanded_class_weight \u001b[39m=\u001b[39m \u001b[39mNone\u001b[39;00m\n",
      "File \u001b[0;32m~/miniforge3/envs/NLP_env/lib/python3.8/site-packages/sklearn/utils/multiclass.py:200\u001b[0m, in \u001b[0;36mcheck_classification_targets\u001b[0;34m(y)\u001b[0m\n\u001b[1;32m    192\u001b[0m y_type \u001b[39m=\u001b[39m type_of_target(y, input_name\u001b[39m=\u001b[39m\u001b[39m\"\u001b[39m\u001b[39my\u001b[39m\u001b[39m\"\u001b[39m)\n\u001b[1;32m    193\u001b[0m \u001b[39mif\u001b[39;00m y_type \u001b[39mnot\u001b[39;00m \u001b[39min\u001b[39;00m [\n\u001b[1;32m    194\u001b[0m     \u001b[39m\"\u001b[39m\u001b[39mbinary\u001b[39m\u001b[39m\"\u001b[39m,\n\u001b[1;32m    195\u001b[0m     \u001b[39m\"\u001b[39m\u001b[39mmulticlass\u001b[39m\u001b[39m\"\u001b[39m,\n\u001b[0;32m   (...)\u001b[0m\n\u001b[1;32m    198\u001b[0m     \u001b[39m\"\u001b[39m\u001b[39mmultilabel-sequences\u001b[39m\u001b[39m\"\u001b[39m,\n\u001b[1;32m    199\u001b[0m ]:\n\u001b[0;32m--> 200\u001b[0m     \u001b[39mraise\u001b[39;00m \u001b[39mValueError\u001b[39;00m(\u001b[39m\"\u001b[39m\u001b[39mUnknown label type: \u001b[39m\u001b[39m%r\u001b[39;00m\u001b[39m\"\u001b[39m \u001b[39m%\u001b[39m y_type)\n",
      "\u001b[0;31mValueError\u001b[0m: Unknown label type: 'continuous'"
     ]
    }
   ],
   "source": [
    "from sklearn.ensemble import RandomForestClassifier, AdaBoostClassifier\n",
    "from sklearn import metrics\n",
    "\n",
    "rfc = RandomForestClassifier(n_estimators=1000)\n",
    "\n",
    "rfc.fit(X_train, Y_train)\n",
    "score = rfc.score(X_test, Y_test)\n",
    "Y_pred = rfc.predict(X_test)\n",
    "\n",
    "print(metrics.classification_report(Y_test, Y_pred))\n"
   ]
  },
  {
   "cell_type": "code",
   "execution_count": 222,
   "metadata": {},
   "outputs": [
    {
     "name": "stdout",
     "output_type": "stream",
     "text": [
      "F2 score:  0.9126984126984127\n"
     ]
    }
   ],
   "source": [
    "from sklearn.metrics import fbeta_score\n",
    "\n",
    "\n",
    "f2_score = fbeta_score(Y_test, Y_pred, beta=2, average='macro')\n",
    "print('F2 score: ', f2_score)"
   ]
  },
  {
   "cell_type": "code",
   "execution_count": 82,
   "metadata": {},
   "outputs": [],
   "source": [
    "new_Y_data = []"
   ]
  },
  {
   "cell_type": "code",
   "execution_count": 76,
   "metadata": {},
   "outputs": [
    {
     "name": "stdout",
     "output_type": "stream",
     "text": [
      "                     2022\n",
      "85  -0.051724136025191325\n",
      "86   -0.02390602690140997\n",
      "87    -0.1525644085301101\n",
      "88    0.05288324693428659\n",
      "89    0.14358163060132378\n",
      "90   0.022336775697576527\n",
      "91                    NaN\n",
      "92   -0.08637918235815045\n",
      "93     0.1351140577858143\n",
      "94    0.23289603942402248\n",
      "                     2022\n",
      "85    0.23308270676691722\n",
      "86  0.0010526269898378793\n",
      "87   -0.06075189346657661\n",
      "88   -0.06781952363207822\n",
      "89    0.01097749408922688\n",
      "90   0.052766730550235286\n",
      "91   -0.14533315937255797\n",
      "92   -0.19809988992279315\n",
      "93    -0.2041340073921576\n",
      "94    -0.1368596240370693\n",
      "                     2022\n",
      "85  -0.030644177262782568\n",
      "86    0.07629768093131739\n",
      "87   0.009589307333061514\n",
      "88    0.16447778171502803\n",
      "89      0.332290978133841\n",
      "90   0.024680451862564956\n",
      "91    0.13772586718582858\n",
      "92    0.06721020637444464\n",
      "93     0.2309387240098537\n",
      "94    0.40832962413296126\n",
      "                    2021\n",
      "85  -0.15756704419921852\n",
      "86  -0.17900078028648514\n",
      "87  -0.32570602005055616\n",
      "88  -0.34482259697285966\n",
      "89   -0.2472122049976786\n",
      "90  -0.19185891280815015\n",
      "91  -0.21242017250825507\n",
      "92   -0.3531536648809277\n",
      "93    -0.371492087126876\n",
      "94   -0.2778549997493259\n",
      "                     2021\n",
      "85    0.05694442325168181\n",
      "86   -0.06041664547390413\n",
      "87  -0.017222192552354576\n",
      "88   -0.10194439358181429\n",
      "89   -0.14111110899183488\n",
      "90   0.020380753630304893\n",
      "91   -0.09292035579288727\n",
      "92  -0.051220160914954405\n",
      "93    -0.1330115034244298\n",
      "94   -0.17082329532957896\n",
      "                     2021\n",
      "85   -0.13040375445961683\n",
      "86   -0.09631830052602952\n",
      "87  -0.040973836974874334\n",
      "88   -0.13491687674685504\n",
      "89   -0.07505938151885116\n",
      "90   -0.11248483368844697\n",
      "91   -0.07769701408617424\n",
      "92  -0.021212121212121238\n",
      "93   -0.11709095348011367\n",
      "94  -0.056000033291903395\n",
      "                   2021\n",
      "85   0.1190732293119543\n",
      "86   0.4106184270077531\n",
      "87   0.3323615815663896\n",
      "88   0.2943072095146291\n",
      "89   0.3107258028073645\n",
      "90  0.07566367289838882\n",
      "91   0.3558996484852277\n",
      "92   0.2806784354385585\n",
      "93   0.2441002164812469\n",
      "94  0.25988192218423034\n",
      "                     2020\n",
      "85  -0.001987005222882754\n",
      "86    0.03522400183237773\n",
      "87    0.19653174012761054\n",
      "88     0.3173771586183629\n",
      "89      0.660585247319996\n",
      "90   -0.15713199957633872\n",
      "91    -0.1257055880220257\n",
      "92   0.010526236153900692\n",
      "93    0.11258576521485097\n",
      "94     0.4024408241840738\n",
      "                   2020\n",
      "85  0.22859589097020683\n",
      "86   0.3604451993277249\n",
      "87  0.34760268491973134\n",
      "88   0.3279109438044159\n",
      "89   0.7226027665699275\n",
      "90  0.12992130684922154\n",
      "91  0.25118114818634796\n",
      "92  0.23937007933143684\n",
      "93  0.22125987888335996\n",
      "94   0.5842520583783857\n",
      "                    2020\n",
      "85               0.15625\n",
      "86    0.4962500333786011\n",
      "87                   0.5\n",
      "88    0.7937500476837158\n",
      "89    0.9862500429153442\n",
      "90  -0.10454984817837121\n",
      "91   0.15876092501793337\n",
      "92    0.1616650618226536\n",
      "93    0.3891578400245943\n",
      "94    0.5382381859323344\n",
      "                    2019\n",
      "85    0.2696034681142574\n",
      "86   0.35770919202529994\n",
      "87   0.28634360271088855\n",
      "88    0.3030836532833536\n",
      "89   0.48017609448618304\n",
      "90   0.01837457497464179\n",
      "91    0.0890459549717435\n",
      "92  0.031802174916679915\n",
      "93     0.045229707461238\n",
      "94   0.18727913003332808\n",
      "                   2019\n",
      "85    0.458806891109764\n",
      "86   0.5980113722953546\n",
      "87   0.4786931681562183\n",
      "88   0.5284091317025592\n",
      "89   1.1306818297271395\n",
      "90    0.283750057220459\n",
      "91              0.40625\n",
      "92  0.30124998092651367\n",
      "93   0.3450000286102295\n",
      "94                0.875\n",
      "                   2019\n",
      "85                  NaN\n",
      "86                  NaN\n",
      "87  0.03605105833784039\n",
      "88  0.24607133868353626\n",
      "89   0.6139766447642458\n",
      "90                  NaN\n",
      "91                  NaN\n",
      "92  0.03605105833784039\n",
      "93  0.24607133868353626\n",
      "94   0.6139766447642458\n",
      "   2019\n",
      "85  NaN\n",
      "86  NaN\n",
      "87  NaN\n",
      "88  NaN\n",
      "89  0.0\n",
      "90  NaN\n",
      "91  NaN\n",
      "92  NaN\n",
      "93  NaN\n",
      "94  0.0\n",
      "   2018\n",
      "85  NaN\n",
      "86  NaN\n",
      "87  NaN\n",
      "88  NaN\n",
      "89  NaN\n",
      "90  NaN\n",
      "91  NaN\n",
      "92  NaN\n",
      "93  NaN\n",
      "94  NaN\n",
      "   2018\n",
      "85  NaN\n",
      "86  NaN\n",
      "87  NaN\n",
      "88  NaN\n",
      "89  NaN\n",
      "90  NaN\n",
      "91  NaN\n",
      "92  NaN\n",
      "93  NaN\n",
      "94  NaN\n",
      "   2018\n",
      "85  NaN\n",
      "86  NaN\n",
      "87  NaN\n",
      "88  NaN\n",
      "89  NaN\n",
      "90  NaN\n",
      "91  NaN\n",
      "92  NaN\n",
      "93  NaN\n",
      "94  NaN\n",
      "   2018\n",
      "85  NaN\n",
      "86  NaN\n",
      "87  NaN\n",
      "88  NaN\n",
      "89  NaN\n",
      "90  NaN\n",
      "91  NaN\n",
      "92  NaN\n",
      "93  NaN\n",
      "94  NaN\n",
      "   2017\n",
      "85  NaN\n",
      "86  NaN\n",
      "87  NaN\n",
      "88  NaN\n",
      "89  NaN\n",
      "90  NaN\n",
      "91  NaN\n",
      "92  NaN\n",
      "93  NaN\n",
      "94  NaN\n",
      "   2017\n",
      "85  NaN\n",
      "86  NaN\n",
      "87  NaN\n",
      "88  NaN\n",
      "89  NaN\n",
      "90  NaN\n",
      "91  NaN\n",
      "92  NaN\n",
      "93  NaN\n",
      "94  NaN\n",
      "   2017\n",
      "85  NaN\n",
      "86  NaN\n",
      "87  NaN\n",
      "88  NaN\n",
      "89  NaN\n",
      "90  NaN\n",
      "91  NaN\n",
      "92  NaN\n",
      "93  NaN\n",
      "94  NaN\n",
      "   2017\n",
      "85  NaN\n",
      "86  NaN\n",
      "87  NaN\n",
      "88  NaN\n",
      "89  NaN\n",
      "90  NaN\n",
      "91  NaN\n",
      "92  NaN\n",
      "93  NaN\n",
      "94  NaN\n",
      "   2016\n",
      "85  NaN\n",
      "86  NaN\n",
      "87  NaN\n",
      "88  NaN\n",
      "89  NaN\n",
      "90  NaN\n",
      "91  NaN\n",
      "92  NaN\n",
      "93  NaN\n",
      "94  NaN\n",
      "   2016\n",
      "85  NaN\n",
      "86  NaN\n",
      "87  NaN\n",
      "88  NaN\n",
      "89  NaN\n",
      "90  NaN\n",
      "91  NaN\n",
      "92  NaN\n",
      "93  NaN\n",
      "94  NaN\n",
      "   2016\n",
      "85  NaN\n",
      "86  NaN\n",
      "87  NaN\n",
      "88  NaN\n",
      "89  NaN\n",
      "90  NaN\n",
      "91  NaN\n",
      "92  NaN\n",
      "93  NaN\n",
      "94  NaN\n",
      "   2016\n",
      "85  NaN\n",
      "86  NaN\n",
      "87  NaN\n",
      "88  NaN\n",
      "89  NaN\n",
      "90  NaN\n",
      "91  NaN\n",
      "92  NaN\n",
      "93  NaN\n",
      "94  NaN\n",
      "   2015\n",
      "85  NaN\n",
      "86  NaN\n",
      "87  NaN\n",
      "88  NaN\n",
      "89  NaN\n",
      "90  NaN\n",
      "91  NaN\n",
      "92  NaN\n",
      "93  NaN\n",
      "94  NaN\n",
      "   2015\n",
      "85  NaN\n",
      "86  NaN\n",
      "87  NaN\n",
      "88  NaN\n",
      "89  NaN\n",
      "90  NaN\n",
      "91  NaN\n",
      "92  NaN\n",
      "93  NaN\n",
      "94  NaN\n",
      "   2015\n",
      "85  NaN\n",
      "86  NaN\n",
      "87  NaN\n",
      "88  NaN\n",
      "89  NaN\n",
      "90  NaN\n",
      "91  NaN\n",
      "92  NaN\n",
      "93  NaN\n",
      "94  NaN\n",
      "   2015\n",
      "85  NaN\n",
      "86  NaN\n",
      "87  NaN\n",
      "88  NaN\n",
      "89  NaN\n",
      "90  NaN\n",
      "91  NaN\n",
      "92  NaN\n",
      "93  NaN\n",
      "94  NaN\n"
     ]
    }
   ],
   "source": [
    "# 0.05232749576968998\n",
    "arr = [[2,3,4], [5,None,3]]\n",
    "a = remove_none_types(Y_data)\n",
    "# print(a)"
   ]
  }
 ],
 "metadata": {
  "kernelspec": {
   "display_name": "Python 3.8.13 ('NLP_env')",
   "language": "python",
   "name": "python3"
  },
  "language_info": {
   "codemirror_mode": {
    "name": "ipython",
    "version": 3
   },
   "file_extension": ".py",
   "mimetype": "text/x-python",
   "name": "python",
   "nbconvert_exporter": "python",
   "pygments_lexer": "ipython3",
   "version": "3.8.13"
  },
  "orig_nbformat": 4,
  "vscode": {
   "interpreter": {
    "hash": "6271ad5a9cfee5fbc27e23facc018ff52eb81071ca31a423a1af489ce9841234"
   }
  }
 },
 "nbformat": 4,
 "nbformat_minor": 2
}
