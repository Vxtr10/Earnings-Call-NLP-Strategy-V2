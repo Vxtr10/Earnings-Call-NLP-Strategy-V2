{
 "cells": [
  {
   "cell_type": "code",
   "execution_count": null,
   "metadata": {},
   "outputs": [],
   "source": []
  },
  {
   "cell_type": "markdown",
   "metadata": {},
   "source": [
    "inspired from https://www.spglobal.com/marketintelligence/en/news-insights/blog/analyzing-sentiment-in-quarterly-earnings-calls-q2-2022\n",
    "\n",
    "USE DICTIONARY??\n",
    "\n",
    "able to search for the current quarter sentiment\n",
    "--------------------------------------------------------------------------------------------------------------------\n",
    "[on a seperate .csv file in every sector folder]\n",
    "\n",
    "[PER QUARTER]:\n",
    "\n",
    "average of net sentiment of each sector in that quarter\n",
    "average net word complexity of each sector in that quarter\n",
    "\n",
    "average sentiment of each sector (from forward looking statements)\n",
    "average sentiment of each sector (from non specific forward looking statements)\n",
    "average sentiment of each sector (from forward looking statements)\n",
    "\n",
    "average TF-IDF change (similarity change) in that quarter\n",
    "\n",
    "number of firms that beat EPS\n",
    "number of firms that didn't beat EPS\n",
    "\n"
   ]
  }
 ],
 "metadata": {
  "kernelspec": {
   "display_name": "Python 3.8.13 ('NLP_env')",
   "language": "python",
   "name": "python3"
  },
  "language_info": {
   "name": "python",
   "version": "3.8.13"
  },
  "orig_nbformat": 4,
  "vscode": {
   "interpreter": {
    "hash": "6271ad5a9cfee5fbc27e23facc018ff52eb81071ca31a423a1af489ce9841234"
   }
  }
 },
 "nbformat": 4,
 "nbformat_minor": 2
}
